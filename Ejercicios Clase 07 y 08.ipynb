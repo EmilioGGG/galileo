{
 "cells": [
  {
   "cell_type": "markdown",
   "id": "central-turkey",
   "metadata": {},
   "source": [
    "# Ejercicio 1\n",
    "**Ejercicio**: Investigar y ejemplificar diferencias entre np.array y np.matrix"
   ]
  },
  {
   "cell_type": "markdown",
   "id": "cellular-canyon",
   "metadata": {},
   "source": [
    "Para poder enumerar las diferencias entre np.array y np. matrix primero vamos a definir que son cada uno de ellos:\n",
    "\n",
    "### Array: \n",
    "En ciencia de datos se define como  a una forma de almacenar data en las dimensiones que se requieran, que contiene filas y columnas, y muy importante en Numpy todos los elementos son del mismo tipo\n",
    "\n",
    "### Matriz:\n",
    "Las matrices lass definimos como objetos de 2 dimensiones que en numpu puede decirse que son una sublase de array(narray), por lo que puede heredar todos sus atributos y objetos.\n",
    "\n",
    "#### Ventajas de cada uno:\n",
    "La principal ventaja de utilizar matrices es que ellos permiten o proveen una forma facil de multiplicar matrices, cosa que los array es más complejo. Una ventaja de utilizar arrays es que estos nos permiten ir más allá de solo 2 dimensiones, ya que en ciencia de datos es muy común utilizar más dimensiones cuando se está trabajando.\n",
    "\n"
   ]
  },
  {
   "cell_type": "markdown",
   "id": "seventh-accommodation",
   "metadata": {},
   "source": [
    "Array es muy general y matrix permite mas operaciones"
   ]
  },
  {
   "cell_type": "markdown",
   "id": "meaningful-abraham",
   "metadata": {},
   "source": [
    "## **Ejercicio aplicado en DS** \n",
    "Se tiene una red neuronal sencilla(y simplificada) como la de la siguiente imagen:\n",
    "<img src=\"https://www.oreilly.com/library/view/practical-convolutional-neural/9781788392303/assets/246151fb-7893-448d-b9bb-7a87b387a24b.png\">\n",
    "\n",
    "Donde:\n",
    "* INPUT LAYER: un vector X de tamaño = 2 que representa los datos de entrada\n",
    "* HIDDEN_LAYER :capa oculta con 2 neuronas definidas por los vectores:\n",
    "    * HL1 = [0.25,0.37]\n",
    "    * HL2 = [-8,14]\n",
    "* OUTPUT_LAYER = capa de salida definida por el vector [4,9]\n",
    "\n",
    "Crear una funcion neural_network(X) para calcular:\n",
    "* Calcule la salida de cada neurona en la capa intermedia aplicada a la capa de entrada.\n",
    "* Use el resultado del paso anterior como entrada para la neurona en la capa de salida\n",
    "\n",
    "Utilizando multiplicación de matrices se debe calcular para cada fila de la matriz de entrada X el valor de las neuronas de la capa intermedia, esto producirá una nueva matriz con el mismo número de filas que X y 2 columnas(1 para cada neurona) , a  los valores de esta matriz se les debe aplicar la función \"sigmoid\"(descrita a continuación) para limitarlos al intervalo de 0 a 1, esto produce una matriz del mismo tamaño pero con valores entre 0 a 1, esta matriz se multiplica matricialmente por la matriz que representa los pesos de la capa de salida  y este proceso produce un nuevo tensor al cual se debe aplicar nuevamente la función sigmoid. El resultado debe ser un tensor con el mismo número de filas que la matriz X y una sola columna(una predicción para cada fila de X.\n",
    "\n",
    "<img src=\"https://cdn-images-1.medium.com/max/1600/1*Xu7B5y9gp0iL5ooBj7LtWw.png\">"
   ]
  },
  {
   "cell_type": "code",
   "execution_count": 3,
   "id": "interior-thousand",
   "metadata": {},
   "outputs": [],
   "source": [
    "#Utilizar matmul para este ejercicio. en lugar de producto punto.\n",
    "#detenerse a analizar despacio lo que mencionamos de producto punto en filas y columnass de matrices.\n",
    "import numpy as np\n",
    "def sigmoid(x): #convertir los valores de x al rango de 0 a 1\n",
    "    \n",
    "    return 1/(1+np.exp(-x))"
   ]
  },
  {
   "cell_type": "code",
   "execution_count": 4,
   "id": "criminal-fifth",
   "metadata": {},
   "outputs": [
    {
     "name": "stdout",
     "output_type": "stream",
     "text": [
      "[[0.99995577]\n",
      " [0.99999332]]\n"
     ]
    }
   ],
   "source": [
    "H1_W = np.array([[0.25,-8],\n",
    "                 [0.37,14]])\n",
    "OL_W = np.array([[4],[9]])\n",
    "\n",
    "X =  np.array([[0.1,0.2],\n",
    "               [1,2]])\n",
    "\n",
    "H1 = np.matmul(X,H1_W)\n",
    "H1 = sigmoid(H1)  # funcion de activacion: convertir a valores en el intervalo de 0 a 1\n",
    "OL = np.matmul(H1,OL_W)\n",
    "OL = sigmoid(OL)  # funcion de activacion: convertir a valores en el intervalo de 0 a 1\n",
    "\n",
    "\n",
    "print(OL)"
   ]
  },
  {
   "cell_type": "markdown",
   "id": "through-acting",
   "metadata": {},
   "source": [
    "### Ejercicio \n",
    "\n",
    "Implementar en una funcion neural_network(X) la red neuronal definida por la siguiente arquitectura:\n",
    "\n",
    "<img src=\"http://i.imgur.com/UNlffE1.png\">\n",
    "\n",
    "Podemos validar si fue correctamente implementada si usamos como entrada el vector x=[1,1] . Debemos obtener el resultado mostrado en la imagen.\n",
    "\n",
    "Una vez tenemos la implementacion correcta, cambiar la funcion de activacion de la capa de salida por la funcion de activacion ReLu(https://en.wikipedia.org/wiki/Rectifier_(neural_networks)):\n",
    "\n",
    "<img src=\"https://cdn-images-1.medium.com/max/1600/1*DfMRHwxY1gyyDmrIAd-gjQ.png\">\n",
    "\n",
    "Luego evaluar la red neuronal sobre la matriz de datos X(de manera vectorizada):"
   ]
  },
  {
   "cell_type": "code",
   "execution_count": 6,
   "id": "featured-circuit",
   "metadata": {},
   "outputs": [],
   "source": [
    "X = np.array([\n",
    "    [0.1,2],\n",
    "    [0.3,0.45],\n",
    "    [5,9],\n",
    "    [12,6],\n",
    "    [7,5],\n",
    "    [0.3,0.8],\n",
    "    [12,5],\n",
    "    [100,200],\n",
    "    [7,8],\n",
    "    [300,1500]])"
   ]
  },
  {
   "cell_type": "code",
   "execution_count": 7,
   "id": "ranging-favor",
   "metadata": {},
   "outputs": [
    {
     "name": "stdout",
     "output_type": "stream",
     "text": [
      "[0.01 0.01 0.01 0.01]\n"
     ]
    }
   ],
   "source": [
    "y = np.array([100,200,300,800])\n",
    "x = np.array([1,2,3,8])\n",
    "unos = np.array([1,1,1,1])\n",
    "\n",
    "\n",
    "#y_aprox = mx + b*(1)\n",
    "\n",
    "parametros = np.array([100,0.01])\n",
    "x_modificado = np.vstack((x,unos)).T\n",
    "y_aprox = np.matmul(x_modificado,parametros)\n",
    "\n",
    "print(y_aprox -y)\n"
   ]
  },
  {
   "cell_type": "code",
   "execution_count": null,
   "id": "decent-commander",
   "metadata": {},
   "outputs": [],
   "source": []
  }
 ],
 "metadata": {
  "kernelspec": {
   "display_name": "Python 3",
   "language": "python",
   "name": "python3"
  },
  "language_info": {
   "codemirror_mode": {
    "name": "ipython",
    "version": 3
   },
   "file_extension": ".py",
   "mimetype": "text/x-python",
   "name": "python",
   "nbconvert_exporter": "python",
   "pygments_lexer": "ipython3",
   "version": "3.8.5"
  }
 },
 "nbformat": 4,
 "nbformat_minor": 5
}
