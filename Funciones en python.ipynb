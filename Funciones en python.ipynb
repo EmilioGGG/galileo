{
 "cells": [
  {
   "cell_type": "markdown",
   "id": "short-gasoline",
   "metadata": {},
   "source": [
    "# Funciones en Python:\n",
    "\n",
    "### Funciones en Python: \n",
    "Las funciones trabajan de la misma manera que en otros lenguajes de programación, a grandes rasgos, esta recibe información, trabaja con esa informacion recibida y devuelve el resultado por el cual se invocó a la función.\n",
    "\n",
    "Los objetivos de las sfunciones son dividir el codigno y organizar el mismo en estructuras máss entendibles y que un código que tiende a ser muy repetitivo solamente se escriba una vez y se pueda reutilizar cuantas veces sea necesario.\n",
    "\n",
    "Python tiene funciones las cuales se pueden utilizar en nuestros programas, por ejemplo la función __print()__ o la función __len()__ las cuales ya las trae python para poder ser utilizadas.\n",
    "\n",
    "Las funciones tienen una estructura especifica, están compuestas de parametos, código interno de la función y el valor a retornar.\n",
    "\n",
    "## Estructura de una función: \n",
    "#### Parámetros: \n",
    "Son los valores de entrada que recibe la función.\n",
    "\n",
    "#### Código interno de la función:\n",
    "Es la programación y/o operaciones que realiza la función, \"resuelve el problema\" por el cual fue invocada la función, almacenando el resultado en una variable.\n",
    "\n",
    "#### Resultado:\n",
    "Cuando se invoca una función se puede decir que se le envian datos para que esta los resuelva y esta nos devuelve un resultado, este valor es lo que nos entrega la función.\n"
   ]
  },
  {
   "cell_type": "code",
   "execution_count": 60,
   "id": "desperate-creation",
   "metadata": {},
   "outputs": [],
   "source": [
    "def nombre_funcion(parametro1, parametro2):\n",
    "# def --> palabra reservada para definir que estámos trabajando una función.\n",
    "# nombre_función --> es el nombre con el cual nombramos a la función y en base a este se puede invocar la misma.\n",
    "# (parámetro 1, parámetro 2) --> son las variables donde se almacenan los parametros o la información enviada a la \n",
    "# función.\n",
    "\n",
    "#-----------------Código de la función ----------------------#\n",
    "    if parametro1 > parametro2:\n",
    "        valor_retornar = parametro1 + parametro2\n",
    "    else:\n",
    "        valor_retornar = parametro1 * parametro2\n",
    "    \n",
    "# En este segmento se coloca las operaciones que queremos que realice nuestra función, en este caso la función \n",
    "# tiene un if, si el primer parametro es mayor al segundo entonces se hace una suma, sino se hacer una multiplicación\n",
    "\n",
    "    return valor_retornar\n",
    "# Palabra reservada return, que retorna el valor por el cual llamamos a la función, el resultado de nuestras \n",
    "# operaciones."
   ]
  },
  {
   "cell_type": "code",
   "execution_count": 61,
   "id": "outside-germany",
   "metadata": {},
   "outputs": [
    {
     "data": {
      "text/plain": [
       "50"
      ]
     },
     "execution_count": 61,
     "metadata": {},
     "output_type": "execute_result"
    }
   ],
   "source": [
    "# En este ejemplo vamos a enviar 2 valores y dependiendo de la programación de la función nos devolverá un valor.\n",
    "valor1 = 5\n",
    "valor2 = 10\n",
    "nombre_funcion(valor1, valor2)\n",
    "# el número que nos retornará será 50, esto debido a que en la función hace una validación de que numeró es mayor\n",
    "# cuando el segundo número es mayor hace una multiplicación de los dos valores envidos.\n"
   ]
  },
  {
   "cell_type": "markdown",
   "id": "integral-restriction",
   "metadata": {},
   "source": [
    "### Parámetros Posicionales:\n",
    "Es una caracteristica de python, \n",
    "se utiliza un operador que indica que un conjunto de parametros son unicamente posicionales, es decir que cuando un parametro es posicional __obligatoriamente__ se tiene que enviar el parametro al momento de llamar la función\n",
    "\n"
   ]
  },
  {
   "cell_type": "code",
   "execution_count": 62,
   "id": "emerging-hospital",
   "metadata": {},
   "outputs": [
    {
     "ename": "TypeError",
     "evalue": "nombre_funcion() missing 1 required positional argument: 'parametro2'",
     "output_type": "error",
     "traceback": [
      "\u001b[1;31m---------------------------------------------------------------------------\u001b[0m",
      "\u001b[1;31mTypeError\u001b[0m                                 Traceback (most recent call last)",
      "\u001b[1;32m<ipython-input-62-309f627e5216>\u001b[0m in \u001b[0;36m<module>\u001b[1;34m\u001b[0m\n\u001b[0;32m      3\u001b[0m \u001b[0mvalor1\u001b[0m \u001b[1;33m=\u001b[0m \u001b[1;36m5\u001b[0m\u001b[1;33m\u001b[0m\u001b[1;33m\u001b[0m\u001b[0m\n\u001b[0;32m      4\u001b[0m \u001b[0mvalor2\u001b[0m \u001b[1;33m=\u001b[0m \u001b[1;36m10\u001b[0m\u001b[1;33m\u001b[0m\u001b[1;33m\u001b[0m\u001b[0m\n\u001b[1;32m----> 5\u001b[1;33m \u001b[0mnombre_funcion\u001b[0m\u001b[1;33m(\u001b[0m\u001b[0mvalor2\u001b[0m\u001b[1;33m)\u001b[0m\u001b[1;33m\u001b[0m\u001b[1;33m\u001b[0m\u001b[0m\n\u001b[0m\u001b[0;32m      6\u001b[0m \u001b[1;31m#Al no colocar los parametros posicionales nos dará error el programa:\u001b[0m\u001b[1;33m\u001b[0m\u001b[1;33m\u001b[0m\u001b[1;33m\u001b[0m\u001b[0m\n",
      "\u001b[1;31mTypeError\u001b[0m: nombre_funcion() missing 1 required positional argument: 'parametro2'"
     ]
    }
   ],
   "source": [
    "# Basandonos en el ejemplo anterior intentemos llamar a la función pero sin enviar parametros,\n",
    "# esto nos mostrará un error:\n",
    "valor1 = 5\n",
    "valor2 = 10\n",
    "nombre_funcion(valor2) \n",
    "#Al no colocar los parametros posicionales nos dará error el programa:"
   ]
  },
  {
   "cell_type": "code",
   "execution_count": 63,
   "id": "asian-quest",
   "metadata": {},
   "outputs": [
    {
     "data": {
      "text/plain": [
       "50"
      ]
     },
     "execution_count": 63,
     "metadata": {},
     "output_type": "execute_result"
    }
   ],
   "source": [
    "# Si llamamos a la función de forma correcta no tendrémos nungún error:\n",
    "valor1 = 5\n",
    "valor2 = 10\n",
    "nombre_funcion(valor1, valor2) "
   ]
  },
  {
   "cell_type": "markdown",
   "id": "average-budapest",
   "metadata": {},
   "source": [
    "### parámetros Nombrados\n",
    "Cuando se llama a una función se puede modificar el orden de los valores con los cuales se llama __siempre y cuando la función esté definida que se puede invocar de esta manera__ \n",
    "Los parametros nombrados en la función siempre son definidos despues de los parámetros posicionales."
   ]
  },
  {
   "cell_type": "code",
   "execution_count": 64,
   "id": "willing-tracy",
   "metadata": {},
   "outputs": [],
   "source": [
    "# Ejemplo de parámetros Nombrados:\n",
    "def calculo_equipo(equipo,goles_anotados,goles_recibidos):\n",
    "    efectividad = goles_anotados - goles_recibidos\n",
    "    if efectividad > 0:\n",
    "        print(equipo,\" tiene un saldo a favor en goles\")\n",
    "    else:\n",
    "        print(equipo, \" tiene un saldo negativo en goles\")\n",
    "    "
   ]
  },
  {
   "cell_type": "code",
   "execution_count": 65,
   "id": "decent-swing",
   "metadata": {},
   "outputs": [
    {
     "name": "stdout",
     "output_type": "stream",
     "text": [
      "Mictlan  tiene un saldo a favor en goles\n",
      "Cobán Imperial  tiene un saldo negativo en goles\n"
     ]
    }
   ],
   "source": [
    "# Aqui enviamos los parametros a la función de forma posicional\n",
    "calculo_equipo(\"Mictlan\", 10,5)\n",
    "# Aqui enviamos los parametros a la función de forma nombrada\n",
    "calculo_equipo(equipo = \"Cobán Imperial\", goles_anotados = 51, goles_recibidos = 72)\n"
   ]
  },
  {
   "cell_type": "markdown",
   "id": "broadband-idaho",
   "metadata": {},
   "source": [
    "### Retorno de multiples valores:\n",
    "En phyton una función puede retornar más de un valor, siguiento con el ejemplo anterior y valiendonos de este retornaremos dos resultados, si se cumple una condición retornamos suma y resta, sino multiplicación y división.\n"
   ]
  },
  {
   "cell_type": "code",
   "execution_count": 66,
   "id": "aware-advancement",
   "metadata": {},
   "outputs": [],
   "source": [
    "def nombre_funcion(parametro1, parametro2):\n",
    "\n",
    "\n",
    "#-----------------Código de la función ----------------------#\n",
    "    if parametro1 > parametro2:\n",
    "        valor_retornar1 = parametro1 + parametro2\n",
    "        valor_retornar2 = parametro1 - parametro2\n",
    "    else:\n",
    "        valor_retornar1 = parametro1 * parametro2\n",
    "        valor_retornar2 = parametro1 / parametro2\n",
    "    \n",
    "\n",
    "\n",
    "    return valor_retornar1, valor_retornar2\n"
   ]
  },
  {
   "cell_type": "code",
   "execution_count": 67,
   "id": "random-anxiety",
   "metadata": {},
   "outputs": [
    {
     "name": "stdout",
     "output_type": "stream",
     "text": [
      "50\n",
      "0.5\n"
     ]
    }
   ],
   "source": [
    "valor1 = 5\n",
    "valor2 = 10\n",
    "\n",
    "# en la siguiente linea se asignan las dos variables a lo que nos retornará la función.\n",
    "val1, val2 = nombre_funcion(valor1, valor2)\n",
    "\n",
    "# Imprimimos el resultado para mostrar los dos valores retornados\n",
    "\n",
    "print(val1)\n",
    "print(val2)"
   ]
  },
  {
   "cell_type": "markdown",
   "id": "cheap-railway",
   "metadata": {},
   "source": [
    "# Funciones como objetos y como parámetros de otras funciones:"
   ]
  },
  {
   "cell_type": "markdown",
   "id": "ethical-bankruptcy",
   "metadata": {},
   "source": [
    "Python nos permite utilizar las funciones como parametros de entrada de otras funciones, es decir, el resultado de una función lo podemos utilizar dentro de otra función, esto con el objetivo de que nuestro programa sea máss eficiente y no repetir código.\n",
    "\n",
    "El siguiente ejemplo nos muestra como podemos utilizar una función como parámetro de otra función:\n"
   ]
  },
  {
   "cell_type": "code",
   "execution_count": 68,
   "id": "dress-inclusion",
   "metadata": {},
   "outputs": [],
   "source": [
    "def multiplicacion(num):\n",
    "    return num * num\n",
    "\n",
    "def raiz_numero(num):\n",
    "    return num ** 0.5\n",
    "\n",
    "# El primer argumento indica que estará recibiendo una función\n",
    "# El segundo argumento indica que estará recibiendo un número indeterminado de arguumentos.\n",
    "def operacion(func, *args):\n",
    "    for x in args:\n",
    "        print(func(x))"
   ]
  },
  {
   "cell_type": "code",
   "execution_count": 69,
   "id": "owned-episode",
   "metadata": {},
   "outputs": [
    {
     "name": "stdout",
     "output_type": "stream",
     "text": [
      "100\n",
      "400\n",
      "900\n",
      "16\n",
      "25\n"
     ]
    }
   ],
   "source": [
    "# en este código llamamos a las funciones que declaramos anteriormente:\n",
    "operacion(multiplicacion, 10,20,30,4,5)"
   ]
  },
  {
   "cell_type": "code",
   "execution_count": 70,
   "id": "satellite-anchor",
   "metadata": {},
   "outputs": [
    {
     "name": "stdout",
     "output_type": "stream",
     "text": [
      "3.1622776601683795\n",
      "4.47213595499958\n",
      "5.477225575051661\n",
      "2.0\n",
      "2.23606797749979\n"
     ]
    }
   ],
   "source": [
    "# en este código llamamos a las funciones que declaramos anteriormente:\n",
    "operacion(raiz_numero, 10,20,30,4,5)"
   ]
  },
  {
   "cell_type": "markdown",
   "id": "recreational-criminal",
   "metadata": {},
   "source": [
    "# funciones anónimas o lambda\n",
    "Este tipo de funciones no se definen con la palabra reservada __\"def\"__ en su lugar estas funciones se definen como una linea que ejecuta una sola expresión, lo que hace que nuestro código sea más entendible y eficiente.\n",
    "Este tipo de funciones puede tomar cualquier cualquioer número de argumentos o parametros, pero solo pueden tener una única expresión.\n",
    "Pra demostrar como cambia la sintaxis de una función lambda respecto a una función normal tenemos el siguiente ejemplo:\n",
    "\n"
   ]
  },
  {
   "cell_type": "code",
   "execution_count": 71,
   "id": "settled-client",
   "metadata": {},
   "outputs": [
    {
     "data": {
      "text/plain": [
       "<function __main__.<lambda>(val1, val2)>"
      ]
     },
     "execution_count": 71,
     "metadata": {},
     "output_type": "execute_result"
    }
   ],
   "source": [
    "# Función \"normal\"\n",
    "def funcion_normal(val1, val2):\n",
    "    return(val1 / val2)\n",
    "\n",
    "# Función Lambda\n",
    "lambda val1,val2 : val1 / val2"
   ]
  },
  {
   "cell_type": "code",
   "execution_count": 72,
   "id": "light-spirituality",
   "metadata": {},
   "outputs": [],
   "source": [
    "# Así utilizamos la funcion , asignandola a una variable\n",
    "variable_lambda = lambda val1,val2 : val1 / val2\n",
    "\n",
    "#esta variable la podemos llamar desde cualquier parte de nuestro código y nos entregará el resultado esperado."
   ]
  }
 ],
 "metadata": {
  "kernelspec": {
   "display_name": "Python 3",
   "language": "python",
   "name": "python3"
  },
  "language_info": {
   "codemirror_mode": {
    "name": "ipython",
    "version": 3
   },
   "file_extension": ".py",
   "mimetype": "text/x-python",
   "name": "python",
   "nbconvert_exporter": "python",
   "pygments_lexer": "ipython3",
   "version": "3.8.5"
  }
 },
 "nbformat": 4,
 "nbformat_minor": 5
}
