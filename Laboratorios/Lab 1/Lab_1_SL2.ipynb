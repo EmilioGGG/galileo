{
 "cells": [
  {
   "cell_type": "code",
   "execution_count": 140,
   "id": "certified-novel",
   "metadata": {},
   "outputs": [],
   "source": [
    "import numpy as np\n",
    "from sklearn.mixture import GaussianMixture\n",
    "from scipy.stats import multivariate_normal\n",
    "import matplotlib.pyplot as plt\n",
    "import pandas as pd\n",
    "import random as rd\n",
    "from sklearn.mixture import GaussianMixture"
   ]
  },
  {
   "cell_type": "code",
   "execution_count": 141,
   "id": "medical-november",
   "metadata": {},
   "outputs": [],
   "source": [
    "data = pd.read_csv('estaturas_normales.csv')"
   ]
  },
  {
   "cell_type": "code",
   "execution_count": 142,
   "id": "hourly-glance",
   "metadata": {},
   "outputs": [
    {
     "data": {
      "text/html": [
       "<div>\n",
       "<style scoped>\n",
       "    .dataframe tbody tr th:only-of-type {\n",
       "        vertical-align: middle;\n",
       "    }\n",
       "\n",
       "    .dataframe tbody tr th {\n",
       "        vertical-align: top;\n",
       "    }\n",
       "\n",
       "    .dataframe thead th {\n",
       "        text-align: right;\n",
       "    }\n",
       "</style>\n",
       "<table border=\"1\" class=\"dataframe\">\n",
       "  <thead>\n",
       "    <tr style=\"text-align: right;\">\n",
       "      <th></th>\n",
       "      <th>Estatura(metros)</th>\n",
       "      <th>Edad(anios)</th>\n",
       "    </tr>\n",
       "  </thead>\n",
       "  <tbody>\n",
       "    <tr>\n",
       "      <th>count</th>\n",
       "      <td>42.000000</td>\n",
       "      <td>42.00000</td>\n",
       "    </tr>\n",
       "    <tr>\n",
       "      <th>mean</th>\n",
       "      <td>1.731190</td>\n",
       "      <td>29.00000</td>\n",
       "    </tr>\n",
       "    <tr>\n",
       "      <th>std</th>\n",
       "      <td>0.076516</td>\n",
       "      <td>6.24695</td>\n",
       "    </tr>\n",
       "    <tr>\n",
       "      <th>min</th>\n",
       "      <td>1.550000</td>\n",
       "      <td>21.00000</td>\n",
       "    </tr>\n",
       "    <tr>\n",
       "      <th>25%</th>\n",
       "      <td>1.665000</td>\n",
       "      <td>25.00000</td>\n",
       "    </tr>\n",
       "    <tr>\n",
       "      <th>50%</th>\n",
       "      <td>1.730000</td>\n",
       "      <td>27.00000</td>\n",
       "    </tr>\n",
       "    <tr>\n",
       "      <th>75%</th>\n",
       "      <td>1.777500</td>\n",
       "      <td>32.00000</td>\n",
       "    </tr>\n",
       "    <tr>\n",
       "      <th>max</th>\n",
       "      <td>1.900000</td>\n",
       "      <td>53.00000</td>\n",
       "    </tr>\n",
       "  </tbody>\n",
       "</table>\n",
       "</div>"
      ],
      "text/plain": [
       "       Estatura(metros)  Edad(anios)\n",
       "count         42.000000     42.00000\n",
       "mean           1.731190     29.00000\n",
       "std            0.076516      6.24695\n",
       "min            1.550000     21.00000\n",
       "25%            1.665000     25.00000\n",
       "50%            1.730000     27.00000\n",
       "75%            1.777500     32.00000\n",
       "max            1.900000     53.00000"
      ]
     },
     "execution_count": 142,
     "metadata": {},
     "output_type": "execute_result"
    }
   ],
   "source": [
    "data.describe()"
   ]
  },
  {
   "cell_type": "code",
   "execution_count": 143,
   "id": "regulated-germany",
   "metadata": {},
   "outputs": [],
   "source": [
    "data[\"Estatura(metros)\"]*=100"
   ]
  },
  {
   "cell_type": "code",
   "execution_count": 144,
   "id": "regulation-reader",
   "metadata": {},
   "outputs": [],
   "source": [
    "iteraciones = 100\n",
    "k_cluster = 2\n",
    "m_col = data.shape[0]\n",
    "n_col = data.shape[1]\n",
    "centroid_min = data.min().min()\n",
    "centroid_max = data.max().max()\n",
    "centroids = []"
   ]
  },
  {
   "cell_type": "code",
   "execution_count": 145,
   "id": "built-exception",
   "metadata": {},
   "outputs": [
    {
     "name": "stdout",
     "output_type": "stream",
     "text": [
      "190.0\n"
     ]
    }
   ],
   "source": [
    "print(centroid_max)"
   ]
  },
  {
   "cell_type": "code",
   "execution_count": 146,
   "id": "varying-smoke",
   "metadata": {},
   "outputs": [],
   "source": [
    "for i in range(k_cluster):\n",
    "    centroid = np.random.uniform(centroid_min, centroid_max, n_col)\n",
    "    centroids.append(centroid)\n",
    "\n",
    "\n",
    "centroids = pd.DataFrame(centroids, columns = data.columns)"
   ]
  },
  {
   "cell_type": "code",
   "execution_count": 147,
   "id": "eleven-uncle",
   "metadata": {},
   "outputs": [
    {
     "data": {
      "text/html": [
       "<div>\n",
       "<style scoped>\n",
       "    .dataframe tbody tr th:only-of-type {\n",
       "        vertical-align: middle;\n",
       "    }\n",
       "\n",
       "    .dataframe tbody tr th {\n",
       "        vertical-align: top;\n",
       "    }\n",
       "\n",
       "    .dataframe thead th {\n",
       "        text-align: right;\n",
       "    }\n",
       "</style>\n",
       "<table border=\"1\" class=\"dataframe\">\n",
       "  <thead>\n",
       "    <tr style=\"text-align: right;\">\n",
       "      <th></th>\n",
       "      <th>Estatura(metros)</th>\n",
       "      <th>Edad(anios)</th>\n",
       "    </tr>\n",
       "  </thead>\n",
       "  <tbody>\n",
       "    <tr>\n",
       "      <th>0</th>\n",
       "      <td>157.462283</td>\n",
       "      <td>108.033016</td>\n",
       "    </tr>\n",
       "    <tr>\n",
       "      <th>1</th>\n",
       "      <td>79.281155</td>\n",
       "      <td>164.517586</td>\n",
       "    </tr>\n",
       "  </tbody>\n",
       "</table>\n",
       "</div>"
      ],
      "text/plain": [
       "   Estatura(metros)  Edad(anios)\n",
       "0        157.462283   108.033016\n",
       "1         79.281155   164.517586"
      ]
     },
     "execution_count": 147,
     "metadata": {},
     "output_type": "execute_result"
    }
   ],
   "source": [
    "centroids"
   ]
  },
  {
   "cell_type": "code",
   "execution_count": 148,
   "id": "defensive-upgrade",
   "metadata": {},
   "outputs": [],
   "source": [
    "#Funcion calculo de error en los valores\n",
    "def error_calc(a,b):\n",
    "    error = np.square(np.sum((a+b)**2))\n",
    "    \n",
    "    return error\n"
   ]
  },
  {
   "cell_type": "code",
   "execution_count": 149,
   "id": "lesbian-scheme",
   "metadata": {},
   "outputs": [
    {
     "data": {
      "text/plain": [
       "array([1.68557947e+10, 1.03993046e+10])"
      ]
     },
     "execution_count": 149,
     "metadata": {},
     "output_type": "execute_result"
    }
   ],
   "source": [
    "errors = np.array([])\n",
    "\n",
    "for centroid in range(centroids.shape[0]):\n",
    "    error = error_calc(centroids.iloc[centroid, :2], data.iloc[0,:2])\n",
    "    errors = np.append(errors, error)\n",
    "\n",
    "errors"
   ]
  },
  {
   "cell_type": "code",
   "execution_count": 150,
   "id": "complicated-diversity",
   "metadata": {},
   "outputs": [
    {
     "data": {
      "image/png": "[encoded data removed]",
      "text/plain": [
       "<Figure size 432x288 with 1 Axes>"
      ]
     },
     "metadata": {
      "needs_background": "light"
     },
     "output_type": "display_data"
    }
   ],
   "source": [
    "#Visualizacion de como estan los centroides en nuestra data:\n",
    "plt.scatter(data.iloc[1:,0], data.iloc[1:,1],  marker = 'o', alpha = 0.2)\n",
    "plt.scatter(centroids.iloc[:,0], centroids.iloc[:,1],  marker = 'o', c = 'r')\n",
    "plt.scatter(data.iloc[0,0], data.iloc[0,1],  marker = 'o', c = 'g')\n",
    "for i in range(centroids.shape[0]):\n",
    "    plt.text(centroids.iloc[i,0]+1, centroids.iloc[i,1]+1, s = centroids.index[i], c = 'r')"
   ]
  },
  {
   "cell_type": "code",
   "execution_count": 151,
   "id": "prescription-quebec",
   "metadata": {},
   "outputs": [
    {
     "data": {
      "text/plain": [
       "1"
      ]
     },
     "execution_count": 151,
     "metadata": {},
     "output_type": "execute_result"
    }
   ],
   "source": [
    "np.where(errors == np.amin(errors))[0].tolist()[0]"
   ]
  },
  {
   "cell_type": "code",
   "execution_count": 152,
   "id": "lonely-white",
   "metadata": {},
   "outputs": [
    {
     "data": {
      "text/html": [
       "<div>\n",
       "<style scoped>\n",
       "    .dataframe tbody tr th:only-of-type {\n",
       "        vertical-align: middle;\n",
       "    }\n",
       "\n",
       "    .dataframe tbody tr th {\n",
       "        vertical-align: top;\n",
       "    }\n",
       "\n",
       "    .dataframe thead th {\n",
       "        text-align: right;\n",
       "    }\n",
       "</style>\n",
       "<table border=\"1\" class=\"dataframe\">\n",
       "  <thead>\n",
       "    <tr style=\"text-align: right;\">\n",
       "      <th></th>\n",
       "      <th>centroid</th>\n",
       "      <th>error</th>\n",
       "    </tr>\n",
       "  </thead>\n",
       "  <tbody>\n",
       "    <tr>\n",
       "      <th>0</th>\n",
       "      <td>1</td>\n",
       "      <td>1.039930e+10</td>\n",
       "    </tr>\n",
       "    <tr>\n",
       "      <th>1</th>\n",
       "      <td>1</td>\n",
       "      <td>1.048135e+10</td>\n",
       "    </tr>\n",
       "    <tr>\n",
       "      <th>2</th>\n",
       "      <td>1</td>\n",
       "      <td>9.737959e+09</td>\n",
       "    </tr>\n",
       "    <tr>\n",
       "      <th>3</th>\n",
       "      <td>1</td>\n",
       "      <td>1.115196e+10</td>\n",
       "    </tr>\n",
       "    <tr>\n",
       "      <th>4</th>\n",
       "      <td>1</td>\n",
       "      <td>9.661405e+09</td>\n",
       "    </tr>\n",
       "  </tbody>\n",
       "</table>\n",
       "</div>"
      ],
      "text/plain": [
       "   centroid         error\n",
       "0         1  1.039930e+10\n",
       "1         1  1.048135e+10\n",
       "2         1  9.737959e+09\n",
       "3         1  1.115196e+10\n",
       "4         1  9.661405e+09"
      ]
     },
     "execution_count": 152,
     "metadata": {},
     "output_type": "execute_result"
    }
   ],
   "source": [
    "#Asignación del centroide mejor posicionado.\n",
    "def assign_centroid(data, centroids):\n",
    "    n_observations = data.shape[0]\n",
    "    centroid_assign = []\n",
    "    centroid_errors = []\n",
    "    k = centroids.shape[0]\n",
    "\n",
    "    \n",
    "    for observation in range(n_observations):\n",
    "\n",
    "        # Calculate the errror\n",
    "        errors = np.array([])\n",
    "        for centroid in range(k):\n",
    "            error = error_calc(centroids.iloc[centroid, :2], data.iloc[observation,:2])\n",
    "            errors = np.append(errors, error)\n",
    "\n",
    "        # Calculate closest centroid & error \n",
    "        closest_centroid =  np.where(errors == np.amin(errors))[0].tolist()[0]\n",
    "        centroid_error = np.amin(errors)\n",
    "\n",
    "        # Assign values to lists\n",
    "        centroid_assign.append(closest_centroid)\n",
    "        centroid_errors.append(centroid_error)\n",
    "\n",
    "    return (centroid_assign,centroid_errors)\n",
    "\n",
    "data['centroid'], data['error'] = assign_centroid(data.iloc[:,:2] ,centroids)\n",
    "data[['centroid', 'error']].head()"
   ]
  },
  {
   "cell_type": "code",
   "execution_count": 153,
   "id": "romantic-tenant",
   "metadata": {},
   "outputs": [
    {
     "data": {
      "text/plain": [
       "<matplotlib.collections.PathCollection at 0x1fde575b7c0>"
      ]
     },
     "execution_count": 153,
     "metadata": {},
     "output_type": "execute_result"
    },
    {
     "data": {
      "image/png": "[encoded data removed]",
      "text/plain": [
       "<Figure size 432x288 with 1 Axes>"
      ]
     },
     "metadata": {
      "needs_background": "light"
     },
     "output_type": "display_data"
    }
   ],
   "source": [
    "colors = {0:'red', 1:'blue', 2:'green'}\n",
    "\n",
    "plt.scatter(data.iloc[:,0], data.iloc[:,1],  marker = 'o', c = data['centroid'].apply(lambda x: colors[x]), alpha = 0.5)\n",
    "plt.scatter(centroids.iloc[:,0], centroids.iloc[:,1],  marker = 'o', s=300, \n",
    "           c = centroids.index.map(lambda x: colors[x]))"
   ]
  },
  {
   "cell_type": "code",
   "execution_count": 154,
   "id": "integrated-handy",
   "metadata": {},
   "outputs": [
    {
     "data": {
      "text/plain": [
       "431475547688.2606"
      ]
     },
     "execution_count": 154,
     "metadata": {},
     "output_type": "execute_result"
    }
   ],
   "source": [
    "#Error total:\n",
    "data['error'].sum()\n"
   ]
  },
  {
   "cell_type": "code",
   "execution_count": 155,
   "id": "bacterial-armor",
   "metadata": {},
   "outputs": [
    {
     "data": {
      "text/html": [
       "<div>\n",
       "<style scoped>\n",
       "    .dataframe tbody tr th:only-of-type {\n",
       "        vertical-align: middle;\n",
       "    }\n",
       "\n",
       "    .dataframe tbody tr th {\n",
       "        vertical-align: top;\n",
       "    }\n",
       "\n",
       "    .dataframe thead th {\n",
       "        text-align: right;\n",
       "    }\n",
       "</style>\n",
       "<table border=\"1\" class=\"dataframe\">\n",
       "  <thead>\n",
       "    <tr style=\"text-align: right;\">\n",
       "      <th></th>\n",
       "      <th>Estatura(metros)</th>\n",
       "      <th>Edad(anios)</th>\n",
       "    </tr>\n",
       "  </thead>\n",
       "  <tbody>\n",
       "    <tr>\n",
       "      <th>0</th>\n",
       "      <td>157.462283</td>\n",
       "      <td>108.033016</td>\n",
       "    </tr>\n",
       "    <tr>\n",
       "      <th>1</th>\n",
       "      <td>79.281155</td>\n",
       "      <td>164.517586</td>\n",
       "    </tr>\n",
       "  </tbody>\n",
       "</table>\n",
       "</div>"
      ],
      "text/plain": [
       "   Estatura(metros)  Edad(anios)\n",
       "0        157.462283   108.033016\n",
       "1         79.281155   164.517586"
      ]
     },
     "execution_count": 155,
     "metadata": {},
     "output_type": "execute_result"
    }
   ],
   "source": [
    "centroids"
   ]
  },
  {
   "cell_type": "code",
   "execution_count": 130,
   "id": "dynamic-british",
   "metadata": {},
   "outputs": [
    {
     "data": {
      "text/html": [
       "<div>\n",
       "<style scoped>\n",
       "    .dataframe tbody tr th:only-of-type {\n",
       "        vertical-align: middle;\n",
       "    }\n",
       "\n",
       "    .dataframe tbody tr th {\n",
       "        vertical-align: top;\n",
       "    }\n",
       "\n",
       "    .dataframe thead th {\n",
       "        text-align: right;\n",
       "    }\n",
       "</style>\n",
       "<table border=\"1\" class=\"dataframe\">\n",
       "  <thead>\n",
       "    <tr style=\"text-align: right;\">\n",
       "      <th></th>\n",
       "      <th>Estatura(metros)</th>\n",
       "      <th>Edad(anios)</th>\n",
       "    </tr>\n",
       "  </thead>\n",
       "  <tbody>\n",
       "    <tr>\n",
       "      <th>0</th>\n",
       "      <td>173.119048</td>\n",
       "      <td>29</td>\n",
       "    </tr>\n",
       "  </tbody>\n",
       "</table>\n",
       "</div>"
      ],
      "text/plain": [
       "   Estatura(metros)  Edad(anios)\n",
       "0        173.119048           29"
      ]
     },
     "execution_count": 130,
     "metadata": {},
     "output_type": "execute_result"
    }
   ],
   "source": [
    "#Recalculando la posicion de los centroides:\n",
    "data_columns = ['Estatura(metros)','Edad(anios)']\n",
    "\n",
    "centroids = data.groupby('centroid').agg('mean').loc[:,data_columns].reset_index(drop = True)\n",
    "centroids"
   ]
  },
  {
   "cell_type": "code",
   "execution_count": 131,
   "id": "offshore-crystal",
   "metadata": {},
   "outputs": [
    {
     "data": {
      "text/plain": [
       "<matplotlib.collections.PathCollection at 0x1fde5538e80>"
      ]
     },
     "execution_count": 131,
     "metadata": {},
     "output_type": "execute_result"
    },
    {
     "data": {
      "image/png": "[encoded data removed]",
      "text/plain": [
       "<Figure size 432x288 with 1 Axes>"
      ]
     },
     "metadata": {
      "needs_background": "light"
     },
     "output_type": "display_data"
    }
   ],
   "source": [
    "plt.scatter(data.iloc[:,0], data.iloc[:,1],  marker = 'o', c = data['centroid'].apply(lambda x: colors[x]), alpha = 0.5)\n",
    "plt.scatter(centroids.iloc[:,0], centroids.iloc[:,1],  marker = 'o', s=300, \n",
    "           c = centroids.index.map(lambda x: colors[x]))"
   ]
  },
  {
   "attachments": {
    "1468d246-295d-40a9-898b-7db57ce7132d.png": {
     "image/png": "[encoded data removed]"
    }
   },
   "cell_type": "markdown",
   "id": "charged-apple",
   "metadata": {},
   "source": [
    "![imagen.png](attachment:1468d246-295d-40a9-898b-7db57ce7132d.png)!"
   ]
  },
  {
   "cell_type": "code",
   "execution_count": 132,
   "id": "forward-stereo",
   "metadata": {},
   "outputs": [],
   "source": [
    "gmm = GaussianMixture(n_components=2, random_state=0).fit(data)"
   ]
  },
  {
   "cell_type": "code",
   "execution_count": 133,
   "id": "organized-suspect",
   "metadata": {},
   "outputs": [],
   "source": [
    "labels = gmm.predict(data)"
   ]
  },
  {
   "cell_type": "code",
   "execution_count": 156,
   "id": "assigned-chain",
   "metadata": {},
   "outputs": [
    {
     "data": {
      "text/html": [
       "<div>\n",
       "<style scoped>\n",
       "    .dataframe tbody tr th:only-of-type {\n",
       "        vertical-align: middle;\n",
       "    }\n",
       "\n",
       "    .dataframe tbody tr th {\n",
       "        vertical-align: top;\n",
       "    }\n",
       "\n",
       "    .dataframe thead th {\n",
       "        text-align: right;\n",
       "    }\n",
       "</style>\n",
       "<table border=\"1\" class=\"dataframe\">\n",
       "  <thead>\n",
       "    <tr style=\"text-align: right;\">\n",
       "      <th></th>\n",
       "      <th>Estatura(metros)</th>\n",
       "      <th>Edad(anios)</th>\n",
       "      <th>centroid</th>\n",
       "      <th>error</th>\n",
       "    </tr>\n",
       "  </thead>\n",
       "  <tbody>\n",
       "    <tr>\n",
       "      <th>0</th>\n",
       "      <td>177.0</td>\n",
       "      <td>26</td>\n",
       "      <td>1</td>\n",
       "      <td>1.039930e+10</td>\n",
       "    </tr>\n",
       "    <tr>\n",
       "      <th>1</th>\n",
       "      <td>174.0</td>\n",
       "      <td>31</td>\n",
       "      <td>1</td>\n",
       "      <td>1.048135e+10</td>\n",
       "    </tr>\n",
       "    <tr>\n",
       "      <th>2</th>\n",
       "      <td>172.0</td>\n",
       "      <td>24</td>\n",
       "      <td>1</td>\n",
       "      <td>9.737959e+09</td>\n",
       "    </tr>\n",
       "    <tr>\n",
       "      <th>3</th>\n",
       "      <td>178.0</td>\n",
       "      <td>34</td>\n",
       "      <td>1</td>\n",
       "      <td>1.115196e+10</td>\n",
       "    </tr>\n",
       "    <tr>\n",
       "      <th>4</th>\n",
       "      <td>165.0</td>\n",
       "      <td>32</td>\n",
       "      <td>1</td>\n",
       "      <td>9.661405e+09</td>\n",
       "    </tr>\n",
       "    <tr>\n",
       "      <th>5</th>\n",
       "      <td>166.0</td>\n",
       "      <td>29</td>\n",
       "      <td>1</td>\n",
       "      <td>9.528083e+09</td>\n",
       "    </tr>\n",
       "    <tr>\n",
       "      <th>6</th>\n",
       "      <td>164.0</td>\n",
       "      <td>27</td>\n",
       "      <td>1</td>\n",
       "      <td>9.190042e+09</td>\n",
       "    </tr>\n",
       "    <tr>\n",
       "      <th>7</th>\n",
       "      <td>185.0</td>\n",
       "      <td>34</td>\n",
       "      <td>1</td>\n",
       "      <td>1.193638e+10</td>\n",
       "    </tr>\n",
       "    <tr>\n",
       "      <th>8</th>\n",
       "      <td>185.0</td>\n",
       "      <td>26</td>\n",
       "      <td>1</td>\n",
       "      <td>1.126601e+10</td>\n",
       "    </tr>\n",
       "    <tr>\n",
       "      <th>9</th>\n",
       "      <td>175.0</td>\n",
       "      <td>21</td>\n",
       "      <td>1</td>\n",
       "      <td>9.815990e+09</td>\n",
       "    </tr>\n",
       "  </tbody>\n",
       "</table>\n",
       "</div>"
      ],
      "text/plain": [
       "   Estatura(metros)  Edad(anios)  centroid         error\n",
       "0             177.0           26         1  1.039930e+10\n",
       "1             174.0           31         1  1.048135e+10\n",
       "2             172.0           24         1  9.737959e+09\n",
       "3             178.0           34         1  1.115196e+10\n",
       "4             165.0           32         1  9.661405e+09\n",
       "5             166.0           29         1  9.528083e+09\n",
       "6             164.0           27         1  9.190042e+09\n",
       "7             185.0           34         1  1.193638e+10\n",
       "8             185.0           26         1  1.126601e+10\n",
       "9             175.0           21         1  9.815990e+09"
      ]
     },
     "execution_count": 156,
     "metadata": {},
     "output_type": "execute_result"
    }
   ],
   "source": [
    "data.head(10)"
   ]
  },
  {
   "cell_type": "code",
   "execution_count": 135,
   "id": "single-literacy",
   "metadata": {},
   "outputs": [
    {
     "data": {
      "text/plain": [
       "<matplotlib.collections.PathCollection at 0x1fde56bfdf0>"
      ]
     },
     "execution_count": 135,
     "metadata": {},
     "output_type": "execute_result"
    },
    {
     "data": {
      "image/png": "[encoded data removed]",
      "text/plain": [
       "<Figure size 432x288 with 1 Axes>"
      ]
     },
     "metadata": {
      "needs_background": "light"
     },
     "output_type": "display_data"
    }
   ],
   "source": [
    "plt.scatter(data.loc[:,\"Estatura(metros)\"],data.loc[:,\"Edad(anios)\"], c = labels, s=40, cmap='viridis')"
   ]
  },
  {
   "cell_type": "code",
   "execution_count": 136,
   "id": "numerical-bargain",
   "metadata": {},
   "outputs": [
    {
     "name": "stdout",
     "output_type": "stream",
     "text": [
      "[[1. 0.]\n",
      " [1. 0.]\n",
      " [0. 1.]\n",
      " [1. 0.]\n",
      " [0. 1.]\n",
      " [0. 1.]\n",
      " [0. 1.]\n",
      " [1. 0.]\n",
      " [1. 0.]\n",
      " [0. 1.]]\n"
     ]
    }
   ],
   "source": [
    "probs = gmm.predict_proba(data)\n",
    "print(probs[:10].round(3))"
   ]
  },
  {
   "cell_type": "markdown",
   "id": "dated-instrumentation",
   "metadata": {},
   "source": [
    "## Creo que por la cantidad de los datos podríamos trabajar con 2 clcusters, para la información de la pestaña de las edades.\n",
    "\n",
    "## El método del codo no lo veo necesario realizar para este problema ya que solo con ver la data podemos decidir la cantidad de K's que podemos utilizar."
   ]
  }
 ],
 "metadata": {
  "kernelspec": {
   "display_name": "Python 3",
   "language": "python",
   "name": "python3"
  },
  "language_info": {
   "codemirror_mode": {
    "name": "ipython",
    "version": 3
   },
   "file_extension": ".py",
   "mimetype": "text/x-python",
   "name": "python",
   "nbconvert_exporter": "python",
   "pygments_lexer": "ipython3",
   "version": "3.8.5"
  }
 },
 "nbformat": 4,
 "nbformat_minor": 5
}
