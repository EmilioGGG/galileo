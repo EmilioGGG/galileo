{
 "cells": [
  {
   "cell_type": "markdown",
   "id": "executed-taylor",
   "metadata": {},
   "source": [
    "# Ejercicio # 1 "
   ]
  },
  {
   "cell_type": "markdown",
   "id": "adequate-theory",
   "metadata": {},
   "source": [
    "**ejercicio** : en data science y programación científica es común necesitar vectores con valores dentro de cierto intervalo, pero con sub-intervalos internos con diference espaciamiento ,por ejemplo:\n",
    "\n",
    "[0.  , 0.1 , 0.2 , 0.3 , 0.4 , 0.5 , 0.51, 0.52, 0.53, 0.54, 0.55,\n",
    "       0.56, 0.57, 0.58, 0.59, 0.6 , 0.7 , 0.8 , 0.9 , 1.  ]\n",
    "       \n",
    "El primer sub-intervalo incrementa de 0.1 en 0.1 , el segundo de 0.01 en 0.01 , y el tercero de 0.1 en 0.1 nuevamente.\n",
    "\n",
    "Usando unicamente NumPy crea un vector de este tipo con el nombre xs .\n",
    "\n",
    "**nota**: no es permitido usar ciclos, debe realizarse con operaciones \"vectorizadas\" de numpy"
   ]
  },
  {
   "cell_type": "code",
   "execution_count": 28,
   "id": "norman-newspaper",
   "metadata": {},
   "outputs": [
    {
     "data": {
      "text/plain": [
       "array([0.  , 0.1 , 0.2 , 0.3 , 0.4 , 0.5 , 0.51, 0.52, 0.53, 0.54, 0.55,\n",
       "       0.56, 0.57, 0.58, 0.59, 0.6 , 0.6 , 0.7 , 0.8 , 0.9 , 1.  ])"
      ]
     },
     "execution_count": 28,
     "metadata": {},
     "output_type": "execute_result"
    }
   ],
   "source": [
    "import numpy as np\n",
    "m = np.linspace(0,0.5,6)\n",
    "n = np.linspace(0.51,0.6,10)\n",
    "o = np.linspace(0.6,1,5)\n",
    "xs = np.concatenate((m,n,o),axis=0, out=None)\n",
    "xs\n"
   ]
  },
  {
   "cell_type": "markdown",
   "id": "informational-alert",
   "metadata": {},
   "source": [
    "# Ejercicio 2 \n",
    "\n",
    "**Ejercicio (parte de tarea)** En este caso usamos un ciclo  para ejemplificar pero ya hemos mencionado que debemos evitarlos siempre que sea posible y usar operaciones \"vectorizadas\" ya que es mucho mas rápido al utilizar  código pre-compilado de C, en este ejercicio debemos remplazar el calculo de ys para hacerlo de manera \"vectorizada\" y eliminar el ciclo for. \n",
    "\n",
    "**tip**: usar slicing"
   ]
  },
  {
   "cell_type": "code",
   "execution_count": 29,
   "id": "stupid-association",
   "metadata": {},
   "outputs": [
    {
     "data": {
      "image/png": "[encoded data removed]",
      "text/plain": [
       "<Figure size 432x288 with 1 Axes>"
      ]
     },
     "metadata": {
      "needs_background": "light"
     },
     "output_type": "display_data"
    }
   ],
   "source": [
    "import matplotlib.pyplot as plt\n",
    "sample_points = 10000\n",
    "ruido = 0.5*np.random.randn(sample_points) #el ruido comunmente se debe a aleatoriedad o captura no exacta de info.\n",
    "x = np.linspace(0,5*np.pi,sample_points) \n",
    "y = np.sin(x) + ruido\n",
    "\n",
    "#ys es \"y suavizado\", inicialmente es una copia de y\n",
    "ys =  y.copy()\n",
    "y1 =  []\n",
    "#for n in range(1,len(y)-1):\n",
    "#    ys[n] = (y[n-1] + y[n] + y[n+1])/3\n",
    "\n",
    "y1 = y[0:-1]#el primer valor que es el n-1, me retorna valor \n",
    "y1 = np.insert(y1,0,0) # Contiene y[n-1]\n",
    "\n",
    "y2 = y[1:len(y)] # y[n+1]\n",
    "y2 = np.append(y2,0)\n",
    "\n",
    "ys = (y1+y2+y)/3\n",
    "\n",
    "plt.plot(x,y)\n",
    "plt.plot(x,ys)\n",
    "\n",
    "plt.xlim(0,5*np.pi + 0.5)\n",
    "plt.show()"
   ]
  },
  {
   "cell_type": "markdown",
   "id": "advised-floor",
   "metadata": {},
   "source": [
    "# Ejercicio 3\n",
    "**Ejercicio** Para calcular la información de una distribución de probabilidad necesitamos calcular el producto entre la información de cada posible x y su probabilidad , cada uno de estos elementos nos indica cuanta incerteza aporta cada x a la entropía de la distribución. Crea una función que calcule esto, debe recibir un vector representando a la dist. de probabilidad y devoler otro vector con el termino de entropía para cada x. Por ejemplo:\n",
    "\n",
    "calcular_entropia([0.25,0.75])\n",
    "\n",
    "Debe resultar en :\n",
    "\n",
    "[0.5    ,    0.31127812]\n",
    "\n",
    "**Nota**: la entropía es la suma sobre estos valores, en este caso no calculamos la entropía,unicamente los termimos de su sumatoria. La entropía es:\n",
    "\n",
    "$$S = -\\sum_i^nP(x_{i})log_{2}P(x_{i})$$"
   ]
  },
  {
   "cell_type": "code",
   "execution_count": 30,
   "id": "alien-mountain",
   "metadata": {},
   "outputs": [],
   "source": [
    "# tu codigo aqui (~ 4 lineas de codigo)\n",
    "#para cada elemento el logaritmo de base 2 multiplicar por su probabilidad\n",
    "#y sumar todos los valores resultantes para multiplicarlo por negativo.\n",
    "#No hay que hacer la sumatoria, solo implementar el calculo.\n",
    "\n",
    "def entropy(px):\n",
    "    np.log2(px)*-1 #aqui solo falta agregar la probabilidad\n"
   ]
  },
  {
   "cell_type": "markdown",
   "id": "compressed-crossing",
   "metadata": {},
   "source": [
    "# Ejercicio 4 \n",
    "**Ejercicio** : se ha determinado también que hay costos asociados a la comunicación y relación con los clientes(llamadas,mensajes electrónicos,etc) y que estos también tienen alta correlación con el monto que estos gastan en su primer més siguiendo el modelo:\n",
    "$$c(x) = (x^{2} + x + log (0.0001x)-\\sqrt{0.54x})/100$$\n",
    "\n",
    "Cree una función para calcular este modelo sobre valores de de gasto de nuevos clientes , y luego cree una función  **ganancia_neta(x,g,c)** donde:\n",
    "* x = vector conteniendo los valores de gasto del primer mes para nuevos clientes.\n",
    "* g = función que estima la ganancia en función de x\n",
    "* c = función que estima el costo en función de x\n",
    "\n",
    "La función realiza el calculo simple **g(x) - c(x)** , ya que es posible que los modelos cambien en el tiempo es común recibir como parámetro el modelo o modelos hijos de un modelo mas grande , en este caso eso se logra recibiendo como parámetro las funciones de ganancia y costo."
   ]
  },
  {
   "cell_type": "code",
   "execution_count": 44,
   "id": "casual-canadian",
   "metadata": {},
   "outputs": [
    {
     "name": "stdout",
     "output_type": "stream",
     "text": [
      "Ganancias [20298.85689469  2574.42504495   330.9752857  20298.85689469]\n"
     ]
    }
   ],
   "source": [
    "def g(x):\n",
    "    \n",
    "    gx = (np.power(x,3) + 2.0*(np.power(x,2.0))+np.exp(0.0001*x) - np.sqrt(2.0*x))/50 #Este viene del ejercicio anterior\n",
    "    cx = (np.power(x,2) + x + (np.log(0.0001*x))- np.sqrt(0.54*x))/100 #Este lo armamos con la formula dada\n",
    "    return gx-cx # vector del mismo tamaño\n",
    "    \n",
    "gastos = np.array([100,50,25,100])\n",
    "ganancia = g(gastos)\n",
    "\n",
    "print(\"Ganancias\",ganancia)"
   ]
  },
  {
   "cell_type": "markdown",
   "id": "biblical-language",
   "metadata": {},
   "source": [
    "#### Aritmetica acumulativa\n",
    "\n",
    "En muchos casos es útil usar sumas o productos acumulativos , por ejemplo:\n",
    "\n",
    "**Ejemplo aplicado** En un datawarehouse se tiene un modelo \"lifetime value\" en el que se almacena de manera acumulativa cuantas ganancias se han percibido a lo largo de la vida de los usuarios, un ETL en Python debe calcularlo en función de un vector que contiene de manera ordenada en el tiempo los ingresos percibidos mensualmente para cierto usuario. Podemos usar la funcion **np.cumsum** para esto, en este ejercicio necesitamos determinar el \"lifetime value\" de cierto usuario en su 6to mes:\n"
   ]
  },
  {
   "cell_type": "markdown",
   "id": "subjective-brand",
   "metadata": {},
   "source": [
    "# Ejercicio 5 \n",
    "**Ejercicio** Usando argmax crear una función mode(x) para calcular la moda de un vector x , esta función debe devolver una tupla de 2 elementos de la forma:\n",
    "\n",
    "(valor,conteo)\n",
    "\n",
    "**tip** investigar y auxiliarse de otras funciones de numpy y np.argmax, no olvidar trabajar todo vectorizado, sin ciclos."
   ]
  },
  {
   "cell_type": "code",
   "execution_count": 32,
   "id": "related-savage",
   "metadata": {},
   "outputs": [
    {
     "name": "stdout",
     "output_type": "stream",
     "text": [
      "14  Contero\n"
     ]
    },
    {
     "data": {
      "text/plain": [
       "(5, 14)"
      ]
     },
     "execution_count": 32,
     "metadata": {},
     "output_type": "execute_result"
    }
   ],
   "source": [
    "#la moda de cierto vector dado X\n",
    "def mode(x):\n",
    "    ## tu codigo aqui (~ 3 lineas de codigo):\n",
    "    conteo = np.bincount(x)\n",
    "    print(max(conteo), \" Contero\")\n",
    "    val_ret = np.argmax(conteo)\n",
    "    #cont_val = len(val)\n",
    "    #return(val, cont)\n",
    "    #print(val_ret,max(conteo) )\n",
    "    #val = np.argmax(x)\n",
    "    return (val_ret,max(conteo) )\n",
    "    \n",
    "    \n",
    "    #print(val)\n",
    "variable = [1,2,2,2,3,4,5,5,5,5,6,7,5,4,3,4,5,67,8,8,9,9,9,9,9,9,9,9,9,9,0,5,5,5,5,5,5,5,5]\n",
    "mode(variable)\n"
   ]
  },
  {
   "cell_type": "markdown",
   "id": "invalid-programming",
   "metadata": {},
   "source": [
    "# Ejercicio 6 \n",
    "**Ejercicio 6** : crear una función para calcular la entropía  de una distribución de probabilidad representada como un vector.\n",
    "$$S = -\\sum_i^nP(x_{i})log_{2}P(x_{i})$$\n",
    "\n",
    "**Nota**: a diferencia del ejercicio anterior donde solo calculamos los términos de la entropía, en este caso  si calculamos el valor completo de la entropía, que como mencionamos es una medida de incerteza en una distribución de probabilidad.\n",
    "\n",
    "**recordatorio**: no usar ciclos solo operaciones vectorizadas."
   ]
  },
  {
   "cell_type": "code",
   "execution_count": 33,
   "id": "public-seventh",
   "metadata": {},
   "outputs": [
    {
     "data": {
      "text/plain": [
       "array([-0.       , -2.       , -2.       , -2.       , -4.7548875])"
      ]
     },
     "execution_count": 33,
     "metadata": {},
     "output_type": "execute_result"
    }
   ],
   "source": [
    "\n",
    "def entrop_func(x):\n",
    "# tu codigo aqui (~ 3 lineas de codigo)\n",
    "#Distribuciones de probabilidad discretas de la siguiente forma\n",
    "    dist_a = np.array([0.3,0.5,0.2])   #de cierta variuable aletoria a\n",
    "#Calcular el log vbase de dos de cada una de las probabilidadas por la probabilidad, la sumatoria de eso por menos 1\n",
    "# a mayor entropia mayor incerteza.\n",
    "    cx =  (x * (np.log2(x)))*-1\n",
    "#usar operaciones vectorizadas de numpy\n",
    "    return cx\n",
    "variable = [1,2,2,2,3]\n",
    "entrop_func(variable)\n",
    "\n"
   ]
  },
  {
   "cell_type": "markdown",
   "id": "massive-deployment",
   "metadata": {},
   "source": [
    "# Ejercicio 7 \n",
    "**Ejercicio**: En ML usamos la entropía cruzada como una forma de medir que tan bueno es un modelo de variables discretas a través de comparar la distribución de probabilidad que el modelo produce o predice, vs la distribución de probabilidad real dada por los datos de entrenamiento.\n",
    "\n",
    "Podemos ver el siguiente ejemplo que define la forma en que se calcula la entropía cruzada y nos muestra un caso específico:\n",
    "\n",
    "<img src=\"https://image.slidesharecdn.com/publishintroductiontodeeplearninginpythonandmatlab1-160502102437/95/introduction-to-deep-learning-in-python-and-matlab-54-638.jpg?cb=1462185644\">\n",
    "\n",
    "En este caso interpretamos así: El problema consiste en un modelo o algoritmo de ML que debe producir un vector de 3 elementos indicando la probabilidad de que ciertos datos X pertenezcan a una de 3 categorías.\n",
    "\n",
    "* El modelo de ML produce un vector que indica que estima un 70% de probabilidad de que se trate de la categoría 0, 20% de probabilidad de que se trate de la categoría 1 y 10% de que se trate de la categoría 2.\n",
    "* Los datos reales nos dicen que se trataba de un caso donde con total certeza se sabe que se trata de la categoría 0\n",
    "* La entropía cruzada(a calcular en el ejercicio) nos indica que tan buena es la estimación del modelo, una EC de 0 es un modelo perfecto(en este caso un modelo que predice 100% de prob para la clase 0)\n",
    "\n",
    "**Nota** \n",
    "* Aun que para calcular la entropía usamos logaritmos en base 2, en ML para calcular la entropía cruzada se usa logaritmo natural ya que con este se cumple el proposito **estimar que tanto se alejan las predicciones del modelo de ML de los datos reales** y es comunmente mas rápido de calcular en la computadora.\n",
    "* Ya que estamos trabajando con vectores que representan distribuciones de probabilidad , podemos toparnos con lo que se conoce como : **sparse vectors**(vectores donde la mayoría de elementos son 0), esto puede producir problemas ya que le logaritmo de 0 no esta definido, tu solución debe tomar en cuenta esto y evitar que devuelva \"nan\""
   ]
  },
  {
   "cell_type": "code",
   "execution_count": 34,
   "id": "charged-proxy",
   "metadata": {},
   "outputs": [
    {
     "data": {
      "text/plain": [
       "array([0.35667494, 0.        , 0.        ])"
      ]
     },
     "execution_count": 34,
     "metadata": {},
     "output_type": "execute_result"
    }
   ],
   "source": [
    "#logaritmo natural, no logaritmo base 2.\n",
    "def cross_entropy(Y,Y_hat):\n",
    "    ##tu codigo aqui (~ 1 o 2 lineas de codigo)\n",
    "    minval=0.0000000001\n",
    "    cx = (y * (np.log(y_hat.clip(min=minval))))*-1\n",
    "    return cx\n",
    "y  = np.array([1.0,0,0])\n",
    "y_hat = np.array([0.7,0.2,0.1])\n",
    "\n",
    "cross_entropy(y,y_hat)"
   ]
  },
  {
   "cell_type": "markdown",
   "id": "administrative-athens",
   "metadata": {},
   "source": [
    "# Ejercicio 8 \n",
    "**ejercicio** : crear una función que reciba como parámetro un vector x y calcule su magnitud o norma(euclidiana o L2) ,luego usarla para evaluar 2 vectores que representan los errores generados por 2 modelos de machine learning y concluir cual de los 2 modelos es mejor."
   ]
  },
  {
   "cell_type": "code",
   "execution_count": 35,
   "id": "protecting-nightmare",
   "metadata": {},
   "outputs": [
    {
     "name": "stdout",
     "output_type": "stream",
     "text": [
      "Errores modelo 2   2.449489742783178 es mejor modelo que errores_modelo 1  3.1622776601683795\n"
     ]
    }
   ],
   "source": [
    "def magnitud(x):\n",
    "    ## tu codigo aqui (~ 1 linea de codigo)\n",
    "    \n",
    "    return (np.sqrt((np.sum(np.power(x,2)))))\n",
    "    #return np.linalg.norm(x) -----Esta función hace lo mismo\n",
    "    \n",
    "errores_modelo1 = np.array([1,2,1,2])\n",
    "errores_modelo2 = np.array([0,1,1,2])\n",
    "\n",
    "v1 = magnitud(errores_modelo1)\n",
    "v2 = magnitud(errores_modelo2)\n",
    "\n",
    "\n",
    "#elegir el mejor modelo con un IF\n",
    "if v1 < v2:\n",
    "    print (\"Errores modelo 1  \", v1, \"es mejor modelo que errores_modelo 2 \", v2  )\n",
    "else:\n",
    "    print (\"Errores modelo 2  \", v2, \"es mejor modelo que errores_modelo 1 \", v1  )"
   ]
  },
  {
   "cell_type": "markdown",
   "id": "indirect-distributor",
   "metadata": {},
   "source": [
    "# Ejercicio 9 \n",
    "**ejercicio** Usando la función del ejercicio anterior, crea otra función normalizar(x) que reciba de parámetro un vector x aplique normalización sobre este, el resultado debe ser un nuevo vector del tamaño de x cuya magnitud es igual a 1.0"
   ]
  },
  {
   "cell_type": "code",
   "execution_count": 36,
   "id": "atmospheric-chrome",
   "metadata": {},
   "outputs": [
    {
     "name": "stdout",
     "output_type": "stream",
     "text": [
      "3.1622776601683795\n",
      "2.449489742783178\n"
     ]
    }
   ],
   "source": [
    "def normalizar(x):\n",
    "    ## tu codigo aqui (~ 3 linea de codigo)\n",
    "    return (np.linalg.norm(x))\n",
    "#dividiendolo por su magnitud    \n",
    "    \n",
    "\n",
    "print(magnitud(normalizar(errores_modelo1)))\n",
    "print(normalizar(errores_modelo2))\n",
    "\n",
    "#El mejor es el que genere un vector de errores cuya magnitud es menor"
   ]
  },
  {
   "cell_type": "markdown",
   "id": "chronic-intake",
   "metadata": {},
   "source": [
    "# Ejercicio 10\n",
    "**Ejercicio aplicado en DS**\n",
    "Se tiene una red neuronal sencilla(y simplificada) como la de la siguiente imagen:\n",
    "<img src=\"https://www.oreilly.com/library/view/practical-convolutional-neural/9781788392303/assets/246151fb-7893-448d-b9bb-7a87b387a24b.png\">\n",
    "\n",
    "Donde:\n",
    "* INPUT LAYER: un vector X de tamaño = 2 que representa los datos de entrada\n",
    "* HIDDEN_LAYER :capa oculta con 2 neuronas definidas por los vectores:\n",
    "    * HL1 = [0.25,0.37]\n",
    "    * HL2 = [-8,14]\n",
    "* OUTPUT_LAYER = capa de salida definida por el vector [4,9] Aunque genera un valor recibe dos valores\n",
    "\n",
    "Crear una funcion neural_network(X) para calcular:\n",
    "* Calcule la salida de cada neurona en la capa intermedia aplicada a la capa de entrada.\n",
    "* Use el resultado del paso anterior como entrada para la neurona en la capa de salida\n",
    "\n",
    "Asumiendo que cada neurona identifica la similitud entre su entrada y la caracteística que representa concluir:\n",
    "* Para cada vector de entrada Xi , cual neurona intermedia busca la característica que mas se parece a X.\n",
    "* Cual vector de entrada Xi produce una activación alta(salida alta) en la capa de salida."
   ]
  },
  {
   "cell_type": "code",
   "execution_count": 37,
   "id": "pressing-sitting",
   "metadata": {},
   "outputs": [],
   "source": [
    "#Capa de entrada son datos, cada usuario está definido por un vector de 2 elementos\n",
    "#HL1 producto punto entre dos vectores, HL1res = dot(x,hl1)\n",
    "#el segundo circulo, que recibe [-8,14], es el producto punto HL2Res = dot(x,HL2)\n",
    "#estos dos nos dan un elemento como resultado, hl1res y hl2res\n",
    "#estros ya apuntan al ultimo circulo, el producto punto entre el vector creado de HL1res y hl2res y el que nos dan el na deficinion\n",
    "#como salida del vector[4,9]\n",
    "#Output O = dot(HLr, OUTLAYER_OUTPUT)\n",
    "#al final tendriamos que hacer 3 productos puntos y ciertos analisis.\n",
    "#si el producto punto del primer circulo es mayor, o cualquiera de ellos que lo genere\n",
    "#es aquel que el patrón está en mayor presencia o en mayor medida en el patrón de entrada.\n",
    "\n",
    "# Aplicar la red neuronal sobre los siguientes datos X\n",
    "\n",
    "X1 = np.array([0.50,0.72])\n",
    "X2 = np.array([-4,7])\n",
    "X3 = np.zeros_like(X2)\n",
    "x4 = np.ones_like(X1)\n",
    "X5 = np.random.randn(X1.shape[0])"
   ]
  },
  {
   "cell_type": "markdown",
   "id": "fleet-gibson",
   "metadata": {},
   "source": [
    "\n",
    "# Ejercicio 11\n",
    "**Ejercicio aplicado en DS**: la correlación cruzada es una medida de similitud entre 2 funciones como resultado de \"desplazar\" una sobre la otra, comunmente es usada para encontrar características relevantes en una función desconocida o no controlada.\n",
    "\n",
    "En procesamiento de señales por ejemplo es usada para buscar y/o filtrar en una señal que varia en el tiempo cierta caracaterística de interés. Aveces es llamada también \"sliding dot product\" consiste en aplicar en cada punto de una función F el producto punto con cierta función G(comunmente mas corta) y luego \"deslizar\" G a un nuevo punto de la función, el resultado es una nueva función H que se interpreta como :**cuanto se parece** en cada punto la función F a la característica G. \n",
    "\n",
    "<img src=\"https://i.makeagif.com/media/11-25-2015/LZ9Ufj.gif\">\n",
    "\n",
    "En este ejercicio usamos correlación cruzada para calcular las medias moviles promediando 3 puntos que ya vimos en otro ejemplo:\n",
    "\n",
    "El primer paso es definir la función G que define el \"filtro\" a aplicar, para este caso consiste simplemente en un vector con 3 elementos donde cada elemento corresponde a 1/3, luego debemos aplicar el producto punto sobre cada punto de la función o datos originales(en este ejemplo llamados x) a traves aplicar el producto punto en cada elemento \"corriendolo\" de uno en uno"
   ]
  },
  {
   "cell_type": "code",
   "execution_count": 38,
   "id": "center-overhead",
   "metadata": {},
   "outputs": [],
   "source": [
    "ruido = 0.1*np.random.randn(15) #el ruido comunmente se debe a aleatoriedad o captura no exacta de info.\n",
    "x = np.linspace(0,2*np.pi,15) \n",
    "y = np.sin(x) + ruido #el ruido debe ir sumado a los datos simulados al Seno.\n",
    "\n",
    "filtro = np.array([1/3,1/3,1/3]) # este es 1/3 porque nuestro vector tiene 3 dimensiones. #Para lograr las medias moviles a travez de correlacion cruzada.\n",
    "#xq = [a,b,c]\n",
    "#h1= 1/3a + 1/3b + 1/3c\n",
    "#Un vector que representa G, que hay que hacerle producto punto de [1/3,1/3,1/3]\n",
    "## tu codigo aqui (~ 3 linea de codigo)\n"
   ]
  },
  {
   "cell_type": "markdown",
   "id": "tired-austin",
   "metadata": {},
   "source": [
    "# Ejercicio 12\n",
    "**Ejercicio** dado el vector x, usar operadores lógicos sobre vectores y acceso a  elementos usando vectores booleanos , escribir un programa que calcule eun nuevo vector z conteniendo el valor absoluto de el vector x.\n",
    "\n",
    "**nota** No se puede usar np.abs() ni ciclos\n",
    "\n",
    "**tip** usar un vector booleano para saber que elementos son negativos y deben ser multiplicados por -1"
   ]
  },
  {
   "cell_type": "code",
   "execution_count": 39,
   "id": "colored-method",
   "metadata": {},
   "outputs": [
    {
     "name": "stdout",
     "output_type": "stream",
     "text": [
      "(array([False, False, False, False,  True,  True,  True,  True,  True]), array([-1, -1, -1, -1,  0,  0,  0,  0,  0]))\n"
     ]
    }
   ],
   "source": [
    "import numpy as np\n",
    "x = np.linspace(-2,2,9)\n",
    "\n",
    "\n",
    "## tu codigo aqui (~ 4 linea de codigo)\n",
    "\n",
    "##Ver cuales elementos son negativos - vector de booleanos\n",
    "#multiplicarlo x -1\n",
    "#modificar o copiar el vector x\n",
    "###el vector del primero paso reemplazar los que eran negativos por su valor calculado en el paso 2\n",
    "y = x<0\n",
    "y = y*-1\n",
    "x = x>=0\n",
    "x = x,y\n",
    "print(x)"
   ]
  },
  {
   "cell_type": "markdown",
   "id": "rolled-paste",
   "metadata": {},
   "source": [
    "# Ejercicio 13\n",
    "**Ejercicio**\n",
    "\n",
    "Usando select implementar una función k(x) con la siguiente definición:\n",
    "$$k(x) = \\begin{cases}-x & x< 0\\\\x^{3}  &0<=x<1\\\\x^{2}  &1<=x<2\\\\4  &otherwise\\end{cases}$$\n",
    "\n"
   ]
  },
  {
   "cell_type": "code",
   "execution_count": 45,
   "id": "superior-report",
   "metadata": {},
   "outputs": [
    {
     "name": "stdout",
     "output_type": "stream",
     "text": [
      "[0 1 2 3 4 5 6 7 8 9]\n"
     ]
    },
    {
     "data": {
      "text/plain": [
       "array([ 0,  1,  8, 27,  0,  0,  0,  0,  0,  0])"
      ]
     },
     "execution_count": 45,
     "metadata": {},
     "output_type": "execute_result"
    }
   ],
   "source": [
    "x = np.arange(10)\n",
    "\n",
    "condiciones = [x<0,x>3,x<2,x>0] #lista A \n",
    "resultados =  [x*-1,0,x**2, x**3] #lista B\n",
    "\n",
    "\n",
    "\n",
    "\n",
    "print(x)\n",
    "#los valores de x que no satisfacen ningúna condicion obtendran 0 como resultado(este es el valor default)\n",
    "np.select(condiciones,resultados)"
   ]
  },
  {
   "cell_type": "markdown",
   "id": "latin-gross",
   "metadata": {},
   "source": [
    "*Ejercicio** \n",
    "Investigar piecewise y:\n",
    "*  Usarlo para implementar la función anterior de manera eficiente\n",
    "*  Usar piscewise para implementar la función:\n",
    "\n",
    "$$m(x) = \\begin{cases}e^{2x} & x< 0\\\\1  &0<=x<1\\\\e^{1-x}  &x<=1\\\\\\end{cases}$$\n",
    "\n",
    "Nuevamente, sin utilizar ciclos ni ifs"
   ]
  },
  {
   "cell_type": "code",
   "execution_count": null,
   "id": "fatal-science",
   "metadata": {},
   "outputs": [],
   "source": [
    "x = np.linspace(-3, 3, 10)\n",
    "np.piecewise(x, [x < 0, x >=1, x >= 0], [lambda x:np.exp(2*x), lambda x:1, lambda x:np.exp(1-x)])\n",
    "\n",
    "\n",
    "    "
   ]
  },
  {
   "cell_type": "markdown",
   "id": "casual-nursing",
   "metadata": {},
   "source": [
    "## Investigar\n",
    "\n",
    "* Proyección vectorial\n",
    "    * Definir una función para calculo en numpy       \n",
    "def proye_vec(a1,a2):\n",
    "    v_norma = np.sqrt(sum(a1**2))  \n",
    "    proy_a1_en_a2 = (np.dot(u, v)/v_norm**2)*v \n",
    "    \n",
    "    * interpretación\n",
    "    ____\n",
    "    * aplicación o caso de uso en DS u otras ciencias de tu interés: solo se necesita nombrar el caso de uso, no desarrollarlo o programarlo, tip: Hay un algoritmo de ML cuyo nombre puede ser  útil.\n",
    "    __Puede ser utilizado en data science en clasificaciones de Naive\n",
    "* Producto cruz\n",
    "    * calculo en numpy\n",
    "        __np.cross(a,b)__\n",
    "    * interpretación\n",
    "        __Es el producto que equivale al area del paralelogramo construido entre  dos vectores y el vector resultante es perpendicular al plano de estos dos vectores__\n",
    "    * aplicación o caso de uso en DS u otras ciencias de tu interés: solo se necesita nombrar el caso de uso, no desarrollarlo o programarlo: __En Machine Learning se utiliza el cross product, por ejemplo para el procesamiento de imagenes__\n",
    "    \n",
    "#### Referencias\n",
    "\n",
    "* https://www.oreilly.com/library/view/data-science-from/9781491901410/ch04.html\n",
    "* https://towardsdatascience.com/linear-algebra-cheat-sheet-for-deep-learning-cd67aba4526c\n",
    "* https://www.analyticsvidhya.com/blog/2017/05/comprehensive-guide-to-linear-algebra/\n",
    "* https://towardsdatascience.com/boost-your-data-sciences-skills-learn-linear-algebra-2c30fdd008cf\n",
    "* https://machinelearningmastery.com/examples-of-linear-algebra-in-machine-learning/\n",
    "* https://www.youtube.com/playlist?list=PLZHQObOWTQDPD3MizzM2xVFitgF8hE_ab"
   ]
  },
  {
   "cell_type": "code",
   "execution_count": null,
   "id": "sensitive-persian",
   "metadata": {},
   "outputs": [],
   "source": []
  }
 ],
 "metadata": {
  "kernelspec": {
   "display_name": "Python 3",
   "language": "python",
   "name": "python3"
  },
  "language_info": {
   "codemirror_mode": {
    "name": "ipython",
    "version": 3
   },
   "file_extension": ".py",
   "mimetype": "text/x-python",
   "name": "python",
   "nbconvert_exporter": "python",
   "pygments_lexer": "ipython3",
   "version": "3.8.5"
  }
 },
 "nbformat": 4,
 "nbformat_minor": 5
}
