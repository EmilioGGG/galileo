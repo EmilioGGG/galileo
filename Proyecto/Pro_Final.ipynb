{
 "cells": [
  {
   "cell_type": "markdown",
   "id": "another-cleanup",
   "metadata": {},
   "source": [
    "# Proyecto Final"
   ]
  },
  {
   "cell_type": "markdown",
   "id": "copyrighted-silence",
   "metadata": {},
   "source": [
    "### Carga de librerías a utilizar y data"
   ]
  },
  {
   "cell_type": "code",
   "execution_count": 467,
   "id": "framed-munich",
   "metadata": {},
   "outputs": [],
   "source": [
    "import numpy as np\n",
    "import pandas as pd\n",
    "import math as mt\n",
    "from matplotlib import pyplot as plt\n",
    "import tensorflow as tf\n",
    "from scipy.stats import norm\n",
    "from numpy import random\n",
    "from sklearn.model_selection import train_test_split\n",
    "import seaborn as sns\n",
    "from sklearn.preprocessing import MinMaxScaler\n",
    "from sklearn import tree\n",
    "from sklearn import svm\n",
    "from sklearn import metrics"
   ]
  },
  {
   "cell_type": "code",
   "execution_count": 468,
   "id": "stainless-stake",
   "metadata": {},
   "outputs": [
    {
     "name": "stdout",
     "output_type": "stream",
     "text": [
      "<class 'pandas.core.frame.DataFrame'>\n",
      "RangeIndex: 891 entries, 0 to 890\n",
      "Data columns (total 12 columns):\n",
      " #   Column              Non-Null Count  Dtype  \n",
      "---  ------              --------------  -----  \n",
      " 0   PassengerId         891 non-null    int64  \n",
      " 1   Name                891 non-null    object \n",
      " 2   Age                 714 non-null    float64\n",
      " 3   SibSp               891 non-null    int64  \n",
      " 4   Parch               891 non-null    int64  \n",
      " 5   Ticket              891 non-null    object \n",
      " 6   Fare                891 non-null    float64\n",
      " 7   Cabin               204 non-null    object \n",
      " 8   Embarked            889 non-null    object \n",
      " 9   passenger_class     891 non-null    object \n",
      " 10  passenger_sex       891 non-null    object \n",
      " 11  passenger_survived  891 non-null    object \n",
      "dtypes: float64(2), int64(3), object(7)\n",
      "memory usage: 83.7+ KB\n"
     ]
    }
   ],
   "source": [
    "data = pd.read_csv('data_titanic_proyecto.csv')\n",
    "data.info()"
   ]
  },
  {
   "cell_type": "code",
   "execution_count": 469,
   "id": "exact-posting",
   "metadata": {},
   "outputs": [
    {
     "data": {
      "text/html": [
       "<div>\n",
       "<style scoped>\n",
       "    .dataframe tbody tr th:only-of-type {\n",
       "        vertical-align: middle;\n",
       "    }\n",
       "\n",
       "    .dataframe tbody tr th {\n",
       "        vertical-align: top;\n",
       "    }\n",
       "\n",
       "    .dataframe thead th {\n",
       "        text-align: right;\n",
       "    }\n",
       "</style>\n",
       "<table border=\"1\" class=\"dataframe\">\n",
       "  <thead>\n",
       "    <tr style=\"text-align: right;\">\n",
       "      <th></th>\n",
       "      <th>PassengerId</th>\n",
       "      <th>Name</th>\n",
       "      <th>Age</th>\n",
       "      <th>SibSp</th>\n",
       "      <th>Parch</th>\n",
       "      <th>Ticket</th>\n",
       "      <th>Fare</th>\n",
       "      <th>Cabin</th>\n",
       "      <th>Embarked</th>\n",
       "      <th>passenger_class</th>\n",
       "      <th>passenger_sex</th>\n",
       "      <th>passenger_survived</th>\n",
       "    </tr>\n",
       "  </thead>\n",
       "  <tbody>\n",
       "    <tr>\n",
       "      <th>0</th>\n",
       "      <td>1</td>\n",
       "      <td>Braund, Mr. Owen Harris</td>\n",
       "      <td>22.0</td>\n",
       "      <td>1</td>\n",
       "      <td>0</td>\n",
       "      <td>A/5 21171</td>\n",
       "      <td>7.2500</td>\n",
       "      <td>NaN</td>\n",
       "      <td>S</td>\n",
       "      <td>Lower</td>\n",
       "      <td>M</td>\n",
       "      <td>N</td>\n",
       "    </tr>\n",
       "    <tr>\n",
       "      <th>1</th>\n",
       "      <td>2</td>\n",
       "      <td>Cumings, Mrs. John Bradley (Florence Briggs Th...</td>\n",
       "      <td>38.0</td>\n",
       "      <td>1</td>\n",
       "      <td>0</td>\n",
       "      <td>PC 17599</td>\n",
       "      <td>71.2833</td>\n",
       "      <td>C85</td>\n",
       "      <td>C</td>\n",
       "      <td>Upper</td>\n",
       "      <td>F</td>\n",
       "      <td>Y</td>\n",
       "    </tr>\n",
       "  </tbody>\n",
       "</table>\n",
       "</div>"
      ],
      "text/plain": [
       "   PassengerId                                               Name   Age  \\\n",
       "0            1                            Braund, Mr. Owen Harris  22.0   \n",
       "1            2  Cumings, Mrs. John Bradley (Florence Briggs Th...  38.0   \n",
       "\n",
       "   SibSp  Parch     Ticket     Fare Cabin Embarked passenger_class  \\\n",
       "0      1      0  A/5 21171   7.2500   NaN        S           Lower   \n",
       "1      1      0   PC 17599  71.2833   C85        C           Upper   \n",
       "\n",
       "  passenger_sex passenger_survived  \n",
       "0             M                  N  \n",
       "1             F                  Y  "
      ]
     },
     "execution_count": 469,
     "metadata": {},
     "output_type": "execute_result"
    }
   ],
   "source": [
    "data.head(2)"
   ]
  },
  {
   "cell_type": "markdown",
   "id": "exterior-rating",
   "metadata": {},
   "source": [
    "#### Variables Continuas: Age, SibSp, Parch, Fare\n",
    "#### Variables Discretas: Name,Ticket, Cabin, Enmarked., passenger_class, passenger_sex\n",
    "#### Variable Target: passenger_survived."
   ]
  },
  {
   "cell_type": "markdown",
   "id": "heavy-thursday",
   "metadata": {},
   "source": [
    "## Variables que no son relevantes para el análisis:\n",
    "* PassengerID\n",
    "* Name --Realizaremos análisis en esta para ver si afecta---"
   ]
  },
  {
   "cell_type": "code",
   "execution_count": 470,
   "id": "difficult-cooler",
   "metadata": {},
   "outputs": [],
   "source": [
    "x = data.iloc[:,[0,1,2,3,4,5,6,7,8,9,10]]\n",
    "y = data.iloc[:,[11]]\n",
    "X_train, X_test, Y_train, Y_test = train_test_split(x,y,test_size=0.20, random_state=42, shuffle = True)"
   ]
  },
  {
   "cell_type": "code",
   "execution_count": 471,
   "id": "steady-bangkok",
   "metadata": {},
   "outputs": [],
   "source": [
    "#Esta variable se crea para solo cambiarla despues del entrenamiento y hacer pruebas\n",
    "data_w = X_train"
   ]
  },
  {
   "cell_type": "markdown",
   "id": "enclosed-stroke",
   "metadata": {},
   "source": [
    "### Eliminando las variables que no utilizaremos:\n",
    "--> Name\n",
    "--> PassengerId\n",
    "--> SibSp\n",
    "--> Parch\n",
    "--> Ticket\n",
    "--> Cabin"
   ]
  },
  {
   "cell_type": "code",
   "execution_count": 472,
   "id": "existing-adaptation",
   "metadata": {},
   "outputs": [],
   "source": [
    "data_w = data_w.drop([\"PassengerId\", \"Cabin\", \"Ticket\", \"Name\",\"SibSp\", \"Parch\" ], axis=1)"
   ]
  },
  {
   "cell_type": "code",
   "execution_count": 473,
   "id": "alternate-anger",
   "metadata": {},
   "outputs": [
    {
     "name": "stdout",
     "output_type": "stream",
     "text": [
      "<class 'pandas.core.frame.DataFrame'>\n",
      "Int64Index: 712 entries, 331 to 102\n",
      "Data columns (total 5 columns):\n",
      " #   Column           Non-Null Count  Dtype  \n",
      "---  ------           --------------  -----  \n",
      " 0   Age              572 non-null    float64\n",
      " 1   Fare             712 non-null    float64\n",
      " 2   Embarked         710 non-null    object \n",
      " 3   passenger_class  712 non-null    object \n",
      " 4   passenger_sex    712 non-null    object \n",
      "dtypes: float64(2), object(3)\n",
      "memory usage: 33.4+ KB\n"
     ]
    }
   ],
   "source": [
    "data_w.info()"
   ]
  },
  {
   "cell_type": "markdown",
   "id": "legendary-affiliation",
   "metadata": {},
   "source": [
    "#### Trabajando con data que tiene NAN"
   ]
  },
  {
   "cell_type": "code",
   "execution_count": 474,
   "id": "foster-plasma",
   "metadata": {},
   "outputs": [
    {
     "name": "stdout",
     "output_type": "stream",
     "text": [
      "Age                140\n",
      "Fare                 0\n",
      "Embarked             2\n",
      "passenger_class      0\n",
      "passenger_sex        0\n",
      "dtype: int64\n"
     ]
    }
   ],
   "source": [
    "print(data_w.isnull().sum())"
   ]
  },
  {
   "cell_type": "markdown",
   "id": "smoking-airfare",
   "metadata": {},
   "source": [
    "### Eliminamos la variable Cabin, que nos afectará en nuestro modelo"
   ]
  },
  {
   "cell_type": "code",
   "execution_count": 475,
   "id": "recent-escape",
   "metadata": {},
   "outputs": [
    {
     "data": {
      "text/plain": [
       "Text(0.5, 0, 'Densidad Variables')"
      ]
     },
     "execution_count": 475,
     "metadata": {},
     "output_type": "execute_result"
    },
    {
     "data": {
      "image/png": "[encoded data removed]",
      "text/plain": [
       "<Figure size 576x432 with 1 Axes>"
      ]
     },
     "metadata": {},
     "output_type": "display_data"
    }
   ],
   "source": [
    "#Trabajando con NA's de Age\n",
    "data_w[\"Age\"].plot.density(figsize=(8,6),\n",
    "                      fontsize=14,\n",
    "\n",
    "                      linewidth=4)\n",
    "plt.xlabel(\"Densidad Variables\",size=16)\n"
   ]
  },
  {
   "cell_type": "code",
   "execution_count": 476,
   "id": "sublime-appeal",
   "metadata": {},
   "outputs": [
    {
     "data": {
      "text/plain": [
       "<AxesSubplot:title={'center':'Distribution of Age'}, ylabel='Frequency'>"
      ]
     },
     "execution_count": 476,
     "metadata": {},
     "output_type": "execute_result"
    },
    {
     "data": {
      "image/png": "[encoded data removed]",
      "text/plain": [
       "<Figure size 576x288 with 1 Axes>"
      ]
     },
     "metadata": {},
     "output_type": "display_data"
    }
   ],
   "source": [
    "data_w['Age'].plot.hist(title='Distribution of Age')"
   ]
  },
  {
   "cell_type": "code",
   "execution_count": 477,
   "id": "focal-boxing",
   "metadata": {},
   "outputs": [],
   "source": [
    "#Agregando columnas para ver el comportamiento de la densidad y ver cual seleccionamos de ellas.\n",
    "#Media\n",
    "data_w[\"AgeMed\"] = data_w[\"Age\"].fillna(data_w[\"Age\"].mean())\n",
    "#Mediana\n",
    "data_w[\"AgeMedi\"] = data_w[\"Age\"].fillna(data_w[\"Age\"].median())\n",
    "#Remplazo con 0\n",
    "data_w[\"AgeCero\"] = data_w[\"Age\"].fillna(0)\n",
    "\n",
    "#Reemplazando con números Random\n",
    "data_w[\"AgeRand\"] = data_w[\"Age\"]\n",
    "null_rows = data_w['AgeRand'].isnull()\n",
    "num_null_rows = sum(null_rows)\n",
    "rand = random.randint(1, 65, size=num_null_rows)\n",
    "data_w.loc[null_rows, 'AgeRand'] = rand"
   ]
  },
  {
   "cell_type": "code",
   "execution_count": 478,
   "id": "fitted-shareware",
   "metadata": {},
   "outputs": [
    {
     "data": {
      "text/plain": [
       "331    45.500000\n",
       "733    23.000000\n",
       "382    32.000000\n",
       "704    26.000000\n",
       "813     6.000000\n",
       "         ...    \n",
       "106    21.000000\n",
       "270    29.498846\n",
       "860    41.000000\n",
       "435    14.000000\n",
       "102    21.000000\n",
       "Name: AgeMed, Length: 712, dtype: float64"
      ]
     },
     "execution_count": 478,
     "metadata": {},
     "output_type": "execute_result"
    }
   ],
   "source": [
    "data_w[\"AgeMed\"]"
   ]
  },
  {
   "cell_type": "code",
   "execution_count": 479,
   "id": "radio-shadow",
   "metadata": {},
   "outputs": [
    {
     "name": "stdout",
     "output_type": "stream",
     "text": [
      "Age                140\n",
      "Fare                 0\n",
      "Embarked             2\n",
      "passenger_class      0\n",
      "passenger_sex        0\n",
      "AgeMed               0\n",
      "AgeMedi              0\n",
      "AgeCero              0\n",
      "AgeRand              0\n",
      "dtype: int64\n"
     ]
    }
   ],
   "source": [
    "print(data_w.isnull().sum())"
   ]
  },
  {
   "cell_type": "code",
   "execution_count": 480,
   "id": "increasing-transformation",
   "metadata": {},
   "outputs": [
    {
     "data": {
      "text/plain": [
       "<AxesSubplot:ylabel='Density'>"
      ]
     },
     "execution_count": 480,
     "metadata": {},
     "output_type": "execute_result"
    },
    {
     "data": {
      "image/png": "[encoded data removed]",
      "text/plain": [
       "<Figure size 576x288 with 1 Axes>"
      ]
     },
     "metadata": {},
     "output_type": "display_data"
    }
   ],
   "source": [
    "data_w[[\"Age\", \"AgeMed\", \"AgeMedi\", \"AgeCero\", \"AgeRand\"]].plot.kde()"
   ]
  },
  {
   "cell_type": "code",
   "execution_count": 481,
   "id": "active-circulation",
   "metadata": {},
   "outputs": [
    {
     "data": {
      "text/plain": [
       "<AxesSubplot:title={'center':'Distribution of Age'}, ylabel='Frequency'>"
      ]
     },
     "execution_count": 481,
     "metadata": {},
     "output_type": "execute_result"
    },
    {
     "data": {
      "image/png": "[encoded data removed]",
      "text/plain": [
       "<Figure size 576x288 with 1 Axes>"
      ]
     },
     "metadata": {},
     "output_type": "display_data"
    }
   ],
   "source": [
    "data_w['AgeRand'].plot.hist(title='Distribution of Age')"
   ]
  },
  {
   "cell_type": "markdown",
   "id": "royal-center",
   "metadata": {},
   "source": [
    "### La modificacion que menos nos modifica la densidad de nuestra variable es usando Random, esa seleccionaremos "
   ]
  },
  {
   "cell_type": "code",
   "execution_count": 482,
   "id": "complicated-selection",
   "metadata": {},
   "outputs": [
    {
     "data": {
      "text/html": [
       "<div>\n",
       "<style scoped>\n",
       "    .dataframe tbody tr th:only-of-type {\n",
       "        vertical-align: middle;\n",
       "    }\n",
       "\n",
       "    .dataframe tbody tr th {\n",
       "        vertical-align: top;\n",
       "    }\n",
       "\n",
       "    .dataframe thead th {\n",
       "        text-align: right;\n",
       "    }\n",
       "</style>\n",
       "<table border=\"1\" class=\"dataframe\">\n",
       "  <thead>\n",
       "    <tr style=\"text-align: right;\">\n",
       "      <th></th>\n",
       "      <th>Age</th>\n",
       "      <th>Fare</th>\n",
       "      <th>AgeMed</th>\n",
       "      <th>AgeMedi</th>\n",
       "      <th>AgeCero</th>\n",
       "      <th>AgeRand</th>\n",
       "    </tr>\n",
       "  </thead>\n",
       "  <tbody>\n",
       "    <tr>\n",
       "      <th>count</th>\n",
       "      <td>572.000000</td>\n",
       "      <td>712.000000</td>\n",
       "      <td>712.000000</td>\n",
       "      <td>712.000000</td>\n",
       "      <td>712.000000</td>\n",
       "      <td>712.000000</td>\n",
       "    </tr>\n",
       "    <tr>\n",
       "      <th>mean</th>\n",
       "      <td>29.498846</td>\n",
       "      <td>32.586276</td>\n",
       "      <td>29.498846</td>\n",
       "      <td>29.204129</td>\n",
       "      <td>23.698511</td>\n",
       "      <td>29.580534</td>\n",
       "    </tr>\n",
       "    <tr>\n",
       "      <th>std</th>\n",
       "      <td>14.500059</td>\n",
       "      <td>51.969529</td>\n",
       "      <td>12.994304</td>\n",
       "      <td>13.007971</td>\n",
       "      <td>17.507272</td>\n",
       "      <td>15.434819</td>\n",
       "    </tr>\n",
       "    <tr>\n",
       "      <th>min</th>\n",
       "      <td>0.420000</td>\n",
       "      <td>0.000000</td>\n",
       "      <td>0.420000</td>\n",
       "      <td>0.420000</td>\n",
       "      <td>0.000000</td>\n",
       "      <td>0.420000</td>\n",
       "    </tr>\n",
       "    <tr>\n",
       "      <th>25%</th>\n",
       "      <td>21.000000</td>\n",
       "      <td>7.925000</td>\n",
       "      <td>22.000000</td>\n",
       "      <td>22.000000</td>\n",
       "      <td>5.000000</td>\n",
       "      <td>19.000000</td>\n",
       "    </tr>\n",
       "    <tr>\n",
       "      <th>50%</th>\n",
       "      <td>28.000000</td>\n",
       "      <td>14.454200</td>\n",
       "      <td>29.498846</td>\n",
       "      <td>28.000000</td>\n",
       "      <td>24.000000</td>\n",
       "      <td>28.000000</td>\n",
       "    </tr>\n",
       "    <tr>\n",
       "      <th>75%</th>\n",
       "      <td>38.000000</td>\n",
       "      <td>30.500000</td>\n",
       "      <td>35.000000</td>\n",
       "      <td>35.000000</td>\n",
       "      <td>35.000000</td>\n",
       "      <td>39.250000</td>\n",
       "    </tr>\n",
       "    <tr>\n",
       "      <th>max</th>\n",
       "      <td>80.000000</td>\n",
       "      <td>512.329200</td>\n",
       "      <td>80.000000</td>\n",
       "      <td>80.000000</td>\n",
       "      <td>80.000000</td>\n",
       "      <td>80.000000</td>\n",
       "    </tr>\n",
       "  </tbody>\n",
       "</table>\n",
       "</div>"
      ],
      "text/plain": [
       "              Age        Fare      AgeMed     AgeMedi     AgeCero     AgeRand\n",
       "count  572.000000  712.000000  712.000000  712.000000  712.000000  712.000000\n",
       "mean    29.498846   32.586276   29.498846   29.204129   23.698511   29.580534\n",
       "std     14.500059   51.969529   12.994304   13.007971   17.507272   15.434819\n",
       "min      0.420000    0.000000    0.420000    0.420000    0.000000    0.420000\n",
       "25%     21.000000    7.925000   22.000000   22.000000    5.000000   19.000000\n",
       "50%     28.000000   14.454200   29.498846   28.000000   24.000000   28.000000\n",
       "75%     38.000000   30.500000   35.000000   35.000000   35.000000   39.250000\n",
       "max     80.000000  512.329200   80.000000   80.000000   80.000000   80.000000"
      ]
     },
     "execution_count": 482,
     "metadata": {},
     "output_type": "execute_result"
    }
   ],
   "source": [
    "data_w.describe()"
   ]
  },
  {
   "cell_type": "markdown",
   "id": "regional-particular",
   "metadata": {},
   "source": [
    "## Identificando Outliers en Data"
   ]
  },
  {
   "cell_type": "code",
   "execution_count": 483,
   "id": "supported-newcastle",
   "metadata": {},
   "outputs": [
    {
     "data": {
      "image/png": "[encoded data removed]",
      "text/plain": [
       "<Figure size 720x360 with 2 Axes>"
      ]
     },
     "metadata": {},
     "output_type": "display_data"
    }
   ],
   "source": [
    "sns.set(rc={\"figure.figsize\": (10, 5)}); np.random.seed(0)\n",
    "plt.subplot(2,2,1)\n",
    "plt.title(\"Age Rand\")\n",
    "sns.boxplot(x=data_w['AgeRand'])\n",
    "\n",
    "sns.set(rc={\"figure.figsize\": (8, 4)}); np.random.seed(0)\n",
    "plt.subplot(2,2,2)\n",
    "plt.title(\"Fare\")\n",
    "sns.boxplot(x=data_w['Fare'])\n",
    "\n",
    "plt.show()"
   ]
  },
  {
   "cell_type": "markdown",
   "id": "educational-positive",
   "metadata": {},
   "source": [
    "### Trabajando Variable Age"
   ]
  },
  {
   "cell_type": "code",
   "execution_count": 484,
   "id": "limiting-tutorial",
   "metadata": {},
   "outputs": [
    {
     "name": "stdout",
     "output_type": "stream",
     "text": [
      "8.100000000000009\n",
      "51.0\n"
     ]
    }
   ],
   "source": [
    "print(data_w['AgeRand'].quantile(0.10))\n",
    "\n",
    "print(data_w['AgeRand'].quantile(0.90))"
   ]
  },
  {
   "cell_type": "code",
   "execution_count": 485,
   "id": "provincial-relationship",
   "metadata": {},
   "outputs": [],
   "source": [
    "data_w[\"AgeRand\"] = np.where(data_w[\"AgeRand\"] < 9, 14,data_w[\"AgeRand\"])\n",
    "\n",
    "data_w[\"AgeRand\"] = np.where(data_w[\"AgeRand\"] > 60, 60,data_w[\"AgeRand\"])"
   ]
  },
  {
   "cell_type": "code",
   "execution_count": 486,
   "id": "baking-values",
   "metadata": {},
   "outputs": [
    {
     "data": {
      "text/plain": [
       "<AxesSubplot:title={'center':'AgeRand'}, xlabel='AgeRand'>"
      ]
     },
     "execution_count": 486,
     "metadata": {},
     "output_type": "execute_result"
    },
    {
     "data": {
      "image/png": "[encoded data removed]",
      "text/plain": [
       "<Figure size 576x288 with 1 Axes>"
      ]
     },
     "metadata": {},
     "output_type": "display_data"
    }
   ],
   "source": [
    "plt.title(\"AgeRand\")\n",
    "sns.boxplot(x=data_w['AgeRand'])"
   ]
  },
  {
   "cell_type": "code",
   "execution_count": 487,
   "id": "impossible-context",
   "metadata": {},
   "outputs": [
    {
     "data": {
      "text/html": [
       "<div>\n",
       "<style scoped>\n",
       "    .dataframe tbody tr th:only-of-type {\n",
       "        vertical-align: middle;\n",
       "    }\n",
       "\n",
       "    .dataframe tbody tr th {\n",
       "        vertical-align: top;\n",
       "    }\n",
       "\n",
       "    .dataframe thead th {\n",
       "        text-align: right;\n",
       "    }\n",
       "</style>\n",
       "<table border=\"1\" class=\"dataframe\">\n",
       "  <thead>\n",
       "    <tr style=\"text-align: right;\">\n",
       "      <th></th>\n",
       "      <th>Age</th>\n",
       "      <th>Fare</th>\n",
       "      <th>AgeMed</th>\n",
       "      <th>AgeMedi</th>\n",
       "      <th>AgeCero</th>\n",
       "      <th>AgeRand</th>\n",
       "    </tr>\n",
       "  </thead>\n",
       "  <tbody>\n",
       "    <tr>\n",
       "      <th>count</th>\n",
       "      <td>572.000000</td>\n",
       "      <td>712.000000</td>\n",
       "      <td>712.000000</td>\n",
       "      <td>712.000000</td>\n",
       "      <td>712.000000</td>\n",
       "      <td>712.000000</td>\n",
       "    </tr>\n",
       "    <tr>\n",
       "      <th>mean</th>\n",
       "      <td>29.498846</td>\n",
       "      <td>32.586276</td>\n",
       "      <td>29.498846</td>\n",
       "      <td>29.204129</td>\n",
       "      <td>23.698511</td>\n",
       "      <td>30.517556</td>\n",
       "    </tr>\n",
       "    <tr>\n",
       "      <th>std</th>\n",
       "      <td>14.500059</td>\n",
       "      <td>51.969529</td>\n",
       "      <td>12.994304</td>\n",
       "      <td>13.007971</td>\n",
       "      <td>17.507272</td>\n",
       "      <td>13.477884</td>\n",
       "    </tr>\n",
       "    <tr>\n",
       "      <th>min</th>\n",
       "      <td>0.420000</td>\n",
       "      <td>0.000000</td>\n",
       "      <td>0.420000</td>\n",
       "      <td>0.420000</td>\n",
       "      <td>0.000000</td>\n",
       "      <td>9.000000</td>\n",
       "    </tr>\n",
       "    <tr>\n",
       "      <th>25%</th>\n",
       "      <td>21.000000</td>\n",
       "      <td>7.925000</td>\n",
       "      <td>22.000000</td>\n",
       "      <td>22.000000</td>\n",
       "      <td>5.000000</td>\n",
       "      <td>19.000000</td>\n",
       "    </tr>\n",
       "    <tr>\n",
       "      <th>50%</th>\n",
       "      <td>28.000000</td>\n",
       "      <td>14.454200</td>\n",
       "      <td>29.498846</td>\n",
       "      <td>28.000000</td>\n",
       "      <td>24.000000</td>\n",
       "      <td>28.000000</td>\n",
       "    </tr>\n",
       "    <tr>\n",
       "      <th>75%</th>\n",
       "      <td>38.000000</td>\n",
       "      <td>30.500000</td>\n",
       "      <td>35.000000</td>\n",
       "      <td>35.000000</td>\n",
       "      <td>35.000000</td>\n",
       "      <td>39.250000</td>\n",
       "    </tr>\n",
       "    <tr>\n",
       "      <th>max</th>\n",
       "      <td>80.000000</td>\n",
       "      <td>512.329200</td>\n",
       "      <td>80.000000</td>\n",
       "      <td>80.000000</td>\n",
       "      <td>80.000000</td>\n",
       "      <td>60.000000</td>\n",
       "    </tr>\n",
       "  </tbody>\n",
       "</table>\n",
       "</div>"
      ],
      "text/plain": [
       "              Age        Fare      AgeMed     AgeMedi     AgeCero     AgeRand\n",
       "count  572.000000  712.000000  712.000000  712.000000  712.000000  712.000000\n",
       "mean    29.498846   32.586276   29.498846   29.204129   23.698511   30.517556\n",
       "std     14.500059   51.969529   12.994304   13.007971   17.507272   13.477884\n",
       "min      0.420000    0.000000    0.420000    0.420000    0.000000    9.000000\n",
       "25%     21.000000    7.925000   22.000000   22.000000    5.000000   19.000000\n",
       "50%     28.000000   14.454200   29.498846   28.000000   24.000000   28.000000\n",
       "75%     38.000000   30.500000   35.000000   35.000000   35.000000   39.250000\n",
       "max     80.000000  512.329200   80.000000   80.000000   80.000000   60.000000"
      ]
     },
     "execution_count": 487,
     "metadata": {},
     "output_type": "execute_result"
    }
   ],
   "source": [
    "data_w.describe()"
   ]
  },
  {
   "cell_type": "code",
   "execution_count": 488,
   "id": "exotic-challenge",
   "metadata": {},
   "outputs": [],
   "source": [
    "### Eliminamos variables que no utilizaremos\n",
    "data_w = data_w.drop([\"Age\",\"AgeMed\",\"AgeMedi\",\"AgeCero\"], axis=1)"
   ]
  },
  {
   "cell_type": "code",
   "execution_count": 489,
   "id": "mighty-forward",
   "metadata": {},
   "outputs": [
    {
     "name": "stdout",
     "output_type": "stream",
     "text": [
      "<class 'pandas.core.frame.DataFrame'>\n",
      "Int64Index: 712 entries, 331 to 102\n",
      "Data columns (total 5 columns):\n",
      " #   Column           Non-Null Count  Dtype  \n",
      "---  ------           --------------  -----  \n",
      " 0   Fare             712 non-null    float64\n",
      " 1   Embarked         710 non-null    object \n",
      " 2   passenger_class  712 non-null    object \n",
      " 3   passenger_sex    712 non-null    object \n",
      " 4   AgeRand          712 non-null    float64\n",
      "dtypes: float64(2), object(3)\n",
      "memory usage: 33.4+ KB\n"
     ]
    }
   ],
   "source": [
    "data_w.info()"
   ]
  },
  {
   "cell_type": "code",
   "execution_count": 490,
   "id": "broken-colors",
   "metadata": {},
   "outputs": [
    {
     "data": {
      "text/plain": [
       "Lower     398\n",
       "Upper     163\n",
       "Middle    151\n",
       "Name: passenger_class, dtype: int64"
      ]
     },
     "execution_count": 490,
     "metadata": {},
     "output_type": "execute_result"
    }
   ],
   "source": [
    "data_w[\"passenger_class\"].value_counts()"
   ]
  },
  {
   "cell_type": "code",
   "execution_count": 491,
   "id": "informational-cancellation",
   "metadata": {},
   "outputs": [
    {
     "data": {
      "text/plain": [
       "M    467\n",
       "F    245\n",
       "Name: passenger_sex, dtype: int64"
      ]
     },
     "execution_count": 491,
     "metadata": {},
     "output_type": "execute_result"
    }
   ],
   "source": [
    "data_w[\"passenger_sex\"].value_counts()"
   ]
  },
  {
   "cell_type": "code",
   "execution_count": 492,
   "id": "global-niagara",
   "metadata": {},
   "outputs": [
    {
     "data": {
      "text/plain": [
       "S    525\n",
       "C    125\n",
       "Q     60\n",
       "Name: Embarked, dtype: int64"
      ]
     },
     "execution_count": 492,
     "metadata": {},
     "output_type": "execute_result"
    }
   ],
   "source": [
    "data_w[\"Embarked\"].value_counts()"
   ]
  },
  {
   "cell_type": "code",
   "execution_count": 493,
   "id": "multiple-values",
   "metadata": {},
   "outputs": [
    {
     "name": "stdout",
     "output_type": "stream",
     "text": [
      "     passenger_sex_F  passenger_sex_M\n",
      "331                0                1\n",
      "733                0                1\n",
      "382                0                1\n",
      "704                0                1\n",
      "813                1                0\n",
      "..               ...              ...\n",
      "106                1                0\n",
      "270                0                1\n",
      "860                0                1\n",
      "435                1                0\n",
      "102                0                1\n",
      "\n",
      "[712 rows x 2 columns]\n"
     ]
    }
   ],
   "source": [
    "DUM_pass_class = pd.get_dummies(data_w[\"passenger_class\"], prefix='passenger_class')\n",
    "DUM_pass_sex = pd.get_dummies(data_w[\"passenger_sex\"], prefix='passenger_sex')\n",
    "DUM_pass_embarked = pd.get_dummies(data_w[\"Embarked\"], prefix='Embarked')\n",
    "print(DUM_pass_sex)"
   ]
  },
  {
   "cell_type": "code",
   "execution_count": 494,
   "id": "empirical-following",
   "metadata": {},
   "outputs": [],
   "source": [
    "#Agregando las nuevas variables despues del Dummy Enconding\n",
    "data_w = pd.concat([data_w,DUM_pass_class,DUM_pass_sex, DUM_pass_embarked], axis=1)\n",
    "#,DUM_pass_sex,DUM_pass_embarked"
   ]
  },
  {
   "cell_type": "code",
   "execution_count": 495,
   "id": "sunrise-virginia",
   "metadata": {},
   "outputs": [
    {
     "name": "stdout",
     "output_type": "stream",
     "text": [
      "<class 'pandas.core.frame.DataFrame'>\n",
      "Int64Index: 712 entries, 331 to 102\n",
      "Data columns (total 13 columns):\n",
      " #   Column                  Non-Null Count  Dtype  \n",
      "---  ------                  --------------  -----  \n",
      " 0   Fare                    712 non-null    float64\n",
      " 1   Embarked                710 non-null    object \n",
      " 2   passenger_class         712 non-null    object \n",
      " 3   passenger_sex           712 non-null    object \n",
      " 4   AgeRand                 712 non-null    float64\n",
      " 5   passenger_class_Lower   712 non-null    uint8  \n",
      " 6   passenger_class_Middle  712 non-null    uint8  \n",
      " 7   passenger_class_Upper   712 non-null    uint8  \n",
      " 8   passenger_sex_F         712 non-null    uint8  \n",
      " 9   passenger_sex_M         712 non-null    uint8  \n",
      " 10  Embarked_C              712 non-null    uint8  \n",
      " 11  Embarked_Q              712 non-null    uint8  \n",
      " 12  Embarked_S              712 non-null    uint8  \n",
      "dtypes: float64(2), object(3), uint8(8)\n",
      "memory usage: 38.9+ KB\n"
     ]
    }
   ],
   "source": [
    "data_w.info()"
   ]
  },
  {
   "cell_type": "code",
   "execution_count": 496,
   "id": "original-wilderness",
   "metadata": {},
   "outputs": [
    {
     "name": "stdout",
     "output_type": "stream",
     "text": [
      "<class 'pandas.core.frame.DataFrame'>\n",
      "Int64Index: 712 entries, 331 to 102\n",
      "Data columns (total 10 columns):\n",
      " #   Column                  Non-Null Count  Dtype  \n",
      "---  ------                  --------------  -----  \n",
      " 0   Fare                    712 non-null    float64\n",
      " 1   AgeRand                 712 non-null    float64\n",
      " 2   passenger_class_Lower   712 non-null    uint8  \n",
      " 3   passenger_class_Middle  712 non-null    uint8  \n",
      " 4   passenger_class_Upper   712 non-null    uint8  \n",
      " 5   passenger_sex_F         712 non-null    uint8  \n",
      " 6   passenger_sex_M         712 non-null    uint8  \n",
      " 7   Embarked_C              712 non-null    uint8  \n",
      " 8   Embarked_Q              712 non-null    uint8  \n",
      " 9   Embarked_S              712 non-null    uint8  \n",
      "dtypes: float64(2), uint8(8)\n",
      "memory usage: 22.2 KB\n"
     ]
    }
   ],
   "source": [
    "#Quitando lass variables que ya no utilizamos, categoricas.\n",
    "\n",
    "data_w = data_w.drop([\"passenger_class\",\"passenger_sex\",\"Embarked\"], axis=1)\n",
    "data_w.info()"
   ]
  },
  {
   "cell_type": "markdown",
   "id": "federal-rochester",
   "metadata": {},
   "source": [
    "## Transformación de Variables"
   ]
  },
  {
   "cell_type": "code",
   "execution_count": 497,
   "id": "stopped-alcohol",
   "metadata": {},
   "outputs": [
    {
     "data": {
      "text/html": [
       "<div>\n",
       "<style scoped>\n",
       "    .dataframe tbody tr th:only-of-type {\n",
       "        vertical-align: middle;\n",
       "    }\n",
       "\n",
       "    .dataframe tbody tr th {\n",
       "        vertical-align: top;\n",
       "    }\n",
       "\n",
       "    .dataframe thead th {\n",
       "        text-align: right;\n",
       "    }\n",
       "</style>\n",
       "<table border=\"1\" class=\"dataframe\">\n",
       "  <thead>\n",
       "    <tr style=\"text-align: right;\">\n",
       "      <th></th>\n",
       "      <th>Fare</th>\n",
       "      <th>AgeRand</th>\n",
       "      <th>passenger_class_Lower</th>\n",
       "      <th>passenger_class_Middle</th>\n",
       "      <th>passenger_class_Upper</th>\n",
       "      <th>passenger_sex_F</th>\n",
       "      <th>passenger_sex_M</th>\n",
       "      <th>Embarked_C</th>\n",
       "      <th>Embarked_Q</th>\n",
       "      <th>Embarked_S</th>\n",
       "    </tr>\n",
       "  </thead>\n",
       "  <tbody>\n",
       "    <tr>\n",
       "      <th>count</th>\n",
       "      <td>712.000000</td>\n",
       "      <td>712.000000</td>\n",
       "      <td>712.000000</td>\n",
       "      <td>712.000000</td>\n",
       "      <td>712.000000</td>\n",
       "      <td>712.000000</td>\n",
       "      <td>712.000000</td>\n",
       "      <td>712.000000</td>\n",
       "      <td>712.000000</td>\n",
       "      <td>712.000000</td>\n",
       "    </tr>\n",
       "    <tr>\n",
       "      <th>mean</th>\n",
       "      <td>32.586276</td>\n",
       "      <td>30.517556</td>\n",
       "      <td>0.558989</td>\n",
       "      <td>0.212079</td>\n",
       "      <td>0.228933</td>\n",
       "      <td>0.344101</td>\n",
       "      <td>0.655899</td>\n",
       "      <td>0.175562</td>\n",
       "      <td>0.084270</td>\n",
       "      <td>0.737360</td>\n",
       "    </tr>\n",
       "    <tr>\n",
       "      <th>std</th>\n",
       "      <td>51.969529</td>\n",
       "      <td>13.477884</td>\n",
       "      <td>0.496857</td>\n",
       "      <td>0.409068</td>\n",
       "      <td>0.420441</td>\n",
       "      <td>0.475408</td>\n",
       "      <td>0.475408</td>\n",
       "      <td>0.380714</td>\n",
       "      <td>0.277987</td>\n",
       "      <td>0.440378</td>\n",
       "    </tr>\n",
       "    <tr>\n",
       "      <th>min</th>\n",
       "      <td>0.000000</td>\n",
       "      <td>9.000000</td>\n",
       "      <td>0.000000</td>\n",
       "      <td>0.000000</td>\n",
       "      <td>0.000000</td>\n",
       "      <td>0.000000</td>\n",
       "      <td>0.000000</td>\n",
       "      <td>0.000000</td>\n",
       "      <td>0.000000</td>\n",
       "      <td>0.000000</td>\n",
       "    </tr>\n",
       "    <tr>\n",
       "      <th>25%</th>\n",
       "      <td>7.925000</td>\n",
       "      <td>19.000000</td>\n",
       "      <td>0.000000</td>\n",
       "      <td>0.000000</td>\n",
       "      <td>0.000000</td>\n",
       "      <td>0.000000</td>\n",
       "      <td>0.000000</td>\n",
       "      <td>0.000000</td>\n",
       "      <td>0.000000</td>\n",
       "      <td>0.000000</td>\n",
       "    </tr>\n",
       "    <tr>\n",
       "      <th>50%</th>\n",
       "      <td>14.454200</td>\n",
       "      <td>28.000000</td>\n",
       "      <td>1.000000</td>\n",
       "      <td>0.000000</td>\n",
       "      <td>0.000000</td>\n",
       "      <td>0.000000</td>\n",
       "      <td>1.000000</td>\n",
       "      <td>0.000000</td>\n",
       "      <td>0.000000</td>\n",
       "      <td>1.000000</td>\n",
       "    </tr>\n",
       "    <tr>\n",
       "      <th>75%</th>\n",
       "      <td>30.500000</td>\n",
       "      <td>39.250000</td>\n",
       "      <td>1.000000</td>\n",
       "      <td>0.000000</td>\n",
       "      <td>0.000000</td>\n",
       "      <td>1.000000</td>\n",
       "      <td>1.000000</td>\n",
       "      <td>0.000000</td>\n",
       "      <td>0.000000</td>\n",
       "      <td>1.000000</td>\n",
       "    </tr>\n",
       "    <tr>\n",
       "      <th>max</th>\n",
       "      <td>512.329200</td>\n",
       "      <td>60.000000</td>\n",
       "      <td>1.000000</td>\n",
       "      <td>1.000000</td>\n",
       "      <td>1.000000</td>\n",
       "      <td>1.000000</td>\n",
       "      <td>1.000000</td>\n",
       "      <td>1.000000</td>\n",
       "      <td>1.000000</td>\n",
       "      <td>1.000000</td>\n",
       "    </tr>\n",
       "  </tbody>\n",
       "</table>\n",
       "</div>"
      ],
      "text/plain": [
       "             Fare     AgeRand  passenger_class_Lower  passenger_class_Middle  \\\n",
       "count  712.000000  712.000000             712.000000              712.000000   \n",
       "mean    32.586276   30.517556               0.558989                0.212079   \n",
       "std     51.969529   13.477884               0.496857                0.409068   \n",
       "min      0.000000    9.000000               0.000000                0.000000   \n",
       "25%      7.925000   19.000000               0.000000                0.000000   \n",
       "50%     14.454200   28.000000               1.000000                0.000000   \n",
       "75%     30.500000   39.250000               1.000000                0.000000   \n",
       "max    512.329200   60.000000               1.000000                1.000000   \n",
       "\n",
       "       passenger_class_Upper  passenger_sex_F  passenger_sex_M  Embarked_C  \\\n",
       "count             712.000000       712.000000       712.000000  712.000000   \n",
       "mean                0.228933         0.344101         0.655899    0.175562   \n",
       "std                 0.420441         0.475408         0.475408    0.380714   \n",
       "min                 0.000000         0.000000         0.000000    0.000000   \n",
       "25%                 0.000000         0.000000         0.000000    0.000000   \n",
       "50%                 0.000000         0.000000         1.000000    0.000000   \n",
       "75%                 0.000000         1.000000         1.000000    0.000000   \n",
       "max                 1.000000         1.000000         1.000000    1.000000   \n",
       "\n",
       "       Embarked_Q  Embarked_S  \n",
       "count  712.000000  712.000000  \n",
       "mean     0.084270    0.737360  \n",
       "std      0.277987    0.440378  \n",
       "min      0.000000    0.000000  \n",
       "25%      0.000000    0.000000  \n",
       "50%      0.000000    1.000000  \n",
       "75%      0.000000    1.000000  \n",
       "max      1.000000    1.000000  "
      ]
     },
     "execution_count": 497,
     "metadata": {},
     "output_type": "execute_result"
    }
   ],
   "source": [
    "data_w.describe()"
   ]
  },
  {
   "cell_type": "code",
   "execution_count": 498,
   "id": "ignored-examination",
   "metadata": {},
   "outputs": [
    {
     "data": {
      "text/plain": [
       "(array([ 13., 179., 107.,  90.,  26.,  29.,  72.,  31.,  10.,  14.,   5.,\n",
       "          7.,   5.,  15.,  11.,   2.,   4.,  12.,   4.,  14.,   8.,   3.,\n",
       "          6.,   1.,   0.,   0.,   2.,   5.,   1.,   0.,   3.,   0.,   0.,\n",
       "          6.,   0.,   0.,   1.,   4.,   3.,   0.,   0.,   2.,   0.,   0.,\n",
       "          0.,   0.,   0.,   0.,   0.,   0.,   0.,   0.,   4.,   0.,   0.,\n",
       "          0.,   4.,   0.,   0.,   0.,   0.,   1.,   0.,   0.,   0.,   5.,\n",
       "          0.,   0.,   0.,   0.,   0.,   0.,   0.,   0.,   0.,   0.,   0.,\n",
       "          0.,   0.,   0.,   0.,   0.,   0.,   0.,   0.,   0.,   0.,   0.,\n",
       "          0.,   0.,   0.,   0.,   0.,   0.,   0.,   0.,   0.,   0.,   0.,\n",
       "          0.,   0.,   0.,   0.,   0.,   0.,   0.,   0.,   0.,   0.,   0.,\n",
       "          0.,   0.,   0.,   0.,   0.,   0.,   0.,   0.,   0.,   0.,   0.,\n",
       "          0.,   0.,   0.,   0.,   0.,   0.,   0.]),\n",
       " array([  0.,   4.,   8.,  12.,  16.,  20.,  24.,  28.,  32.,  36.,  40.,\n",
       "         44.,  48.,  52.,  56.,  60.,  64.,  68.,  72.,  76.,  80.,  84.,\n",
       "         88.,  92.,  96., 100., 104., 108., 112., 116., 120., 124., 128.,\n",
       "        132., 136., 140., 144., 148., 152., 156., 160., 164., 168., 172.,\n",
       "        176., 180., 184., 188., 192., 196., 200., 204., 208., 212., 216.,\n",
       "        220., 224., 228., 232., 236., 240., 244., 248., 252., 256., 260.,\n",
       "        264., 268., 272., 276., 280., 284., 288., 292., 296., 300., 304.,\n",
       "        308., 312., 316., 320., 324., 328., 332., 336., 340., 344., 348.,\n",
       "        352., 356., 360., 364., 368., 372., 376., 380., 384., 388., 392.,\n",
       "        396., 400., 404., 408., 412., 416., 420., 424., 428., 432., 436.,\n",
       "        440., 444., 448., 452., 456., 460., 464., 468., 472., 476., 480.,\n",
       "        484., 488., 492., 496., 500., 504., 508., 512.]),\n",
       " <BarContainer object of 128 artists>)"
      ]
     },
     "execution_count": 498,
     "metadata": {},
     "output_type": "execute_result"
    },
    {
     "data": {
      "image/png": "[encoded data removed]",
      "text/plain": [
       "<Figure size 720x360 with 2 Axes>"
      ]
     },
     "metadata": {},
     "output_type": "display_data"
    }
   ],
   "source": [
    "plt.figure(figsize = [10, 5])\n",
    "plt.subplot(2, 2, 1) # 1 row, 2 cols, subplot 1\n",
    "bin_edges = np.arange(0, data_w['AgeRand'].max()+4, 4)\n",
    "plt.hist(data = data_w, x = 'AgeRand', bins = bin_edges)\n",
    "\n",
    "\n",
    "plt.subplot(2, 2, 2) # 1 row, 2 cols, subplot 1\n",
    "bin_edges = np.arange(0, data_w['Fare'].max(), 4)\n",
    "plt.hist(data = data_w, x = 'Fare', bins = bin_edges)"
   ]
  },
  {
   "cell_type": "code",
   "execution_count": 499,
   "id": "minus-monthly",
   "metadata": {},
   "outputs": [
    {
     "name": "stdout",
     "output_type": "stream",
     "text": [
      "<class 'pandas.core.frame.DataFrame'>\n",
      "Int64Index: 712 entries, 331 to 102\n",
      "Data columns (total 10 columns):\n",
      " #   Column                  Non-Null Count  Dtype  \n",
      "---  ------                  --------------  -----  \n",
      " 0   Fare                    712 non-null    float64\n",
      " 1   AgeRand                 712 non-null    float64\n",
      " 2   passenger_class_Lower   712 non-null    uint8  \n",
      " 3   passenger_class_Middle  712 non-null    uint8  \n",
      " 4   passenger_class_Upper   712 non-null    uint8  \n",
      " 5   passenger_sex_F         712 non-null    uint8  \n",
      " 6   passenger_sex_M         712 non-null    uint8  \n",
      " 7   Embarked_C              712 non-null    uint8  \n",
      " 8   Embarked_Q              712 non-null    uint8  \n",
      " 9   Embarked_S              712 non-null    uint8  \n",
      "dtypes: float64(2), uint8(8)\n",
      "memory usage: 22.2 KB\n"
     ]
    }
   ],
   "source": [
    "data_w.info()"
   ]
  },
  {
   "cell_type": "code",
   "execution_count": 500,
   "id": "naval-myanmar",
   "metadata": {},
   "outputs": [],
   "source": [
    "mod_fare = data_w['Fare']\n",
    "mod_age = data_w['AgeRand']\n",
    "#X_train.transform([np.sqrt])"
   ]
  },
  {
   "cell_type": "code",
   "execution_count": 501,
   "id": "every-tobacco",
   "metadata": {},
   "outputs": [],
   "source": [
    "data_w['Age_Log'] = data_w['AgeRand'].apply(np.log)\n",
    "data_w['Age_sqrt'] = data_w['AgeRand'].apply(np.sqrt)"
   ]
  },
  {
   "cell_type": "code",
   "execution_count": 502,
   "id": "absolute-parking",
   "metadata": {},
   "outputs": [
    {
     "data": {
      "text/plain": [
       "<AxesSubplot:ylabel='Frequency'>"
      ]
     },
     "execution_count": 502,
     "metadata": {},
     "output_type": "execute_result"
    },
    {
     "data": {
      "image/png": "[encoded data removed]",
      "text/plain": [
       "<Figure size 576x288 with 1 Axes>"
      ]
     },
     "metadata": {},
     "output_type": "display_data"
    }
   ],
   "source": [
    "data_w['Age_sqrt'].plot.hist() # Esta viariable se queda"
   ]
  },
  {
   "cell_type": "code",
   "execution_count": 503,
   "id": "native-chassis",
   "metadata": {},
   "outputs": [],
   "source": [
    "data_w['Fare_Log'] = data_w['Fare'].apply(np.log)\n",
    "data_w['Fare_Sqrt'] = data_w['Fare'].apply(np.sqrt)"
   ]
  },
  {
   "cell_type": "code",
   "execution_count": 504,
   "id": "fitting-photograph",
   "metadata": {},
   "outputs": [
    {
     "data": {
      "text/plain": [
       "<AxesSubplot:ylabel='Frequency'>"
      ]
     },
     "execution_count": 504,
     "metadata": {},
     "output_type": "execute_result"
    },
    {
     "data": {
      "image/png": "[encoded data removed]",
      "text/plain": [
       "<Figure size 576x288 with 1 Axes>"
      ]
     },
     "metadata": {},
     "output_type": "display_data"
    }
   ],
   "source": [
    "data_w['Fare_Sqrt'].plot.hist() # Esta viariable se queda"
   ]
  },
  {
   "cell_type": "code",
   "execution_count": 505,
   "id": "substantial-liabilities",
   "metadata": {},
   "outputs": [
    {
     "name": "stdout",
     "output_type": "stream",
     "text": [
      "<class 'pandas.core.frame.DataFrame'>\n",
      "Int64Index: 712 entries, 331 to 102\n",
      "Data columns (total 10 columns):\n",
      " #   Column                  Non-Null Count  Dtype  \n",
      "---  ------                  --------------  -----  \n",
      " 0   passenger_class_Lower   712 non-null    uint8  \n",
      " 1   passenger_class_Middle  712 non-null    uint8  \n",
      " 2   passenger_class_Upper   712 non-null    uint8  \n",
      " 3   passenger_sex_F         712 non-null    uint8  \n",
      " 4   passenger_sex_M         712 non-null    uint8  \n",
      " 5   Embarked_C              712 non-null    uint8  \n",
      " 6   Embarked_Q              712 non-null    uint8  \n",
      " 7   Embarked_S              712 non-null    uint8  \n",
      " 8   Age_sqrt                712 non-null    float64\n",
      " 9   Fare_Sqrt               712 non-null    float64\n",
      "dtypes: float64(2), uint8(8)\n",
      "memory usage: 22.2 KB\n"
     ]
    }
   ],
   "source": [
    "data_w = data_w.drop([\"Fare_Log\",\"Age_Log\",\"AgeRand\", \"Fare\"], axis=1)\n",
    "data_w.info()"
   ]
  },
  {
   "cell_type": "markdown",
   "id": "desirable-couple",
   "metadata": {},
   "source": [
    "## Feature Scaling"
   ]
  },
  {
   "cell_type": "code",
   "execution_count": 506,
   "id": "arbitrary-perth",
   "metadata": {},
   "outputs": [
    {
     "data": {
      "text/plain": [
       "Text(0.5, 0, 'Densidad Variables')"
      ]
     },
     "execution_count": 506,
     "metadata": {},
     "output_type": "execute_result"
    },
    {
     "data": {
      "image/png": "[encoded data removed]",
      "text/plain": [
       "<Figure size 576x432 with 1 Axes>"
      ]
     },
     "metadata": {},
     "output_type": "display_data"
    }
   ],
   "source": [
    "data_w.plot.density(figsize=(8,6),\n",
    "                      fontsize=14,\n",
    "\n",
    "                      linewidth=4)\n",
    "plt.xlabel(\"Densidad Variables\",size=16)"
   ]
  },
  {
   "cell_type": "code",
   "execution_count": 507,
   "id": "useful-opposition",
   "metadata": {},
   "outputs": [
    {
     "name": "stdout",
     "output_type": "stream",
     "text": [
      "<class 'pandas.core.frame.DataFrame'>\n",
      "Int64Index: 712 entries, 331 to 102\n",
      "Data columns (total 10 columns):\n",
      " #   Column                  Non-Null Count  Dtype  \n",
      "---  ------                  --------------  -----  \n",
      " 0   passenger_class_Lower   712 non-null    uint8  \n",
      " 1   passenger_class_Middle  712 non-null    uint8  \n",
      " 2   passenger_class_Upper   712 non-null    uint8  \n",
      " 3   passenger_sex_F         712 non-null    uint8  \n",
      " 4   passenger_sex_M         712 non-null    uint8  \n",
      " 5   Embarked_C              712 non-null    uint8  \n",
      " 6   Embarked_Q              712 non-null    uint8  \n",
      " 7   Embarked_S              712 non-null    uint8  \n",
      " 8   Age_sqrt                712 non-null    float64\n",
      " 9   Fare_Sqrt               712 non-null    float64\n",
      "dtypes: float64(2), uint8(8)\n",
      "memory usage: 22.2 KB\n"
     ]
    }
   ],
   "source": [
    "data_w.info()"
   ]
  },
  {
   "cell_type": "code",
   "execution_count": 508,
   "id": "public-battery",
   "metadata": {},
   "outputs": [
    {
     "name": "stdout",
     "output_type": "stream",
     "text": [
      "scl_passenger_class_Lower\n",
      "scl_passenger_class_Middle\n",
      "scl_passenger_class_Upper\n",
      "scl_passenger_sex_F\n",
      "scl_passenger_sex_M\n",
      "scl_Embarked_C\n",
      "scl_Embarked_Q\n",
      "scl_Embarked_S\n",
      "scl_Age_sqrt\n",
      "scl_Fare_Sqrt\n"
     ]
    }
   ],
   "source": [
    "scaler = MinMaxScaler()\n",
    "for column in data_w.columns:\n",
    "    nombre = \"scl_\" + column\n",
    "    print(nombre)\n",
    "    data_w[nombre]= (data_w[column] - data_w[column].mean()) / data_w[column].std() \n",
    "    "
   ]
  },
  {
   "cell_type": "code",
   "execution_count": 509,
   "id": "senior-intro",
   "metadata": {},
   "outputs": [
    {
     "name": "stdout",
     "output_type": "stream",
     "text": [
      "<class 'pandas.core.frame.DataFrame'>\n",
      "Int64Index: 712 entries, 331 to 102\n",
      "Data columns (total 20 columns):\n",
      " #   Column                      Non-Null Count  Dtype  \n",
      "---  ------                      --------------  -----  \n",
      " 0   passenger_class_Lower       712 non-null    uint8  \n",
      " 1   passenger_class_Middle      712 non-null    uint8  \n",
      " 2   passenger_class_Upper       712 non-null    uint8  \n",
      " 3   passenger_sex_F             712 non-null    uint8  \n",
      " 4   passenger_sex_M             712 non-null    uint8  \n",
      " 5   Embarked_C                  712 non-null    uint8  \n",
      " 6   Embarked_Q                  712 non-null    uint8  \n",
      " 7   Embarked_S                  712 non-null    uint8  \n",
      " 8   Age_sqrt                    712 non-null    float64\n",
      " 9   Fare_Sqrt                   712 non-null    float64\n",
      " 10  scl_passenger_class_Lower   712 non-null    float64\n",
      " 11  scl_passenger_class_Middle  712 non-null    float64\n",
      " 12  scl_passenger_class_Upper   712 non-null    float64\n",
      " 13  scl_passenger_sex_F         712 non-null    float64\n",
      " 14  scl_passenger_sex_M         712 non-null    float64\n",
      " 15  scl_Embarked_C              712 non-null    float64\n",
      " 16  scl_Embarked_Q              712 non-null    float64\n",
      " 17  scl_Embarked_S              712 non-null    float64\n",
      " 18  scl_Age_sqrt                712 non-null    float64\n",
      " 19  scl_Fare_Sqrt               712 non-null    float64\n",
      "dtypes: float64(12), uint8(8)\n",
      "memory usage: 77.9 KB\n"
     ]
    }
   ],
   "source": [
    "data_w.info()"
   ]
  },
  {
   "cell_type": "code",
   "execution_count": 510,
   "id": "cosmetic-pacific",
   "metadata": {},
   "outputs": [],
   "source": [
    "#Quitando variables no escaladas\n",
    "data_w = data_w.drop([\"passenger_class_Lower\", \"passenger_class_Middle\",\"passenger_class_Upper\",\n",
    "                       \"passenger_sex_F\",\"passenger_sex_M\",\"Embarked_C\",\"Embarked_Q\",\"Embarked_S\", \"Age_sqrt\",\n",
    "                       \"Fare_Sqrt\"], axis=1)"
   ]
  },
  {
   "cell_type": "code",
   "execution_count": 511,
   "id": "hispanic-competition",
   "metadata": {},
   "outputs": [
    {
     "data": {
      "text/plain": [
       "Text(0.5, 0, 'Densidad Variables')"
      ]
     },
     "execution_count": 511,
     "metadata": {},
     "output_type": "execute_result"
    },
    {
     "data": {
      "image/png": "[encoded data removed]",
      "text/plain": [
       "<Figure size 576x432 with 1 Axes>"
      ]
     },
     "metadata": {},
     "output_type": "display_data"
    }
   ],
   "source": [
    "data_w.plot.density(figsize=(8,6),\n",
    "                      fontsize=14,\n",
    "\n",
    "                      linewidth=4)\n",
    "plt.xlabel(\"Densidad Variables\",size=16)"
   ]
  },
  {
   "cell_type": "code",
   "execution_count": 512,
   "id": "controlling-privacy",
   "metadata": {},
   "outputs": [
    {
     "data": {
      "text/plain": [
       "<AxesSubplot:>"
      ]
     },
     "execution_count": 512,
     "metadata": {},
     "output_type": "execute_result"
    },
    {
     "data": {
      "image/png": "[encoded data removed]",
      "text/plain": [
       "<Figure size 576x288 with 2 Axes>"
      ]
     },
     "metadata": {},
     "output_type": "display_data"
    }
   ],
   "source": [
    "#Visualizacion de correlacion de la data:\n",
    "sns.heatmap(data_w.corr(),annot=True)"
   ]
  },
  {
   "cell_type": "markdown",
   "id": "clear-asbestos",
   "metadata": {},
   "source": [
    "# Entrenamiento de Modelos"
   ]
  },
  {
   "cell_type": "markdown",
   "id": "applied-shame",
   "metadata": {},
   "source": [
    "## Entrenamiento Arbol de Decisión"
   ]
  },
  {
   "cell_type": "code",
   "execution_count": 513,
   "id": "copyrighted-beast",
   "metadata": {},
   "outputs": [],
   "source": [
    "clfTREE = tree.DecisionTreeClassifier(criterion=\"entropy\", splitter = 'best', max_depth=10)\n",
    "clfTREE = clfTREE.fit(data_w, Y_train.values.ravel())\n"
   ]
  },
  {
   "cell_type": "code",
   "execution_count": 514,
   "id": "gross-cleaner",
   "metadata": {},
   "outputs": [],
   "source": [
    "#tree.plot_tree(clf) \n",
    "YT_pred = clfTREE.predict(data_w)"
   ]
  },
  {
   "cell_type": "code",
   "execution_count": 515,
   "id": "blind-zambia",
   "metadata": {},
   "outputs": [
    {
     "name": "stdout",
     "output_type": "stream",
     "text": [
      "Accuracy: 0.9101123595505618\n",
      "Precision: 0.9766355140186916\n"
     ]
    }
   ],
   "source": [
    "print(\"Accuracy:\",metrics.accuracy_score(Y_train, YT_pred))\n",
    "print(\"Precision:\",metrics.precision_score(Y_train, YT_pred,pos_label='Y'))"
   ]
  },
  {
   "cell_type": "markdown",
   "id": "signal-finnish",
   "metadata": {},
   "source": [
    "## Entrenamiento SVM"
   ]
  },
  {
   "cell_type": "code",
   "execution_count": 516,
   "id": "liked-detection",
   "metadata": {},
   "outputs": [],
   "source": [
    "clfSVM = svm.SVC(kernel='linear',C=0.025) \n",
    "clfSVM = clfSVM.fit(data_w, Y_train.values.ravel())\n"
   ]
  },
  {
   "cell_type": "code",
   "execution_count": 517,
   "id": "appropriate-session",
   "metadata": {},
   "outputs": [],
   "source": [
    "YS_pred = clfSVM.predict(data_w)"
   ]
  },
  {
   "cell_type": "code",
   "execution_count": 518,
   "id": "structural-vessel",
   "metadata": {},
   "outputs": [
    {
     "name": "stdout",
     "output_type": "stream",
     "text": [
      "Accuracy: 0.7879213483146067\n",
      "Precision: 0.7387755102040816\n"
     ]
    }
   ],
   "source": [
    "print(\"Accuracy:\",metrics.accuracy_score(Y_train, YS_pred))\n",
    "print(\"Precision:\",metrics.precision_score(Y_train, YS_pred,pos_label='Y'))"
   ]
  },
  {
   "cell_type": "markdown",
   "id": "taken-insurance",
   "metadata": {},
   "source": [
    "### Implementación Naive Bayes"
   ]
  },
  {
   "cell_type": "code",
   "execution_count": 519,
   "id": "considered-restaurant",
   "metadata": {},
   "outputs": [],
   "source": [
    "#Unificacion del x_test y y_test para el entrenamiento\n",
    "data_w = pd.concat([data_w,Y_train], axis=1)"
   ]
  },
  {
   "cell_type": "code",
   "execution_count": 520,
   "id": "stone-music",
   "metadata": {},
   "outputs": [
    {
     "name": "stdout",
     "output_type": "stream",
     "text": [
      "Total Y 268.0  Total N 444.0\n",
      "Prior:  passenger_survived\n",
      "N    0.623596\n",
      "Y    0.376404\n",
      "dtype: float64\n"
     ]
    }
   ],
   "source": [
    "prior = data_w.groupby('passenger_survived').size().div(len(data_w))\n",
    "total_yes = data_w.loc[data_w['passenger_survived'] =='Y'].count().mean()\n",
    "total_no = data_w.loc[data_w['passenger_survived'] =='N'].count().mean()\n",
    "print(\"Total Y\", total_yes, \" Total N\", total_no)\n",
    "print( \"Prior: \", prior)"
   ]
  },
  {
   "cell_type": "code",
   "execution_count": 521,
   "id": "charitable-storage",
   "metadata": {},
   "outputs": [
    {
     "name": "stdout",
     "output_type": "stream",
     "text": [
      "Prob y 0.37640449438202245  Prob n 0.6235955056179775\n"
     ]
    }
   ],
   "source": [
    "p_Total_yes = total_yes / data_w.shape[0]\n",
    "p_Total_no = total_no /data_w.shape[0]\n",
    "\n",
    "print(\"Prob y\", p_Total_yes, \" Prob n\", p_Total_no)"
   ]
  },
  {
   "cell_type": "code",
   "execution_count": 522,
   "id": "bridal-baseline",
   "metadata": {},
   "outputs": [
    {
     "name": "stdout",
     "output_type": "stream",
     "text": [
      "<class 'pandas.core.frame.DataFrame'>\n",
      "Int64Index: 712 entries, 331 to 102\n",
      "Data columns (total 11 columns):\n",
      " #   Column                      Non-Null Count  Dtype  \n",
      "---  ------                      --------------  -----  \n",
      " 0   scl_passenger_class_Lower   712 non-null    float64\n",
      " 1   scl_passenger_class_Middle  712 non-null    float64\n",
      " 2   scl_passenger_class_Upper   712 non-null    float64\n",
      " 3   scl_passenger_sex_F         712 non-null    float64\n",
      " 4   scl_passenger_sex_M         712 non-null    float64\n",
      " 5   scl_Embarked_C              712 non-null    float64\n",
      " 6   scl_Embarked_Q              712 non-null    float64\n",
      " 7   scl_Embarked_S              712 non-null    float64\n",
      " 8   scl_Age_sqrt                712 non-null    float64\n",
      " 9   scl_Fare_Sqrt               712 non-null    float64\n",
      " 10  passenger_survived          712 non-null    object \n",
      "dtypes: float64(10), object(1)\n",
      "memory usage: 66.8+ KB\n"
     ]
    }
   ],
   "source": [
    "data_w.info()"
   ]
  },
  {
   "cell_type": "code",
   "execution_count": null,
   "id": "strategic-vector",
   "metadata": {},
   "outputs": [],
   "source": []
  },
  {
   "cell_type": "code",
   "execution_count": 523,
   "id": "executed-madison",
   "metadata": {},
   "outputs": [],
   "source": [
    "class NaiveBayes:\n",
    "    \n",
    "    def fit(self, X, y):\n",
    "        X = np.float64(X)\n",
    "        n_samples, n_features = X.shape\n",
    "        self._classes = np.unique(y)\n",
    "        n_classes = len(self._classes)\n",
    "\n",
    "        # calculate mean, var, and prior for each class\n",
    "        self._mean = np.zeros((n_classes, n_features), dtype=np.float64)\n",
    "        self._var = np.zeros((n_classes, n_features), dtype=np.float64)\n",
    "        self._priors =  np.zeros(n_classes, dtype=np.float64)\n",
    "\n",
    "        for idx, c in enumerate(self._classes):\n",
    "            X_c = X[y==c]\n",
    "            self._mean[idx, :] = X_c.mean(axis=0)\n",
    "            self._var[idx, :] = X_c.var(axis=0)\n",
    "            self._priors[idx] = X_c.shape[0] / float(n_samples)\n",
    "\n",
    "    def predict(self, X):\n",
    "        y_pred = [self._predict(x) for x in X]\n",
    "        return np.array(y_pred)\n",
    "\n",
    "    def _predict(self, x):\n",
    "        posteriors = []\n",
    "\n",
    "        # calculate posterior probability for each class\n",
    "        for idx, c in enumerate(self._classes):\n",
    "            prior = np.log(self._priors[idx])\n",
    "            posterior = np.sum(np.log(self._pdf(idx, x)))\n",
    "            posterior = prior + posterior\n",
    "            posteriors.append(posterior)\n",
    "            \n",
    "        # return class with highest posterior probability\n",
    "        return self._classes[np.argmax(posteriors)]\n",
    "            \n",
    "\n",
    "    def _pdf(self, class_idx, x): #Probability density function\n",
    "        mean = self._mean[class_idx]\n",
    "        var = self._var[class_idx]\n",
    "        numerator = np.exp(- (x-mean)**2 / (2 * var))\n",
    "        denominator = np.sqrt(2 * np.pi * var)\n",
    "        return numerator / denominator"
   ]
  },
  {
   "cell_type": "code",
   "execution_count": 524,
   "id": "surprising-boating",
   "metadata": {},
   "outputs": [],
   "source": [
    "nb = NaiveBayes()"
   ]
  },
  {
   "cell_type": "code",
   "execution_count": 525,
   "id": "friendly-worcester",
   "metadata": {},
   "outputs": [
    {
     "name": "stdout",
     "output_type": "stream",
     "text": [
      "<class 'pandas.core.frame.DataFrame'>\n",
      "Int64Index: 712 entries, 331 to 102\n",
      "Data columns (total 11 columns):\n",
      " #   Column                      Non-Null Count  Dtype  \n",
      "---  ------                      --------------  -----  \n",
      " 0   scl_passenger_class_Lower   712 non-null    float64\n",
      " 1   scl_passenger_class_Middle  712 non-null    float64\n",
      " 2   scl_passenger_class_Upper   712 non-null    float64\n",
      " 3   scl_passenger_sex_F         712 non-null    float64\n",
      " 4   scl_passenger_sex_M         712 non-null    float64\n",
      " 5   scl_Embarked_C              712 non-null    float64\n",
      " 6   scl_Embarked_Q              712 non-null    float64\n",
      " 7   scl_Embarked_S              712 non-null    float64\n",
      " 8   scl_Age_sqrt                712 non-null    float64\n",
      " 9   scl_Fare_Sqrt               712 non-null    float64\n",
      " 10  passenger_survived          712 non-null    object \n",
      "dtypes: float64(10), object(1)\n",
      "memory usage: 66.8+ KB\n"
     ]
    }
   ],
   "source": [
    "data_w.info()"
   ]
  },
  {
   "cell_type": "code",
   "execution_count": 526,
   "id": "greater-ranch",
   "metadata": {},
   "outputs": [
    {
     "ename": "ValueError",
     "evalue": "could not convert string to float: 'N'",
     "output_type": "error",
     "traceback": [
      "\u001b[1;31m---------------------------------------------------------------------------\u001b[0m",
      "\u001b[1;31mValueError\u001b[0m                                Traceback (most recent call last)",
      "\u001b[1;32m<ipython-input-526-9966121cf406>\u001b[0m in \u001b[0;36m<module>\u001b[1;34m\u001b[0m\n\u001b[1;32m----> 1\u001b[1;33m \u001b[0mnb\u001b[0m\u001b[1;33m.\u001b[0m\u001b[0mfit\u001b[0m\u001b[1;33m(\u001b[0m\u001b[0mdata_w\u001b[0m\u001b[1;33m,\u001b[0m \u001b[0mY_train\u001b[0m\u001b[1;33m)\u001b[0m\u001b[1;33m\u001b[0m\u001b[1;33m\u001b[0m\u001b[0m\n\u001b[0m",
      "\u001b[1;32m<ipython-input-523-131fb0464013>\u001b[0m in \u001b[0;36mfit\u001b[1;34m(self, X, y)\u001b[0m\n\u001b[0;32m      2\u001b[0m \u001b[1;33m\u001b[0m\u001b[0m\n\u001b[0;32m      3\u001b[0m     \u001b[1;32mdef\u001b[0m \u001b[0mfit\u001b[0m\u001b[1;33m(\u001b[0m\u001b[0mself\u001b[0m\u001b[1;33m,\u001b[0m \u001b[0mX\u001b[0m\u001b[1;33m,\u001b[0m \u001b[0my\u001b[0m\u001b[1;33m)\u001b[0m\u001b[1;33m:\u001b[0m\u001b[1;33m\u001b[0m\u001b[1;33m\u001b[0m\u001b[0m\n\u001b[1;32m----> 4\u001b[1;33m         \u001b[0mX\u001b[0m \u001b[1;33m=\u001b[0m \u001b[0mnp\u001b[0m\u001b[1;33m.\u001b[0m\u001b[0mfloat64\u001b[0m\u001b[1;33m(\u001b[0m\u001b[0mX\u001b[0m\u001b[1;33m)\u001b[0m\u001b[1;33m\u001b[0m\u001b[1;33m\u001b[0m\u001b[0m\n\u001b[0m\u001b[0;32m      5\u001b[0m         \u001b[0mn_samples\u001b[0m\u001b[1;33m,\u001b[0m \u001b[0mn_features\u001b[0m \u001b[1;33m=\u001b[0m \u001b[0mX\u001b[0m\u001b[1;33m.\u001b[0m\u001b[0mshape\u001b[0m\u001b[1;33m\u001b[0m\u001b[1;33m\u001b[0m\u001b[0m\n\u001b[0;32m      6\u001b[0m         \u001b[0mself\u001b[0m\u001b[1;33m.\u001b[0m\u001b[0m_classes\u001b[0m \u001b[1;33m=\u001b[0m \u001b[0mnp\u001b[0m\u001b[1;33m.\u001b[0m\u001b[0munique\u001b[0m\u001b[1;33m(\u001b[0m\u001b[0my\u001b[0m\u001b[1;33m)\u001b[0m\u001b[1;33m\u001b[0m\u001b[1;33m\u001b[0m\u001b[0m\n",
      "\u001b[1;32m~\\anaconda3\\envs\\py_galileo_2021\\lib\\site-packages\\pandas\\core\\generic.py\u001b[0m in \u001b[0;36m__array__\u001b[1;34m(self, dtype)\u001b[0m\n\u001b[0;32m   1897\u001b[0m \u001b[1;33m\u001b[0m\u001b[0m\n\u001b[0;32m   1898\u001b[0m     \u001b[1;32mdef\u001b[0m \u001b[0m__array__\u001b[0m\u001b[1;33m(\u001b[0m\u001b[0mself\u001b[0m\u001b[1;33m,\u001b[0m \u001b[0mdtype\u001b[0m\u001b[1;33m=\u001b[0m\u001b[1;32mNone\u001b[0m\u001b[1;33m)\u001b[0m \u001b[1;33m->\u001b[0m \u001b[0mnp\u001b[0m\u001b[1;33m.\u001b[0m\u001b[0mndarray\u001b[0m\u001b[1;33m:\u001b[0m\u001b[1;33m\u001b[0m\u001b[1;33m\u001b[0m\u001b[0m\n\u001b[1;32m-> 1899\u001b[1;33m         \u001b[1;32mreturn\u001b[0m \u001b[0mnp\u001b[0m\u001b[1;33m.\u001b[0m\u001b[0masarray\u001b[0m\u001b[1;33m(\u001b[0m\u001b[0mself\u001b[0m\u001b[1;33m.\u001b[0m\u001b[0m_values\u001b[0m\u001b[1;33m,\u001b[0m \u001b[0mdtype\u001b[0m\u001b[1;33m=\u001b[0m\u001b[0mdtype\u001b[0m\u001b[1;33m)\u001b[0m\u001b[1;33m\u001b[0m\u001b[1;33m\u001b[0m\u001b[0m\n\u001b[0m\u001b[0;32m   1900\u001b[0m \u001b[1;33m\u001b[0m\u001b[0m\n\u001b[0;32m   1901\u001b[0m     def __array_wrap__(\n",
      "\u001b[1;32m~\\anaconda3\\envs\\py_galileo_2021\\lib\\site-packages\\numpy\\core\\_asarray.py\u001b[0m in \u001b[0;36masarray\u001b[1;34m(a, dtype, order)\u001b[0m\n\u001b[0;32m     81\u001b[0m \u001b[1;33m\u001b[0m\u001b[0m\n\u001b[0;32m     82\u001b[0m     \"\"\"\n\u001b[1;32m---> 83\u001b[1;33m     \u001b[1;32mreturn\u001b[0m \u001b[0marray\u001b[0m\u001b[1;33m(\u001b[0m\u001b[0ma\u001b[0m\u001b[1;33m,\u001b[0m \u001b[0mdtype\u001b[0m\u001b[1;33m,\u001b[0m \u001b[0mcopy\u001b[0m\u001b[1;33m=\u001b[0m\u001b[1;32mFalse\u001b[0m\u001b[1;33m,\u001b[0m \u001b[0morder\u001b[0m\u001b[1;33m=\u001b[0m\u001b[0morder\u001b[0m\u001b[1;33m)\u001b[0m\u001b[1;33m\u001b[0m\u001b[1;33m\u001b[0m\u001b[0m\n\u001b[0m\u001b[0;32m     84\u001b[0m \u001b[1;33m\u001b[0m\u001b[0m\n\u001b[0;32m     85\u001b[0m \u001b[1;33m\u001b[0m\u001b[0m\n",
      "\u001b[1;31mValueError\u001b[0m: could not convert string to float: 'N'"
     ]
    }
   ],
   "source": [
    "nb.fit(data_w, Y_train)"
   ]
  },
  {
   "cell_type": "code",
   "execution_count": null,
   "id": "literary-functionality",
   "metadata": {},
   "outputs": [],
   "source": [
    "predictions = nb.predict(data_w)"
   ]
  },
  {
   "cell_type": "markdown",
   "id": "oriental-drawing",
   "metadata": {},
   "source": [
    "# Regresión Logistica"
   ]
  },
  {
   "cell_type": "code",
   "execution_count": 527,
   "id": "broken-violation",
   "metadata": {},
   "outputs": [
    {
     "name": "stdout",
     "output_type": "stream",
     "text": [
      "<class 'pandas.core.frame.DataFrame'>\n",
      "Int64Index: 712 entries, 331 to 102\n",
      "Data columns (total 11 columns):\n",
      " #   Column                      Non-Null Count  Dtype  \n",
      "---  ------                      --------------  -----  \n",
      " 0   scl_passenger_class_Lower   712 non-null    float64\n",
      " 1   scl_passenger_class_Middle  712 non-null    float64\n",
      " 2   scl_passenger_class_Upper   712 non-null    float64\n",
      " 3   scl_passenger_sex_F         712 non-null    float64\n",
      " 4   scl_passenger_sex_M         712 non-null    float64\n",
      " 5   scl_Embarked_C              712 non-null    float64\n",
      " 6   scl_Embarked_Q              712 non-null    float64\n",
      " 7   scl_Embarked_S              712 non-null    float64\n",
      " 8   scl_Age_sqrt                712 non-null    float64\n",
      " 9   scl_Fare_Sqrt               712 non-null    float64\n",
      " 10  passenger_survived          712 non-null    object \n",
      "dtypes: float64(10), object(1)\n",
      "memory usage: 66.8+ KB\n"
     ]
    }
   ],
   "source": [
    "data_w.info()"
   ]
  },
  {
   "cell_type": "code",
   "execution_count": 528,
   "id": "permanent-responsibility",
   "metadata": {},
   "outputs": [],
   "source": [
    "    data_w = data_w.drop([\"scl_passenger_class_Lower\", \"scl_passenger_class_Middle\",\"scl_passenger_class_Upper\",\n",
    "                       \"scl_passenger_sex_F\",\"scl_passenger_sex_M\",\"scl_Embarked_C\",\"scl_Embarked_Q\",\"scl_Embarked_S\", \"scl_Age_sqrt\",\"passenger_survived\"], axis=1)"
   ]
  },
  {
   "cell_type": "code",
   "execution_count": 529,
   "id": "sublime-elder",
   "metadata": {},
   "outputs": [
    {
     "data": {
      "text/html": [
       "<div>\n",
       "<style scoped>\n",
       "    .dataframe tbody tr th:only-of-type {\n",
       "        vertical-align: middle;\n",
       "    }\n",
       "\n",
       "    .dataframe tbody tr th {\n",
       "        vertical-align: top;\n",
       "    }\n",
       "\n",
       "    .dataframe thead th {\n",
       "        text-align: right;\n",
       "    }\n",
       "</style>\n",
       "<table border=\"1\" class=\"dataframe\">\n",
       "  <thead>\n",
       "    <tr style=\"text-align: right;\">\n",
       "      <th></th>\n",
       "      <th>scl_Fare_Sqrt</th>\n",
       "    </tr>\n",
       "  </thead>\n",
       "  <tbody>\n",
       "    <tr>\n",
       "      <th>331</th>\n",
       "      <td>0.161905</td>\n",
       "    </tr>\n",
       "    <tr>\n",
       "      <th>733</th>\n",
       "      <td>-0.413636</td>\n",
       "    </tr>\n",
       "    <tr>\n",
       "      <th>382</th>\n",
       "      <td>-0.676140</td>\n",
       "    </tr>\n",
       "    <tr>\n",
       "      <th>704</th>\n",
       "      <td>-0.680325</td>\n",
       "    </tr>\n",
       "    <tr>\n",
       "      <th>813</th>\n",
       "      <td>0.246216</td>\n",
       "    </tr>\n",
       "  </tbody>\n",
       "</table>\n",
       "</div>"
      ],
      "text/plain": [
       "     scl_Fare_Sqrt\n",
       "331       0.161905\n",
       "733      -0.413636\n",
       "382      -0.676140\n",
       "704      -0.680325\n",
       "813       0.246216"
      ]
     },
     "execution_count": 529,
     "metadata": {},
     "output_type": "execute_result"
    }
   ],
   "source": [
    "data_w.head()"
   ]
  },
  {
   "cell_type": "code",
   "execution_count": 530,
   "id": "instructional-religious",
   "metadata": {},
   "outputs": [],
   "source": [
    "def sigmoid(input):    #es la variable Z que se tiene quje enviar.\n",
    "    output = 1 / (1 + np.exp(-input))\n",
    "    return output\n"
   ]
  },
  {
   "cell_type": "code",
   "execution_count": 589,
   "id": "future-smoke",
   "metadata": {},
   "outputs": [],
   "source": [
    "\n",
    "def optimize(x, y,learning_rate,iterations,parameters): \n",
    "    size = x.shape[0]\n",
    "    print(\"Size\", size)\n",
    "    weight = parameters[\"weight\"] \n",
    "    bias = parameters[\"bias\"] \n",
    "    for i in range(iterations): \n",
    "        sigma = sigmoid(np.dot(x, weight) + bias)\n",
    "        print(sigma.shape)\n",
    "        loss = -1/size * np.sum(y.T * np.log(sigma)) + (1 - y.T) * np.log(1-sigma)\n",
    "        dW = 1/size * np.dot(x, (sigma - y.T)) #Le quite tramspose a x y se lo puse a Y, en toda la fuuncion\n",
    "        print(dW)\n",
    "        db = 1/size * np.sum(sigma - y.T)\n",
    "        weight -= learning_rate * dW\n",
    "        bias -= learning_rate * db \n",
    "    \n",
    "    parameters[\"weight\"] = weight\n",
    "    parameters[\"bias\"] = bias\n",
    "    return parameters"
   ]
  },
  {
   "cell_type": "code",
   "execution_count": 590,
   "id": "thirty-quest",
   "metadata": {},
   "outputs": [],
   "source": [
    "init_parameters = {} \n",
    "init_parameters[\"weight\"] = np.zeros((1,data_w.shape[0]))\n",
    "init_parameters[\"bias\"] = 0\n"
   ]
  },
  {
   "cell_type": "code",
   "execution_count": 591,
   "id": "enabling-aurora",
   "metadata": {},
   "outputs": [],
   "source": [
    "# Define the train function\n",
    "def train(x, y, learning_rate,iterations):\n",
    "    parameters_out = optimize(x, y, learning_rate, iterations ,init_parameters)\n",
    "    return parameters_out"
   ]
  },
  {
   "cell_type": "code",
   "execution_count": 592,
   "id": "minute-comparison",
   "metadata": {},
   "outputs": [
    {
     "name": "stdout",
     "output_type": "stream",
     "text": [
      "Size 712\n",
      "(712, 712)\n"
     ]
    },
    {
     "name": "stderr",
     "output_type": "stream",
     "text": [
      "<ipython-input-592-b68c37698314>:2: SettingWithCopyWarning: \n",
      "A value is trying to be set on a copy of a slice from a DataFrame.\n",
      "Try using .loc[row_indexer,col_indexer] = value instead\n",
      "\n",
      "See the caveats in the documentation: https://pandas.pydata.org/pandas-docs/stable/user_guide/indexing.html#returning-a-view-versus-a-copy\n",
      "  Y_train[\"passenger_survived\"] = np.where(Y_train[\"passenger_survived\"] == \"N\" ,0,1)\n"
     ]
    },
    {
     "ename": "ValueError",
     "evalue": "Unable to coerce to DataFrame, shape must be (1, 712): given (712, 712)",
     "output_type": "error",
     "traceback": [
      "\u001b[1;31m---------------------------------------------------------------------------\u001b[0m",
      "\u001b[1;31mValueError\u001b[0m                                Traceback (most recent call last)",
      "\u001b[1;32m<ipython-input-592-b68c37698314>\u001b[0m in \u001b[0;36m<module>\u001b[1;34m\u001b[0m\n\u001b[0;32m      1\u001b[0m \u001b[1;31m# Train the model\u001b[0m\u001b[1;33m\u001b[0m\u001b[1;33m\u001b[0m\u001b[1;33m\u001b[0m\u001b[0m\n\u001b[0;32m      2\u001b[0m \u001b[0mY_train\u001b[0m\u001b[1;33m[\u001b[0m\u001b[1;34m\"passenger_survived\"\u001b[0m\u001b[1;33m]\u001b[0m \u001b[1;33m=\u001b[0m \u001b[0mnp\u001b[0m\u001b[1;33m.\u001b[0m\u001b[0mwhere\u001b[0m\u001b[1;33m(\u001b[0m\u001b[0mY_train\u001b[0m\u001b[1;33m[\u001b[0m\u001b[1;34m\"passenger_survived\"\u001b[0m\u001b[1;33m]\u001b[0m \u001b[1;33m==\u001b[0m \u001b[1;34m\"N\"\u001b[0m \u001b[1;33m,\u001b[0m\u001b[1;36m0\u001b[0m\u001b[1;33m,\u001b[0m\u001b[1;36m1\u001b[0m\u001b[1;33m)\u001b[0m\u001b[1;33m\u001b[0m\u001b[1;33m\u001b[0m\u001b[0m\n\u001b[1;32m----> 3\u001b[1;33m \u001b[0mparameters_out\u001b[0m \u001b[1;33m=\u001b[0m \u001b[0mtrain\u001b[0m\u001b[1;33m(\u001b[0m\u001b[0mdata_w\u001b[0m\u001b[1;33m,\u001b[0m \u001b[0mY_train\u001b[0m\u001b[1;33m,\u001b[0m \u001b[0mlearning_rate\u001b[0m \u001b[1;33m=\u001b[0m \u001b[1;36m0.02\u001b[0m\u001b[1;33m,\u001b[0m \u001b[0miterations\u001b[0m \u001b[1;33m=\u001b[0m \u001b[1;36m500\u001b[0m\u001b[1;33m)\u001b[0m\u001b[1;33m\u001b[0m\u001b[1;33m\u001b[0m\u001b[0m\n\u001b[0m",
      "\u001b[1;32m<ipython-input-591-ee507102c3a3>\u001b[0m in \u001b[0;36mtrain\u001b[1;34m(x, y, learning_rate, iterations)\u001b[0m\n\u001b[0;32m      1\u001b[0m \u001b[1;31m# Define the train function\u001b[0m\u001b[1;33m\u001b[0m\u001b[1;33m\u001b[0m\u001b[1;33m\u001b[0m\u001b[0m\n\u001b[0;32m      2\u001b[0m \u001b[1;32mdef\u001b[0m \u001b[0mtrain\u001b[0m\u001b[1;33m(\u001b[0m\u001b[0mx\u001b[0m\u001b[1;33m,\u001b[0m \u001b[0my\u001b[0m\u001b[1;33m,\u001b[0m \u001b[0mlearning_rate\u001b[0m\u001b[1;33m,\u001b[0m\u001b[0miterations\u001b[0m\u001b[1;33m)\u001b[0m\u001b[1;33m:\u001b[0m\u001b[1;33m\u001b[0m\u001b[1;33m\u001b[0m\u001b[0m\n\u001b[1;32m----> 3\u001b[1;33m     \u001b[0mparameters_out\u001b[0m \u001b[1;33m=\u001b[0m \u001b[0moptimize\u001b[0m\u001b[1;33m(\u001b[0m\u001b[0mx\u001b[0m\u001b[1;33m,\u001b[0m \u001b[0my\u001b[0m\u001b[1;33m,\u001b[0m \u001b[0mlearning_rate\u001b[0m\u001b[1;33m,\u001b[0m \u001b[0miterations\u001b[0m \u001b[1;33m,\u001b[0m\u001b[0minit_parameters\u001b[0m\u001b[1;33m)\u001b[0m\u001b[1;33m\u001b[0m\u001b[1;33m\u001b[0m\u001b[0m\n\u001b[0m\u001b[0;32m      4\u001b[0m     \u001b[1;32mreturn\u001b[0m \u001b[0mparameters_out\u001b[0m\u001b[1;33m\u001b[0m\u001b[1;33m\u001b[0m\u001b[0m\n",
      "\u001b[1;32m<ipython-input-589-f9137fa1c3e6>\u001b[0m in \u001b[0;36moptimize\u001b[1;34m(x, y, learning_rate, iterations, parameters)\u001b[0m\n\u001b[0;32m      7\u001b[0m         \u001b[0msigma\u001b[0m \u001b[1;33m=\u001b[0m \u001b[0msigmoid\u001b[0m\u001b[1;33m(\u001b[0m\u001b[0mnp\u001b[0m\u001b[1;33m.\u001b[0m\u001b[0mdot\u001b[0m\u001b[1;33m(\u001b[0m\u001b[0mx\u001b[0m\u001b[1;33m,\u001b[0m \u001b[0mweight\u001b[0m\u001b[1;33m)\u001b[0m \u001b[1;33m+\u001b[0m \u001b[0mbias\u001b[0m\u001b[1;33m)\u001b[0m\u001b[1;33m\u001b[0m\u001b[1;33m\u001b[0m\u001b[0m\n\u001b[0;32m      8\u001b[0m         \u001b[0mprint\u001b[0m\u001b[1;33m(\u001b[0m\u001b[0msigma\u001b[0m\u001b[1;33m.\u001b[0m\u001b[0mshape\u001b[0m\u001b[1;33m)\u001b[0m\u001b[1;33m\u001b[0m\u001b[1;33m\u001b[0m\u001b[0m\n\u001b[1;32m----> 9\u001b[1;33m         \u001b[0mloss\u001b[0m \u001b[1;33m=\u001b[0m \u001b[1;33m-\u001b[0m\u001b[1;36m1\u001b[0m\u001b[1;33m/\u001b[0m\u001b[0msize\u001b[0m \u001b[1;33m*\u001b[0m \u001b[0mnp\u001b[0m\u001b[1;33m.\u001b[0m\u001b[0msum\u001b[0m\u001b[1;33m(\u001b[0m\u001b[0my\u001b[0m\u001b[1;33m.\u001b[0m\u001b[0mT\u001b[0m \u001b[1;33m*\u001b[0m \u001b[0mnp\u001b[0m\u001b[1;33m.\u001b[0m\u001b[0mlog\u001b[0m\u001b[1;33m(\u001b[0m\u001b[0msigma\u001b[0m\u001b[1;33m)\u001b[0m\u001b[1;33m)\u001b[0m \u001b[1;33m+\u001b[0m \u001b[1;33m(\u001b[0m\u001b[1;36m1\u001b[0m \u001b[1;33m-\u001b[0m \u001b[0my\u001b[0m\u001b[1;33m.\u001b[0m\u001b[0mT\u001b[0m\u001b[1;33m)\u001b[0m \u001b[1;33m*\u001b[0m \u001b[0mnp\u001b[0m\u001b[1;33m.\u001b[0m\u001b[0mlog\u001b[0m\u001b[1;33m(\u001b[0m\u001b[1;36m1\u001b[0m\u001b[1;33m-\u001b[0m\u001b[0msigma\u001b[0m\u001b[1;33m)\u001b[0m\u001b[1;33m\u001b[0m\u001b[1;33m\u001b[0m\u001b[0m\n\u001b[0m\u001b[0;32m     10\u001b[0m         \u001b[0mdW\u001b[0m \u001b[1;33m=\u001b[0m \u001b[1;36m1\u001b[0m\u001b[1;33m/\u001b[0m\u001b[0msize\u001b[0m \u001b[1;33m*\u001b[0m \u001b[0mnp\u001b[0m\u001b[1;33m.\u001b[0m\u001b[0mdot\u001b[0m\u001b[1;33m(\u001b[0m\u001b[0mx\u001b[0m\u001b[1;33m,\u001b[0m \u001b[1;33m(\u001b[0m\u001b[0msigma\u001b[0m \u001b[1;33m-\u001b[0m \u001b[0my\u001b[0m\u001b[1;33m.\u001b[0m\u001b[0mT\u001b[0m\u001b[1;33m)\u001b[0m\u001b[1;33m)\u001b[0m \u001b[1;31m#Le quite tramspose a x y se lo puse a Y, en toda la fuuncion\u001b[0m\u001b[1;33m\u001b[0m\u001b[1;33m\u001b[0m\u001b[0m\n\u001b[0;32m     11\u001b[0m         \u001b[0mprint\u001b[0m\u001b[1;33m(\u001b[0m\u001b[0mdW\u001b[0m\u001b[1;33m)\u001b[0m\u001b[1;33m\u001b[0m\u001b[1;33m\u001b[0m\u001b[0m\n",
      "\u001b[1;32m~\\anaconda3\\envs\\py_galileo_2021\\lib\\site-packages\\pandas\\core\\ops\\common.py\u001b[0m in \u001b[0;36mnew_method\u001b[1;34m(self, other)\u001b[0m\n\u001b[0;32m     63\u001b[0m         \u001b[0mother\u001b[0m \u001b[1;33m=\u001b[0m \u001b[0mitem_from_zerodim\u001b[0m\u001b[1;33m(\u001b[0m\u001b[0mother\u001b[0m\u001b[1;33m)\u001b[0m\u001b[1;33m\u001b[0m\u001b[1;33m\u001b[0m\u001b[0m\n\u001b[0;32m     64\u001b[0m \u001b[1;33m\u001b[0m\u001b[0m\n\u001b[1;32m---> 65\u001b[1;33m         \u001b[1;32mreturn\u001b[0m \u001b[0mmethod\u001b[0m\u001b[1;33m(\u001b[0m\u001b[0mself\u001b[0m\u001b[1;33m,\u001b[0m \u001b[0mother\u001b[0m\u001b[1;33m)\u001b[0m\u001b[1;33m\u001b[0m\u001b[1;33m\u001b[0m\u001b[0m\n\u001b[0m\u001b[0;32m     66\u001b[0m \u001b[1;33m\u001b[0m\u001b[0m\n\u001b[0;32m     67\u001b[0m     \u001b[1;32mreturn\u001b[0m \u001b[0mnew_method\u001b[0m\u001b[1;33m\u001b[0m\u001b[1;33m\u001b[0m\u001b[0m\n",
      "\u001b[1;32m~\\anaconda3\\envs\\py_galileo_2021\\lib\\site-packages\\pandas\\core\\arraylike.py\u001b[0m in \u001b[0;36m__mul__\u001b[1;34m(self, other)\u001b[0m\n\u001b[0;32m    103\u001b[0m     \u001b[1;33m@\u001b[0m\u001b[0munpack_zerodim_and_defer\u001b[0m\u001b[1;33m(\u001b[0m\u001b[1;34m\"__mul__\"\u001b[0m\u001b[1;33m)\u001b[0m\u001b[1;33m\u001b[0m\u001b[1;33m\u001b[0m\u001b[0m\n\u001b[0;32m    104\u001b[0m     \u001b[1;32mdef\u001b[0m \u001b[0m__mul__\u001b[0m\u001b[1;33m(\u001b[0m\u001b[0mself\u001b[0m\u001b[1;33m,\u001b[0m \u001b[0mother\u001b[0m\u001b[1;33m)\u001b[0m\u001b[1;33m:\u001b[0m\u001b[1;33m\u001b[0m\u001b[1;33m\u001b[0m\u001b[0m\n\u001b[1;32m--> 105\u001b[1;33m         \u001b[1;32mreturn\u001b[0m \u001b[0mself\u001b[0m\u001b[1;33m.\u001b[0m\u001b[0m_arith_method\u001b[0m\u001b[1;33m(\u001b[0m\u001b[0mother\u001b[0m\u001b[1;33m,\u001b[0m \u001b[0moperator\u001b[0m\u001b[1;33m.\u001b[0m\u001b[0mmul\u001b[0m\u001b[1;33m)\u001b[0m\u001b[1;33m\u001b[0m\u001b[1;33m\u001b[0m\u001b[0m\n\u001b[0m\u001b[0;32m    106\u001b[0m \u001b[1;33m\u001b[0m\u001b[0m\n\u001b[0;32m    107\u001b[0m     \u001b[1;33m@\u001b[0m\u001b[0munpack_zerodim_and_defer\u001b[0m\u001b[1;33m(\u001b[0m\u001b[1;34m\"__rmul__\"\u001b[0m\u001b[1;33m)\u001b[0m\u001b[1;33m\u001b[0m\u001b[1;33m\u001b[0m\u001b[0m\n",
      "\u001b[1;32m~\\anaconda3\\envs\\py_galileo_2021\\lib\\site-packages\\pandas\\core\\frame.py\u001b[0m in \u001b[0;36m_arith_method\u001b[1;34m(self, other, op)\u001b[0m\n\u001b[0;32m   5978\u001b[0m         \u001b[0maxis\u001b[0m \u001b[1;33m=\u001b[0m \u001b[1;36m1\u001b[0m  \u001b[1;31m# only relevant for Series other case\u001b[0m\u001b[1;33m\u001b[0m\u001b[1;33m\u001b[0m\u001b[0m\n\u001b[0;32m   5979\u001b[0m \u001b[1;33m\u001b[0m\u001b[0m\n\u001b[1;32m-> 5980\u001b[1;33m         \u001b[0mself\u001b[0m\u001b[1;33m,\u001b[0m \u001b[0mother\u001b[0m \u001b[1;33m=\u001b[0m \u001b[0mops\u001b[0m\u001b[1;33m.\u001b[0m\u001b[0malign_method_FRAME\u001b[0m\u001b[1;33m(\u001b[0m\u001b[0mself\u001b[0m\u001b[1;33m,\u001b[0m \u001b[0mother\u001b[0m\u001b[1;33m,\u001b[0m \u001b[0maxis\u001b[0m\u001b[1;33m,\u001b[0m \u001b[0mflex\u001b[0m\u001b[1;33m=\u001b[0m\u001b[1;32mTrue\u001b[0m\u001b[1;33m,\u001b[0m \u001b[0mlevel\u001b[0m\u001b[1;33m=\u001b[0m\u001b[1;32mNone\u001b[0m\u001b[1;33m)\u001b[0m\u001b[1;33m\u001b[0m\u001b[1;33m\u001b[0m\u001b[0m\n\u001b[0m\u001b[0;32m   5981\u001b[0m \u001b[1;33m\u001b[0m\u001b[0m\n\u001b[0;32m   5982\u001b[0m         \u001b[0mnew_data\u001b[0m \u001b[1;33m=\u001b[0m \u001b[0mself\u001b[0m\u001b[1;33m.\u001b[0m\u001b[0m_dispatch_frame_op\u001b[0m\u001b[1;33m(\u001b[0m\u001b[0mother\u001b[0m\u001b[1;33m,\u001b[0m \u001b[0mop\u001b[0m\u001b[1;33m,\u001b[0m \u001b[0maxis\u001b[0m\u001b[1;33m=\u001b[0m\u001b[0maxis\u001b[0m\u001b[1;33m)\u001b[0m\u001b[1;33m\u001b[0m\u001b[1;33m\u001b[0m\u001b[0m\n",
      "\u001b[1;32m~\\anaconda3\\envs\\py_galileo_2021\\lib\\site-packages\\pandas\\core\\ops\\__init__.py\u001b[0m in \u001b[0;36malign_method_FRAME\u001b[1;34m(left, right, axis, flex, level)\u001b[0m\n\u001b[0;32m    242\u001b[0m \u001b[1;33m\u001b[0m\u001b[0m\n\u001b[0;32m    243\u001b[0m             \u001b[1;32melse\u001b[0m\u001b[1;33m:\u001b[0m\u001b[1;33m\u001b[0m\u001b[1;33m\u001b[0m\u001b[0m\n\u001b[1;32m--> 244\u001b[1;33m                 raise ValueError(\n\u001b[0m\u001b[0;32m    245\u001b[0m                     \u001b[1;34m\"Unable to coerce to DataFrame, shape \"\u001b[0m\u001b[1;33m\u001b[0m\u001b[1;33m\u001b[0m\u001b[0m\n\u001b[0;32m    246\u001b[0m                     \u001b[1;34mf\"must be {left.shape}: given {right.shape}\"\u001b[0m\u001b[1;33m\u001b[0m\u001b[1;33m\u001b[0m\u001b[0m\n",
      "\u001b[1;31mValueError\u001b[0m: Unable to coerce to DataFrame, shape must be (1, 712): given (712, 712)"
     ]
    }
   ],
   "source": [
    "# Train the model\n",
    "Y_train[\"passenger_survived\"] = np.where(Y_train[\"passenger_survived\"] == \"N\" ,0,1)\n",
    "parameters_out = train(data_w, Y_train, learning_rate = 0.02, iterations = 500)"
   ]
  },
  {
   "cell_type": "code",
   "execution_count": null,
   "id": "funky-parliament",
   "metadata": {},
   "outputs": [],
   "source": []
  },
  {
   "cell_type": "code",
   "execution_count": null,
   "id": "floppy-study",
   "metadata": {},
   "outputs": [],
   "source": []
  },
  {
   "cell_type": "code",
   "execution_count": null,
   "id": "grave-attempt",
   "metadata": {},
   "outputs": [],
   "source": []
  },
  {
   "cell_type": "code",
   "execution_count": null,
   "id": "proud-partnership",
   "metadata": {},
   "outputs": [],
   "source": []
  },
  {
   "cell_type": "code",
   "execution_count": null,
   "id": "immediate-analyst",
   "metadata": {},
   "outputs": [],
   "source": []
  }
 ],
 "metadata": {
  "kernelspec": {
   "display_name": "Python 3",
   "language": "python",
   "name": "python3"
  },
  "language_info": {
   "codemirror_mode": {
    "name": "ipython",
    "version": 3
   },
   "file_extension": ".py",
   "mimetype": "text/x-python",
   "name": "python",
   "nbconvert_exporter": "python",
   "pygments_lexer": "ipython3",
   "version": "3.8.5"
  }
 },
 "nbformat": 4,
 "nbformat_minor": 5
}
