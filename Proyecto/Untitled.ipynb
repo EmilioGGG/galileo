{
 "cells": [
  {
   "cell_type": "markdown",
   "id": "efficient-corporation",
   "metadata": {},
   "source": [
    "# Proyecto Final"
   ]
  },
  {
   "cell_type": "markdown",
   "id": "stylish-debate",
   "metadata": {},
   "source": [
    "### Carga de librerías a utilizar y data"
   ]
  },
  {
   "cell_type": "code",
   "execution_count": 655,
   "id": "accepted-vacation",
   "metadata": {},
   "outputs": [],
   "source": [
    "import numpy as np\n",
    "import pandas as pd\n",
    "import math as mt\n",
    "from matplotlib import pyplot as plt\n",
    "import tensorflow as tf\n",
    "from scipy.stats import norm\n",
    "from numpy import random\n",
    "from sklearn.model_selection import train_test_split\n",
    "import seaborn as sns\n",
    "from sklearn.preprocessing import MinMaxScaler\n",
    "from sklearn import tree\n",
    "from sklearn.svm import SVC\n"
   ]
  },
  {
   "cell_type": "code",
   "execution_count": 585,
   "id": "demographic-antarctica",
   "metadata": {},
   "outputs": [
    {
     "name": "stdout",
     "output_type": "stream",
     "text": [
      "<class 'pandas.core.frame.DataFrame'>\n",
      "RangeIndex: 891 entries, 0 to 890\n",
      "Data columns (total 12 columns):\n",
      " #   Column              Non-Null Count  Dtype  \n",
      "---  ------              --------------  -----  \n",
      " 0   PassengerId         891 non-null    int64  \n",
      " 1   Name                891 non-null    object \n",
      " 2   Age                 714 non-null    float64\n",
      " 3   SibSp               891 non-null    int64  \n",
      " 4   Parch               891 non-null    int64  \n",
      " 5   Ticket              891 non-null    object \n",
      " 6   Fare                891 non-null    float64\n",
      " 7   Cabin               204 non-null    object \n",
      " 8   Embarked            889 non-null    object \n",
      " 9   passenger_class     891 non-null    object \n",
      " 10  passenger_sex       891 non-null    object \n",
      " 11  passenger_survived  891 non-null    object \n",
      "dtypes: float64(2), int64(3), object(7)\n",
      "memory usage: 83.7+ KB\n"
     ]
    }
   ],
   "source": [
    "data = pd.read_csv('data_titanic_proyecto.csv')\n",
    "data.info()"
   ]
  },
  {
   "cell_type": "code",
   "execution_count": 586,
   "id": "damaged-timothy",
   "metadata": {},
   "outputs": [
    {
     "data": {
      "text/html": [
       "<div>\n",
       "<style scoped>\n",
       "    .dataframe tbody tr th:only-of-type {\n",
       "        vertical-align: middle;\n",
       "    }\n",
       "\n",
       "    .dataframe tbody tr th {\n",
       "        vertical-align: top;\n",
       "    }\n",
       "\n",
       "    .dataframe thead th {\n",
       "        text-align: right;\n",
       "    }\n",
       "</style>\n",
       "<table border=\"1\" class=\"dataframe\">\n",
       "  <thead>\n",
       "    <tr style=\"text-align: right;\">\n",
       "      <th></th>\n",
       "      <th>PassengerId</th>\n",
       "      <th>Name</th>\n",
       "      <th>Age</th>\n",
       "      <th>SibSp</th>\n",
       "      <th>Parch</th>\n",
       "      <th>Ticket</th>\n",
       "      <th>Fare</th>\n",
       "      <th>Cabin</th>\n",
       "      <th>Embarked</th>\n",
       "      <th>passenger_class</th>\n",
       "      <th>passenger_sex</th>\n",
       "      <th>passenger_survived</th>\n",
       "    </tr>\n",
       "  </thead>\n",
       "  <tbody>\n",
       "    <tr>\n",
       "      <th>0</th>\n",
       "      <td>1</td>\n",
       "      <td>Braund, Mr. Owen Harris</td>\n",
       "      <td>22.0</td>\n",
       "      <td>1</td>\n",
       "      <td>0</td>\n",
       "      <td>A/5 21171</td>\n",
       "      <td>7.2500</td>\n",
       "      <td>NaN</td>\n",
       "      <td>S</td>\n",
       "      <td>Lower</td>\n",
       "      <td>M</td>\n",
       "      <td>N</td>\n",
       "    </tr>\n",
       "    <tr>\n",
       "      <th>1</th>\n",
       "      <td>2</td>\n",
       "      <td>Cumings, Mrs. John Bradley (Florence Briggs Th...</td>\n",
       "      <td>38.0</td>\n",
       "      <td>1</td>\n",
       "      <td>0</td>\n",
       "      <td>PC 17599</td>\n",
       "      <td>71.2833</td>\n",
       "      <td>C85</td>\n",
       "      <td>C</td>\n",
       "      <td>Upper</td>\n",
       "      <td>F</td>\n",
       "      <td>Y</td>\n",
       "    </tr>\n",
       "  </tbody>\n",
       "</table>\n",
       "</div>"
      ],
      "text/plain": [
       "   PassengerId                                               Name   Age  \\\n",
       "0            1                            Braund, Mr. Owen Harris  22.0   \n",
       "1            2  Cumings, Mrs. John Bradley (Florence Briggs Th...  38.0   \n",
       "\n",
       "   SibSp  Parch     Ticket     Fare Cabin Embarked passenger_class  \\\n",
       "0      1      0  A/5 21171   7.2500   NaN        S           Lower   \n",
       "1      1      0   PC 17599  71.2833   C85        C           Upper   \n",
       "\n",
       "  passenger_sex passenger_survived  \n",
       "0             M                  N  \n",
       "1             F                  Y  "
      ]
     },
     "execution_count": 586,
     "metadata": {},
     "output_type": "execute_result"
    }
   ],
   "source": [
    "data.head(2)"
   ]
  },
  {
   "cell_type": "markdown",
   "id": "elegant-prize",
   "metadata": {},
   "source": [
    "#### Variables Continuas: Age, SibSp, Parch, Fare\n",
    "#### Variables Discretas: Name,Ticket, Cabin, Enmarked., passenger_class, passenger_sex\n",
    "#### Variable Target: passenger_survived."
   ]
  },
  {
   "cell_type": "markdown",
   "id": "necessary-yorkshire",
   "metadata": {},
   "source": [
    "## Variables que no son relevantes para el análisis:\n",
    "* PassengerID\n",
    "* Name --Realizaremos análisis en esta para ver si afecta---"
   ]
  },
  {
   "cell_type": "code",
   "execution_count": 587,
   "id": "honest-empire",
   "metadata": {},
   "outputs": [],
   "source": [
    "x = data.iloc[:,[0,1,2,3,4,5,6,7,8,9,10]]\n",
    "y = data.iloc[:,[11]]\n",
    "X_train, X_test, Y_train, Y_test = train_test_split(x,y,test_size=0.20, random_state=42, shuffle = True)"
   ]
  },
  {
   "cell_type": "code",
   "execution_count": 588,
   "id": "alpine-annex",
   "metadata": {},
   "outputs": [
    {
     "name": "stdout",
     "output_type": "stream",
     "text": [
      "<class 'pandas.core.frame.DataFrame'>\n",
      "Int64Index: 712 entries, 331 to 102\n",
      "Data columns (total 11 columns):\n",
      " #   Column           Non-Null Count  Dtype  \n",
      "---  ------           --------------  -----  \n",
      " 0   PassengerId      712 non-null    int64  \n",
      " 1   Name             712 non-null    object \n",
      " 2   Age              572 non-null    float64\n",
      " 3   SibSp            712 non-null    int64  \n",
      " 4   Parch            712 non-null    int64  \n",
      " 5   Ticket           712 non-null    object \n",
      " 6   Fare             712 non-null    float64\n",
      " 7   Cabin            159 non-null    object \n",
      " 8   Embarked         710 non-null    object \n",
      " 9   passenger_class  712 non-null    object \n",
      " 10  passenger_sex    712 non-null    object \n",
      "dtypes: float64(2), int64(3), object(6)\n",
      "memory usage: 66.8+ KB\n"
     ]
    }
   ],
   "source": [
    "X_train.info()"
   ]
  },
  {
   "cell_type": "markdown",
   "id": "static-source",
   "metadata": {},
   "source": [
    "#### Trabajando con data que tiene NAN"
   ]
  },
  {
   "cell_type": "code",
   "execution_count": 589,
   "id": "historic-repeat",
   "metadata": {},
   "outputs": [
    {
     "name": "stdout",
     "output_type": "stream",
     "text": [
      "PassengerId          0\n",
      "Name                 0\n",
      "Age                140\n",
      "SibSp                0\n",
      "Parch                0\n",
      "Ticket               0\n",
      "Fare                 0\n",
      "Cabin              553\n",
      "Embarked             2\n",
      "passenger_class      0\n",
      "passenger_sex        0\n",
      "dtype: int64\n"
     ]
    }
   ],
   "source": [
    "print(X_train.isnull().sum())"
   ]
  },
  {
   "cell_type": "markdown",
   "id": "norman-gross",
   "metadata": {},
   "source": [
    "### Eliminamos la variable Cabin, que nos afectará en nuestro modelo"
   ]
  },
  {
   "cell_type": "code",
   "execution_count": 590,
   "id": "living-fellowship",
   "metadata": {},
   "outputs": [
    {
     "data": {
      "text/plain": [
       "Text(0.5, 0, 'Densidad Variables')"
      ]
     },
     "execution_count": 590,
     "metadata": {},
     "output_type": "execute_result"
    },
    {
     "data": {
      "image/png": "[encoded data removed]",
      "text/plain": [
       "<Figure size 576x432 with 1 Axes>"
      ]
     },
     "metadata": {},
     "output_type": "display_data"
    }
   ],
   "source": [
    "#Trabajando con NA's de Age\n",
    "X_train[\"Age\"].plot.density(figsize=(8,6),\n",
    "                      fontsize=14,\n",
    "\n",
    "                      linewidth=4)\n",
    "plt.xlabel(\"Densidad Variables\",size=16)\n"
   ]
  },
  {
   "cell_type": "code",
   "execution_count": 591,
   "id": "soviet-avenue",
   "metadata": {},
   "outputs": [
    {
     "data": {
      "text/plain": [
       "<AxesSubplot:title={'center':'Distribution of Age'}, ylabel='Frequency'>"
      ]
     },
     "execution_count": 591,
     "metadata": {},
     "output_type": "execute_result"
    },
    {
     "data": {
      "image/png": "[encoded data removed]",
      "text/plain": [
       "<Figure size 576x288 with 1 Axes>"
      ]
     },
     "metadata": {},
     "output_type": "display_data"
    }
   ],
   "source": [
    "X_train['Age'].plot.hist(title='Distribution of Age')"
   ]
  },
  {
   "cell_type": "code",
   "execution_count": 592,
   "id": "expired-rochester",
   "metadata": {},
   "outputs": [
    {
     "name": "stderr",
     "output_type": "stream",
     "text": [
      "<ipython-input-592-5360e510539f>:3: SettingWithCopyWarning: \n",
      "A value is trying to be set on a copy of a slice from a DataFrame.\n",
      "Try using .loc[row_indexer,col_indexer] = value instead\n",
      "\n",
      "See the caveats in the documentation: https://pandas.pydata.org/pandas-docs/stable/user_guide/indexing.html#returning-a-view-versus-a-copy\n",
      "  X_train[\"AgeMed\"] = X_train[\"Age\"].fillna(X_train[\"Age\"].mean())\n",
      "<ipython-input-592-5360e510539f>:5: SettingWithCopyWarning: \n",
      "A value is trying to be set on a copy of a slice from a DataFrame.\n",
      "Try using .loc[row_indexer,col_indexer] = value instead\n",
      "\n",
      "See the caveats in the documentation: https://pandas.pydata.org/pandas-docs/stable/user_guide/indexing.html#returning-a-view-versus-a-copy\n",
      "  X_train[\"AgeMedi\"] = X_train[\"Age\"].fillna(X_train[\"Age\"].median())\n",
      "<ipython-input-592-5360e510539f>:7: SettingWithCopyWarning: \n",
      "A value is trying to be set on a copy of a slice from a DataFrame.\n",
      "Try using .loc[row_indexer,col_indexer] = value instead\n",
      "\n",
      "See the caveats in the documentation: https://pandas.pydata.org/pandas-docs/stable/user_guide/indexing.html#returning-a-view-versus-a-copy\n",
      "  X_train[\"AgeCero\"] = X_train[\"Age\"].fillna(0)\n",
      "<ipython-input-592-5360e510539f>:10: SettingWithCopyWarning: \n",
      "A value is trying to be set on a copy of a slice from a DataFrame.\n",
      "Try using .loc[row_indexer,col_indexer] = value instead\n",
      "\n",
      "See the caveats in the documentation: https://pandas.pydata.org/pandas-docs/stable/user_guide/indexing.html#returning-a-view-versus-a-copy\n",
      "  X_train[\"AgeRand\"] = X_train[\"Age\"]\n",
      "C:\\Users\\Gary\\anaconda3\\envs\\py_galileo_2021\\lib\\site-packages\\pandas\\core\\indexing.py:1676: SettingWithCopyWarning: \n",
      "A value is trying to be set on a copy of a slice from a DataFrame.\n",
      "Try using .loc[row_indexer,col_indexer] = value instead\n",
      "\n",
      "See the caveats in the documentation: https://pandas.pydata.org/pandas-docs/stable/user_guide/indexing.html#returning-a-view-versus-a-copy\n",
      "  self._setitem_single_column(ilocs[0], value, pi)\n"
     ]
    }
   ],
   "source": [
    "#Agregando columnas para ver el comportamiento de la densidad y ver cual seleccionamos de ellas.\n",
    "#Media\n",
    "X_train[\"AgeMed\"] = X_train[\"Age\"].fillna(X_train[\"Age\"].mean())\n",
    "#Mediana\n",
    "X_train[\"AgeMedi\"] = X_train[\"Age\"].fillna(X_train[\"Age\"].median())\n",
    "#Remplazo con 0\n",
    "X_train[\"AgeCero\"] = X_train[\"Age\"].fillna(0)\n",
    "\n",
    "#Reemplazando con números Random\n",
    "X_train[\"AgeRand\"] = X_train[\"Age\"]\n",
    "null_rows = X_train['AgeRand'].isnull()\n",
    "num_null_rows = sum(null_rows)\n",
    "rand = random.randint(1, 65, size=num_null_rows)\n",
    "X_train.loc[null_rows, 'AgeRand'] = rand"
   ]
  },
  {
   "cell_type": "code",
   "execution_count": 593,
   "id": "unique-moisture",
   "metadata": {},
   "outputs": [
    {
     "data": {
      "text/plain": [
       "331    45.500000\n",
       "733    23.000000\n",
       "382    32.000000\n",
       "704    26.000000\n",
       "813     6.000000\n",
       "         ...    \n",
       "106    21.000000\n",
       "270    29.498846\n",
       "860    41.000000\n",
       "435    14.000000\n",
       "102    21.000000\n",
       "Name: AgeMed, Length: 712, dtype: float64"
      ]
     },
     "execution_count": 593,
     "metadata": {},
     "output_type": "execute_result"
    }
   ],
   "source": [
    "X_train[\"AgeMed\"]"
   ]
  },
  {
   "cell_type": "code",
   "execution_count": 594,
   "id": "single-competition",
   "metadata": {},
   "outputs": [
    {
     "name": "stdout",
     "output_type": "stream",
     "text": [
      "PassengerId          0\n",
      "Name                 0\n",
      "Age                140\n",
      "SibSp                0\n",
      "Parch                0\n",
      "Ticket               0\n",
      "Fare                 0\n",
      "Cabin              553\n",
      "Embarked             2\n",
      "passenger_class      0\n",
      "passenger_sex        0\n",
      "AgeMed               0\n",
      "AgeMedi              0\n",
      "AgeCero              0\n",
      "AgeRand              0\n",
      "dtype: int64\n"
     ]
    }
   ],
   "source": [
    "print(X_train.isnull().sum())"
   ]
  },
  {
   "cell_type": "code",
   "execution_count": 595,
   "id": "collect-generation",
   "metadata": {},
   "outputs": [
    {
     "data": {
      "text/plain": [
       "<AxesSubplot:ylabel='Density'>"
      ]
     },
     "execution_count": 595,
     "metadata": {},
     "output_type": "execute_result"
    },
    {
     "data": {
      "image/png": "[encoded data removed]",
      "text/plain": [
       "<Figure size 576x288 with 1 Axes>"
      ]
     },
     "metadata": {},
     "output_type": "display_data"
    }
   ],
   "source": [
    "X_train[[\"Age\", \"AgeMed\", \"AgeMedi\", \"AgeCero\", \"AgeRand\"]].plot.kde()"
   ]
  },
  {
   "cell_type": "code",
   "execution_count": 596,
   "id": "promotional-canberra",
   "metadata": {},
   "outputs": [
    {
     "data": {
      "text/plain": [
       "<AxesSubplot:title={'center':'Distribution of Age'}, ylabel='Frequency'>"
      ]
     },
     "execution_count": 596,
     "metadata": {},
     "output_type": "execute_result"
    },
    {
     "data": {
      "image/png": "[encoded data removed]",
      "text/plain": [
       "<Figure size 576x288 with 1 Axes>"
      ]
     },
     "metadata": {},
     "output_type": "display_data"
    }
   ],
   "source": [
    "X_train['AgeRand'].plot.hist(title='Distribution of Age')"
   ]
  },
  {
   "cell_type": "markdown",
   "id": "russian-bleeding",
   "metadata": {},
   "source": [
    "### La modificacion que menos nos modifica la densidad de nuestra variable es usando Random, esa seleccionaremos "
   ]
  },
  {
   "cell_type": "code",
   "execution_count": 597,
   "id": "serious-color",
   "metadata": {},
   "outputs": [
    {
     "data": {
      "text/html": [
       "<div>\n",
       "<style scoped>\n",
       "    .dataframe tbody tr th:only-of-type {\n",
       "        vertical-align: middle;\n",
       "    }\n",
       "\n",
       "    .dataframe tbody tr th {\n",
       "        vertical-align: top;\n",
       "    }\n",
       "\n",
       "    .dataframe thead th {\n",
       "        text-align: right;\n",
       "    }\n",
       "</style>\n",
       "<table border=\"1\" class=\"dataframe\">\n",
       "  <thead>\n",
       "    <tr style=\"text-align: right;\">\n",
       "      <th></th>\n",
       "      <th>PassengerId</th>\n",
       "      <th>Age</th>\n",
       "      <th>SibSp</th>\n",
       "      <th>Parch</th>\n",
       "      <th>Fare</th>\n",
       "      <th>AgeMed</th>\n",
       "      <th>AgeMedi</th>\n",
       "      <th>AgeCero</th>\n",
       "      <th>AgeRand</th>\n",
       "    </tr>\n",
       "  </thead>\n",
       "  <tbody>\n",
       "    <tr>\n",
       "      <th>count</th>\n",
       "      <td>712.000000</td>\n",
       "      <td>572.000000</td>\n",
       "      <td>712.000000</td>\n",
       "      <td>712.000000</td>\n",
       "      <td>712.000000</td>\n",
       "      <td>712.000000</td>\n",
       "      <td>712.000000</td>\n",
       "      <td>712.000000</td>\n",
       "      <td>712.000000</td>\n",
       "    </tr>\n",
       "    <tr>\n",
       "      <th>mean</th>\n",
       "      <td>448.234551</td>\n",
       "      <td>29.498846</td>\n",
       "      <td>0.553371</td>\n",
       "      <td>0.379213</td>\n",
       "      <td>32.586276</td>\n",
       "      <td>29.498846</td>\n",
       "      <td>29.204129</td>\n",
       "      <td>23.698511</td>\n",
       "      <td>29.663399</td>\n",
       "    </tr>\n",
       "    <tr>\n",
       "      <th>std</th>\n",
       "      <td>256.731423</td>\n",
       "      <td>14.500059</td>\n",
       "      <td>1.176404</td>\n",
       "      <td>0.791669</td>\n",
       "      <td>51.969529</td>\n",
       "      <td>12.994304</td>\n",
       "      <td>13.007971</td>\n",
       "      <td>17.507272</td>\n",
       "      <td>15.431064</td>\n",
       "    </tr>\n",
       "    <tr>\n",
       "      <th>min</th>\n",
       "      <td>1.000000</td>\n",
       "      <td>0.420000</td>\n",
       "      <td>0.000000</td>\n",
       "      <td>0.000000</td>\n",
       "      <td>0.000000</td>\n",
       "      <td>0.420000</td>\n",
       "      <td>0.420000</td>\n",
       "      <td>0.000000</td>\n",
       "      <td>0.420000</td>\n",
       "    </tr>\n",
       "    <tr>\n",
       "      <th>25%</th>\n",
       "      <td>224.750000</td>\n",
       "      <td>21.000000</td>\n",
       "      <td>0.000000</td>\n",
       "      <td>0.000000</td>\n",
       "      <td>7.925000</td>\n",
       "      <td>22.000000</td>\n",
       "      <td>22.000000</td>\n",
       "      <td>5.000000</td>\n",
       "      <td>19.750000</td>\n",
       "    </tr>\n",
       "    <tr>\n",
       "      <th>50%</th>\n",
       "      <td>453.500000</td>\n",
       "      <td>28.000000</td>\n",
       "      <td>0.000000</td>\n",
       "      <td>0.000000</td>\n",
       "      <td>14.454200</td>\n",
       "      <td>29.498846</td>\n",
       "      <td>28.000000</td>\n",
       "      <td>24.000000</td>\n",
       "      <td>28.000000</td>\n",
       "    </tr>\n",
       "    <tr>\n",
       "      <th>75%</th>\n",
       "      <td>673.500000</td>\n",
       "      <td>38.000000</td>\n",
       "      <td>1.000000</td>\n",
       "      <td>0.000000</td>\n",
       "      <td>30.500000</td>\n",
       "      <td>35.000000</td>\n",
       "      <td>35.000000</td>\n",
       "      <td>35.000000</td>\n",
       "      <td>40.000000</td>\n",
       "    </tr>\n",
       "    <tr>\n",
       "      <th>max</th>\n",
       "      <td>891.000000</td>\n",
       "      <td>80.000000</td>\n",
       "      <td>8.000000</td>\n",
       "      <td>6.000000</td>\n",
       "      <td>512.329200</td>\n",
       "      <td>80.000000</td>\n",
       "      <td>80.000000</td>\n",
       "      <td>80.000000</td>\n",
       "      <td>80.000000</td>\n",
       "    </tr>\n",
       "  </tbody>\n",
       "</table>\n",
       "</div>"
      ],
      "text/plain": [
       "       PassengerId         Age       SibSp       Parch        Fare  \\\n",
       "count   712.000000  572.000000  712.000000  712.000000  712.000000   \n",
       "mean    448.234551   29.498846    0.553371    0.379213   32.586276   \n",
       "std     256.731423   14.500059    1.176404    0.791669   51.969529   \n",
       "min       1.000000    0.420000    0.000000    0.000000    0.000000   \n",
       "25%     224.750000   21.000000    0.000000    0.000000    7.925000   \n",
       "50%     453.500000   28.000000    0.000000    0.000000   14.454200   \n",
       "75%     673.500000   38.000000    1.000000    0.000000   30.500000   \n",
       "max     891.000000   80.000000    8.000000    6.000000  512.329200   \n",
       "\n",
       "           AgeMed     AgeMedi     AgeCero     AgeRand  \n",
       "count  712.000000  712.000000  712.000000  712.000000  \n",
       "mean    29.498846   29.204129   23.698511   29.663399  \n",
       "std     12.994304   13.007971   17.507272   15.431064  \n",
       "min      0.420000    0.420000    0.000000    0.420000  \n",
       "25%     22.000000   22.000000    5.000000   19.750000  \n",
       "50%     29.498846   28.000000   24.000000   28.000000  \n",
       "75%     35.000000   35.000000   35.000000   40.000000  \n",
       "max     80.000000   80.000000   80.000000   80.000000  "
      ]
     },
     "execution_count": 597,
     "metadata": {},
     "output_type": "execute_result"
    }
   ],
   "source": [
    "X_train.describe()"
   ]
  },
  {
   "cell_type": "markdown",
   "id": "lovely-poetry",
   "metadata": {},
   "source": [
    "## Identificando Outliers en Data"
   ]
  },
  {
   "cell_type": "code",
   "execution_count": 598,
   "id": "matched-sector",
   "metadata": {},
   "outputs": [
    {
     "data": {
      "image/png": "[encoded data removed]",
      "text/plain": [
       "<Figure size 720x360 with 4 Axes>"
      ]
     },
     "metadata": {},
     "output_type": "display_data"
    }
   ],
   "source": [
    "sns.set(rc={\"figure.figsize\": (10, 5)}); np.random.seed(0)\n",
    "plt.subplot(2,2,1)\n",
    "plt.title(\"Age Rand\")\n",
    "sns.boxplot(x=X_train['AgeRand'])\n",
    "\n",
    "sns.set(rc={\"figure.figsize\": (8, 4)}); np.random.seed(0)\n",
    "plt.subplot(2,2,2)\n",
    "plt.title(\"Fare\")\n",
    "sns.boxplot(x=X_train['Fare'])\n",
    "\n",
    "sns.set(rc={\"figure.figsize\": (8, 4)}); np.random.seed(0)\n",
    "plt.subplot(2,2,3)\n",
    "plt.title(\"SibSb\")\n",
    "sns.boxplot(x=X_train['SibSp'])\n",
    "\n",
    "sns.set(rc={\"figure.figsize\": (8, 4)}); np.random.seed(0)\n",
    "plt.subplot(2,2,4)\n",
    "plt.title(\"Parch\")\n",
    "sns.boxplot(x=X_train['Parch'])\n",
    "\n",
    "plt.show()"
   ]
  },
  {
   "cell_type": "markdown",
   "id": "equipped-boutique",
   "metadata": {},
   "source": [
    "### Trabajando variable Parch"
   ]
  },
  {
   "cell_type": "code",
   "execution_count": 599,
   "id": "buried-disclosure",
   "metadata": {},
   "outputs": [
    {
     "data": {
      "text/plain": [
       "0    541\n",
       "1     94\n",
       "2     67\n",
       "3      3\n",
       "4      3\n",
       "5      3\n",
       "6      1\n",
       "Name: Parch, dtype: int64"
      ]
     },
     "execution_count": 599,
     "metadata": {},
     "output_type": "execute_result"
    }
   ],
   "source": [
    "X_train[\"Parch\"].value_counts()"
   ]
  },
  {
   "cell_type": "code",
   "execution_count": 600,
   "id": "exposed-trash",
   "metadata": {},
   "outputs": [
    {
     "name": "stdout",
     "output_type": "stream",
     "text": [
      "0.0\n",
      "2.0\n"
     ]
    }
   ],
   "source": [
    "print(X_train['Parch'].quantile(0.10))\n",
    "\n",
    "print(X_train['Parch'].quantile(0.90))"
   ]
  },
  {
   "cell_type": "code",
   "execution_count": 601,
   "id": "strong-canadian",
   "metadata": {},
   "outputs": [
    {
     "name": "stderr",
     "output_type": "stream",
     "text": [
      "<ipython-input-601-200638deada0>:1: SettingWithCopyWarning: \n",
      "A value is trying to be set on a copy of a slice from a DataFrame.\n",
      "Try using .loc[row_indexer,col_indexer] = value instead\n",
      "\n",
      "See the caveats in the documentation: https://pandas.pydata.org/pandas-docs/stable/user_guide/indexing.html#returning-a-view-versus-a-copy\n",
      "  X_train[\"Parch\"] = np.where(X_train[\"Parch\"] > 2, 2,X_train[\"Parch\"])\n"
     ]
    }
   ],
   "source": [
    "X_train[\"Parch\"] = np.where(X_train[\"Parch\"] > 2, 2,X_train[\"Parch\"])"
   ]
  },
  {
   "cell_type": "code",
   "execution_count": 602,
   "id": "sophisticated-anger",
   "metadata": {},
   "outputs": [
    {
     "data": {
      "text/plain": [
       "<AxesSubplot:title={'center':'Parch'}, xlabel='Parch'>"
      ]
     },
     "execution_count": 602,
     "metadata": {},
     "output_type": "execute_result"
    },
    {
     "data": {
      "image/png": "[encoded data removed]",
      "text/plain": [
       "<Figure size 576x288 with 1 Axes>"
      ]
     },
     "metadata": {},
     "output_type": "display_data"
    }
   ],
   "source": [
    "plt.title(\"Parch\")\n",
    "sns.boxplot(x=X_train['Parch'])"
   ]
  },
  {
   "cell_type": "markdown",
   "id": "covered-fantasy",
   "metadata": {},
   "source": [
    "### Trabajando con variable SibSp"
   ]
  },
  {
   "cell_type": "code",
   "execution_count": 603,
   "id": "reasonable-pantyhose",
   "metadata": {},
   "outputs": [
    {
     "data": {
      "text/plain": [
       "0    484\n",
       "1    164\n",
       "2     23\n",
       "4     16\n",
       "3     13\n",
       "8      7\n",
       "5      5\n",
       "Name: SibSp, dtype: int64"
      ]
     },
     "execution_count": 603,
     "metadata": {},
     "output_type": "execute_result"
    }
   ],
   "source": [
    "X_train[\"SibSp\"].value_counts()"
   ]
  },
  {
   "cell_type": "code",
   "execution_count": 604,
   "id": "tracked-young",
   "metadata": {},
   "outputs": [
    {
     "name": "stdout",
     "output_type": "stream",
     "text": [
      "0.0\n",
      "1.0\n"
     ]
    }
   ],
   "source": [
    "print(X_train['SibSp'].quantile(0.10))\n",
    "\n",
    "print(X_train['SibSp'].quantile(0.90))"
   ]
  },
  {
   "cell_type": "code",
   "execution_count": 638,
   "id": "another-detection",
   "metadata": {},
   "outputs": [],
   "source": [
    "X_train[\"SibSp\"] = np.where(X_train[\"SibSp\"] > 1, 1,X_train[\"SibSp\"])\n",
    "X_train[\"SibSp\"] = np.where(X_train[\"SibSp\"] < 0, 0,X_train[\"SibSp\"])"
   ]
  },
  {
   "cell_type": "code",
   "execution_count": 606,
   "id": "brave-radar",
   "metadata": {},
   "outputs": [
    {
     "data": {
      "text/plain": [
       "<AxesSubplot:title={'center':'SibSp'}, xlabel='SibSp'>"
      ]
     },
     "execution_count": 606,
     "metadata": {},
     "output_type": "execute_result"
    },
    {
     "data": {
      "image/png": "[encoded data removed]",
      "text/plain": [
       "<Figure size 576x288 with 1 Axes>"
      ]
     },
     "metadata": {},
     "output_type": "display_data"
    }
   ],
   "source": [
    "plt.title(\"SibSp\")\n",
    "sns.boxplot(x=X_train['SibSp'])"
   ]
  },
  {
   "cell_type": "markdown",
   "id": "seeing-ensemble",
   "metadata": {},
   "source": [
    "### Trabajando Variable Age"
   ]
  },
  {
   "cell_type": "code",
   "execution_count": 607,
   "id": "bright-conversion",
   "metadata": {},
   "outputs": [
    {
     "name": "stdout",
     "output_type": "stream",
     "text": [
      "9.0\n",
      "51.0\n"
     ]
    }
   ],
   "source": [
    "print(X_train['AgeRand'].quantile(0.10))\n",
    "\n",
    "print(X_train['AgeRand'].quantile(0.90))"
   ]
  },
  {
   "cell_type": "code",
   "execution_count": 608,
   "id": "criminal-hawaiian",
   "metadata": {},
   "outputs": [
    {
     "name": "stderr",
     "output_type": "stream",
     "text": [
      "<ipython-input-608-85c29073bfbb>:1: SettingWithCopyWarning: \n",
      "A value is trying to be set on a copy of a slice from a DataFrame.\n",
      "Try using .loc[row_indexer,col_indexer] = value instead\n",
      "\n",
      "See the caveats in the documentation: https://pandas.pydata.org/pandas-docs/stable/user_guide/indexing.html#returning-a-view-versus-a-copy\n",
      "  X_train[\"AgeRand\"] = np.where(X_train[\"AgeRand\"] < 9, 14,X_train[\"AgeRand\"])\n",
      "<ipython-input-608-85c29073bfbb>:3: SettingWithCopyWarning: \n",
      "A value is trying to be set on a copy of a slice from a DataFrame.\n",
      "Try using .loc[row_indexer,col_indexer] = value instead\n",
      "\n",
      "See the caveats in the documentation: https://pandas.pydata.org/pandas-docs/stable/user_guide/indexing.html#returning-a-view-versus-a-copy\n",
      "  X_train[\"AgeRand\"] = np.where(X_train[\"AgeRand\"] > 60, 14,X_train[\"AgeRand\"])\n"
     ]
    }
   ],
   "source": [
    "X_train[\"AgeRand\"] = np.where(X_train[\"AgeRand\"] < 9, 14,X_train[\"AgeRand\"])\n",
    "\n",
    "X_train[\"AgeRand\"] = np.where(X_train[\"AgeRand\"] > 60, 14,X_train[\"AgeRand\"])"
   ]
  },
  {
   "cell_type": "code",
   "execution_count": 609,
   "id": "beneficial-vacation",
   "metadata": {},
   "outputs": [
    {
     "data": {
      "text/plain": [
       "<AxesSubplot:title={'center':'AgeRand'}, xlabel='AgeRand'>"
      ]
     },
     "execution_count": 609,
     "metadata": {},
     "output_type": "execute_result"
    },
    {
     "data": {
      "image/png": "[encoded data removed]",
      "text/plain": [
       "<Figure size 576x288 with 1 Axes>"
      ]
     },
     "metadata": {},
     "output_type": "display_data"
    }
   ],
   "source": [
    "plt.title(\"AgeRand\")\n",
    "sns.boxplot(x=X_train['AgeRand'])"
   ]
  },
  {
   "cell_type": "code",
   "execution_count": 610,
   "id": "disciplinary-excuse",
   "metadata": {},
   "outputs": [
    {
     "data": {
      "text/html": [
       "<div>\n",
       "<style scoped>\n",
       "    .dataframe tbody tr th:only-of-type {\n",
       "        vertical-align: middle;\n",
       "    }\n",
       "\n",
       "    .dataframe tbody tr th {\n",
       "        vertical-align: top;\n",
       "    }\n",
       "\n",
       "    .dataframe thead th {\n",
       "        text-align: right;\n",
       "    }\n",
       "</style>\n",
       "<table border=\"1\" class=\"dataframe\">\n",
       "  <thead>\n",
       "    <tr style=\"text-align: right;\">\n",
       "      <th></th>\n",
       "      <th>PassengerId</th>\n",
       "      <th>Age</th>\n",
       "      <th>SibSp</th>\n",
       "      <th>Parch</th>\n",
       "      <th>Fare</th>\n",
       "      <th>AgeMed</th>\n",
       "      <th>AgeMedi</th>\n",
       "      <th>AgeCero</th>\n",
       "      <th>AgeRand</th>\n",
       "    </tr>\n",
       "  </thead>\n",
       "  <tbody>\n",
       "    <tr>\n",
       "      <th>count</th>\n",
       "      <td>712.000000</td>\n",
       "      <td>572.000000</td>\n",
       "      <td>712.000000</td>\n",
       "      <td>712.000000</td>\n",
       "      <td>712.000000</td>\n",
       "      <td>712.000000</td>\n",
       "      <td>712.000000</td>\n",
       "      <td>712.000000</td>\n",
       "      <td>712.000000</td>\n",
       "    </tr>\n",
       "    <tr>\n",
       "      <th>mean</th>\n",
       "      <td>448.234551</td>\n",
       "      <td>29.498846</td>\n",
       "      <td>0.320225</td>\n",
       "      <td>0.348315</td>\n",
       "      <td>32.586276</td>\n",
       "      <td>29.498846</td>\n",
       "      <td>29.204129</td>\n",
       "      <td>23.698511</td>\n",
       "      <td>29.423455</td>\n",
       "    </tr>\n",
       "    <tr>\n",
       "      <th>std</th>\n",
       "      <td>256.731423</td>\n",
       "      <td>14.500059</td>\n",
       "      <td>0.466891</td>\n",
       "      <td>0.666264</td>\n",
       "      <td>51.969529</td>\n",
       "      <td>12.994304</td>\n",
       "      <td>13.007971</td>\n",
       "      <td>17.507272</td>\n",
       "      <td>12.872335</td>\n",
       "    </tr>\n",
       "    <tr>\n",
       "      <th>min</th>\n",
       "      <td>1.000000</td>\n",
       "      <td>0.420000</td>\n",
       "      <td>0.000000</td>\n",
       "      <td>0.000000</td>\n",
       "      <td>0.000000</td>\n",
       "      <td>0.420000</td>\n",
       "      <td>0.420000</td>\n",
       "      <td>0.000000</td>\n",
       "      <td>9.000000</td>\n",
       "    </tr>\n",
       "    <tr>\n",
       "      <th>25%</th>\n",
       "      <td>224.750000</td>\n",
       "      <td>21.000000</td>\n",
       "      <td>0.000000</td>\n",
       "      <td>0.000000</td>\n",
       "      <td>7.925000</td>\n",
       "      <td>22.000000</td>\n",
       "      <td>22.000000</td>\n",
       "      <td>5.000000</td>\n",
       "      <td>19.000000</td>\n",
       "    </tr>\n",
       "    <tr>\n",
       "      <th>50%</th>\n",
       "      <td>453.500000</td>\n",
       "      <td>28.000000</td>\n",
       "      <td>0.000000</td>\n",
       "      <td>0.000000</td>\n",
       "      <td>14.454200</td>\n",
       "      <td>29.498846</td>\n",
       "      <td>28.000000</td>\n",
       "      <td>24.000000</td>\n",
       "      <td>28.000000</td>\n",
       "    </tr>\n",
       "    <tr>\n",
       "      <th>75%</th>\n",
       "      <td>673.500000</td>\n",
       "      <td>38.000000</td>\n",
       "      <td>1.000000</td>\n",
       "      <td>0.000000</td>\n",
       "      <td>30.500000</td>\n",
       "      <td>35.000000</td>\n",
       "      <td>35.000000</td>\n",
       "      <td>35.000000</td>\n",
       "      <td>38.000000</td>\n",
       "    </tr>\n",
       "    <tr>\n",
       "      <th>max</th>\n",
       "      <td>891.000000</td>\n",
       "      <td>80.000000</td>\n",
       "      <td>1.000000</td>\n",
       "      <td>2.000000</td>\n",
       "      <td>512.329200</td>\n",
       "      <td>80.000000</td>\n",
       "      <td>80.000000</td>\n",
       "      <td>80.000000</td>\n",
       "      <td>60.000000</td>\n",
       "    </tr>\n",
       "  </tbody>\n",
       "</table>\n",
       "</div>"
      ],
      "text/plain": [
       "       PassengerId         Age       SibSp       Parch        Fare  \\\n",
       "count   712.000000  572.000000  712.000000  712.000000  712.000000   \n",
       "mean    448.234551   29.498846    0.320225    0.348315   32.586276   \n",
       "std     256.731423   14.500059    0.466891    0.666264   51.969529   \n",
       "min       1.000000    0.420000    0.000000    0.000000    0.000000   \n",
       "25%     224.750000   21.000000    0.000000    0.000000    7.925000   \n",
       "50%     453.500000   28.000000    0.000000    0.000000   14.454200   \n",
       "75%     673.500000   38.000000    1.000000    0.000000   30.500000   \n",
       "max     891.000000   80.000000    1.000000    2.000000  512.329200   \n",
       "\n",
       "           AgeMed     AgeMedi     AgeCero     AgeRand  \n",
       "count  712.000000  712.000000  712.000000  712.000000  \n",
       "mean    29.498846   29.204129   23.698511   29.423455  \n",
       "std     12.994304   13.007971   17.507272   12.872335  \n",
       "min      0.420000    0.420000    0.000000    9.000000  \n",
       "25%     22.000000   22.000000    5.000000   19.000000  \n",
       "50%     29.498846   28.000000   24.000000   28.000000  \n",
       "75%     35.000000   35.000000   35.000000   38.000000  \n",
       "max     80.000000   80.000000   80.000000   60.000000  "
      ]
     },
     "execution_count": 610,
     "metadata": {},
     "output_type": "execute_result"
    }
   ],
   "source": [
    "X_train.describe()"
   ]
  },
  {
   "cell_type": "code",
   "execution_count": 611,
   "id": "anticipated-thought",
   "metadata": {},
   "outputs": [],
   "source": [
    "### Eliminamos variables que no utilizaremos\n",
    "X_train = X_train.drop([\"PassengerId\",\"Age\",\"AgeMed\",\"AgeMedi\",\"AgeCero\", \"Cabin\", \"Ticket\", \"Name\"], axis=1)"
   ]
  },
  {
   "cell_type": "code",
   "execution_count": 612,
   "id": "double-border",
   "metadata": {},
   "outputs": [
    {
     "name": "stdout",
     "output_type": "stream",
     "text": [
      "<class 'pandas.core.frame.DataFrame'>\n",
      "Int64Index: 712 entries, 331 to 102\n",
      "Data columns (total 7 columns):\n",
      " #   Column           Non-Null Count  Dtype  \n",
      "---  ------           --------------  -----  \n",
      " 0   SibSp            712 non-null    int64  \n",
      " 1   Parch            712 non-null    int64  \n",
      " 2   Fare             712 non-null    float64\n",
      " 3   Embarked         710 non-null    object \n",
      " 4   passenger_class  712 non-null    object \n",
      " 5   passenger_sex    712 non-null    object \n",
      " 6   AgeRand          712 non-null    float64\n",
      "dtypes: float64(2), int64(2), object(3)\n",
      "memory usage: 44.5+ KB\n"
     ]
    }
   ],
   "source": [
    "X_train.info()"
   ]
  },
  {
   "cell_type": "code",
   "execution_count": 613,
   "id": "decent-ecology",
   "metadata": {},
   "outputs": [
    {
     "data": {
      "text/plain": [
       "Lower     398\n",
       "Upper     163\n",
       "Middle    151\n",
       "Name: passenger_class, dtype: int64"
      ]
     },
     "execution_count": 613,
     "metadata": {},
     "output_type": "execute_result"
    }
   ],
   "source": [
    "X_train[\"passenger_class\"].value_counts()"
   ]
  },
  {
   "cell_type": "code",
   "execution_count": 614,
   "id": "equivalent-procurement",
   "metadata": {},
   "outputs": [
    {
     "data": {
      "text/plain": [
       "M    467\n",
       "F    245\n",
       "Name: passenger_sex, dtype: int64"
      ]
     },
     "execution_count": 614,
     "metadata": {},
     "output_type": "execute_result"
    }
   ],
   "source": [
    "X_train[\"passenger_sex\"].value_counts()"
   ]
  },
  {
   "cell_type": "code",
   "execution_count": 615,
   "id": "peripheral-voice",
   "metadata": {},
   "outputs": [
    {
     "data": {
      "text/plain": [
       "S    525\n",
       "C    125\n",
       "Q     60\n",
       "Name: Embarked, dtype: int64"
      ]
     },
     "execution_count": 615,
     "metadata": {},
     "output_type": "execute_result"
    }
   ],
   "source": [
    "X_train[\"Embarked\"].value_counts()"
   ]
  },
  {
   "cell_type": "code",
   "execution_count": 616,
   "id": "broken-orlando",
   "metadata": {},
   "outputs": [
    {
     "name": "stdout",
     "output_type": "stream",
     "text": [
      "     passenger_sex_F  passenger_sex_M\n",
      "331                0                1\n",
      "733                0                1\n",
      "382                0                1\n",
      "704                0                1\n",
      "813                1                0\n",
      "..               ...              ...\n",
      "106                1                0\n",
      "270                0                1\n",
      "860                0                1\n",
      "435                1                0\n",
      "102                0                1\n",
      "\n",
      "[712 rows x 2 columns]\n"
     ]
    }
   ],
   "source": [
    "DUM_pass_class = pd.get_dummies(X_train[\"passenger_class\"], prefix='passenger_class')\n",
    "DUM_pass_sex = pd.get_dummies(X_train[\"passenger_sex\"], prefix='passenger_sex')\n",
    "DUM_pass_embarked = pd.get_dummies(X_train[\"Embarked\"], prefix='Embarked')\n",
    "print(DUM_pass_sex)"
   ]
  },
  {
   "cell_type": "code",
   "execution_count": 617,
   "id": "accomplished-nancy",
   "metadata": {},
   "outputs": [],
   "source": [
    "#Agregando las nuevas variables despues del Dummy Enconding\n",
    "X_train = pd.concat([X_train,DUM_pass_class,DUM_pass_sex, DUM_pass_embarked], axis=1)\n",
    "#,DUM_pass_sex,DUM_pass_embarked"
   ]
  },
  {
   "cell_type": "code",
   "execution_count": 618,
   "id": "married-western",
   "metadata": {},
   "outputs": [
    {
     "name": "stdout",
     "output_type": "stream",
     "text": [
      "<class 'pandas.core.frame.DataFrame'>\n",
      "Int64Index: 712 entries, 331 to 102\n",
      "Data columns (total 15 columns):\n",
      " #   Column                  Non-Null Count  Dtype  \n",
      "---  ------                  --------------  -----  \n",
      " 0   SibSp                   712 non-null    int64  \n",
      " 1   Parch                   712 non-null    int64  \n",
      " 2   Fare                    712 non-null    float64\n",
      " 3   Embarked                710 non-null    object \n",
      " 4   passenger_class         712 non-null    object \n",
      " 5   passenger_sex           712 non-null    object \n",
      " 6   AgeRand                 712 non-null    float64\n",
      " 7   passenger_class_Lower   712 non-null    uint8  \n",
      " 8   passenger_class_Middle  712 non-null    uint8  \n",
      " 9   passenger_class_Upper   712 non-null    uint8  \n",
      " 10  passenger_sex_F         712 non-null    uint8  \n",
      " 11  passenger_sex_M         712 non-null    uint8  \n",
      " 12  Embarked_C              712 non-null    uint8  \n",
      " 13  Embarked_Q              712 non-null    uint8  \n",
      " 14  Embarked_S              712 non-null    uint8  \n",
      "dtypes: float64(2), int64(2), object(3), uint8(8)\n",
      "memory usage: 50.1+ KB\n"
     ]
    }
   ],
   "source": [
    "X_train.info()"
   ]
  },
  {
   "cell_type": "code",
   "execution_count": 619,
   "id": "treated-religious",
   "metadata": {},
   "outputs": [
    {
     "name": "stdout",
     "output_type": "stream",
     "text": [
      "<class 'pandas.core.frame.DataFrame'>\n",
      "Int64Index: 712 entries, 331 to 102\n",
      "Data columns (total 12 columns):\n",
      " #   Column                  Non-Null Count  Dtype  \n",
      "---  ------                  --------------  -----  \n",
      " 0   SibSp                   712 non-null    int64  \n",
      " 1   Parch                   712 non-null    int64  \n",
      " 2   Fare                    712 non-null    float64\n",
      " 3   AgeRand                 712 non-null    float64\n",
      " 4   passenger_class_Lower   712 non-null    uint8  \n",
      " 5   passenger_class_Middle  712 non-null    uint8  \n",
      " 6   passenger_class_Upper   712 non-null    uint8  \n",
      " 7   passenger_sex_F         712 non-null    uint8  \n",
      " 8   passenger_sex_M         712 non-null    uint8  \n",
      " 9   Embarked_C              712 non-null    uint8  \n",
      " 10  Embarked_Q              712 non-null    uint8  \n",
      " 11  Embarked_S              712 non-null    uint8  \n",
      "dtypes: float64(2), int64(2), uint8(8)\n",
      "memory usage: 33.4 KB\n"
     ]
    }
   ],
   "source": [
    "#Quitando lass variables que ya no utilizamos, categoricas.\n",
    "\n",
    "X_train = X_train.drop([\"passenger_class\",\"passenger_sex\",\"Embarked\"], axis=1)\n",
    "X_train.info()"
   ]
  },
  {
   "cell_type": "markdown",
   "id": "molecular-subsection",
   "metadata": {},
   "source": [
    "## Transformación de Variables"
   ]
  },
  {
   "cell_type": "code",
   "execution_count": 620,
   "id": "governmental-netscape",
   "metadata": {},
   "outputs": [
    {
     "data": {
      "text/html": [
       "<div>\n",
       "<style scoped>\n",
       "    .dataframe tbody tr th:only-of-type {\n",
       "        vertical-align: middle;\n",
       "    }\n",
       "\n",
       "    .dataframe tbody tr th {\n",
       "        vertical-align: top;\n",
       "    }\n",
       "\n",
       "    .dataframe thead th {\n",
       "        text-align: right;\n",
       "    }\n",
       "</style>\n",
       "<table border=\"1\" class=\"dataframe\">\n",
       "  <thead>\n",
       "    <tr style=\"text-align: right;\">\n",
       "      <th></th>\n",
       "      <th>SibSp</th>\n",
       "      <th>Parch</th>\n",
       "      <th>Fare</th>\n",
       "      <th>AgeRand</th>\n",
       "      <th>passenger_class_Lower</th>\n",
       "      <th>passenger_class_Middle</th>\n",
       "      <th>passenger_class_Upper</th>\n",
       "      <th>passenger_sex_F</th>\n",
       "      <th>passenger_sex_M</th>\n",
       "      <th>Embarked_C</th>\n",
       "      <th>Embarked_Q</th>\n",
       "      <th>Embarked_S</th>\n",
       "    </tr>\n",
       "  </thead>\n",
       "  <tbody>\n",
       "    <tr>\n",
       "      <th>count</th>\n",
       "      <td>712.000000</td>\n",
       "      <td>712.000000</td>\n",
       "      <td>712.000000</td>\n",
       "      <td>712.000000</td>\n",
       "      <td>712.000000</td>\n",
       "      <td>712.000000</td>\n",
       "      <td>712.000000</td>\n",
       "      <td>712.000000</td>\n",
       "      <td>712.000000</td>\n",
       "      <td>712.000000</td>\n",
       "      <td>712.000000</td>\n",
       "      <td>712.000000</td>\n",
       "    </tr>\n",
       "    <tr>\n",
       "      <th>mean</th>\n",
       "      <td>0.320225</td>\n",
       "      <td>0.348315</td>\n",
       "      <td>32.586276</td>\n",
       "      <td>29.423455</td>\n",
       "      <td>0.558989</td>\n",
       "      <td>0.212079</td>\n",
       "      <td>0.228933</td>\n",
       "      <td>0.344101</td>\n",
       "      <td>0.655899</td>\n",
       "      <td>0.175562</td>\n",
       "      <td>0.084270</td>\n",
       "      <td>0.737360</td>\n",
       "    </tr>\n",
       "    <tr>\n",
       "      <th>std</th>\n",
       "      <td>0.466891</td>\n",
       "      <td>0.666264</td>\n",
       "      <td>51.969529</td>\n",
       "      <td>12.872335</td>\n",
       "      <td>0.496857</td>\n",
       "      <td>0.409068</td>\n",
       "      <td>0.420441</td>\n",
       "      <td>0.475408</td>\n",
       "      <td>0.475408</td>\n",
       "      <td>0.380714</td>\n",
       "      <td>0.277987</td>\n",
       "      <td>0.440378</td>\n",
       "    </tr>\n",
       "    <tr>\n",
       "      <th>min</th>\n",
       "      <td>0.000000</td>\n",
       "      <td>0.000000</td>\n",
       "      <td>0.000000</td>\n",
       "      <td>9.000000</td>\n",
       "      <td>0.000000</td>\n",
       "      <td>0.000000</td>\n",
       "      <td>0.000000</td>\n",
       "      <td>0.000000</td>\n",
       "      <td>0.000000</td>\n",
       "      <td>0.000000</td>\n",
       "      <td>0.000000</td>\n",
       "      <td>0.000000</td>\n",
       "    </tr>\n",
       "    <tr>\n",
       "      <th>25%</th>\n",
       "      <td>0.000000</td>\n",
       "      <td>0.000000</td>\n",
       "      <td>7.925000</td>\n",
       "      <td>19.000000</td>\n",
       "      <td>0.000000</td>\n",
       "      <td>0.000000</td>\n",
       "      <td>0.000000</td>\n",
       "      <td>0.000000</td>\n",
       "      <td>0.000000</td>\n",
       "      <td>0.000000</td>\n",
       "      <td>0.000000</td>\n",
       "      <td>0.000000</td>\n",
       "    </tr>\n",
       "    <tr>\n",
       "      <th>50%</th>\n",
       "      <td>0.000000</td>\n",
       "      <td>0.000000</td>\n",
       "      <td>14.454200</td>\n",
       "      <td>28.000000</td>\n",
       "      <td>1.000000</td>\n",
       "      <td>0.000000</td>\n",
       "      <td>0.000000</td>\n",
       "      <td>0.000000</td>\n",
       "      <td>1.000000</td>\n",
       "      <td>0.000000</td>\n",
       "      <td>0.000000</td>\n",
       "      <td>1.000000</td>\n",
       "    </tr>\n",
       "    <tr>\n",
       "      <th>75%</th>\n",
       "      <td>1.000000</td>\n",
       "      <td>0.000000</td>\n",
       "      <td>30.500000</td>\n",
       "      <td>38.000000</td>\n",
       "      <td>1.000000</td>\n",
       "      <td>0.000000</td>\n",
       "      <td>0.000000</td>\n",
       "      <td>1.000000</td>\n",
       "      <td>1.000000</td>\n",
       "      <td>0.000000</td>\n",
       "      <td>0.000000</td>\n",
       "      <td>1.000000</td>\n",
       "    </tr>\n",
       "    <tr>\n",
       "      <th>max</th>\n",
       "      <td>1.000000</td>\n",
       "      <td>2.000000</td>\n",
       "      <td>512.329200</td>\n",
       "      <td>60.000000</td>\n",
       "      <td>1.000000</td>\n",
       "      <td>1.000000</td>\n",
       "      <td>1.000000</td>\n",
       "      <td>1.000000</td>\n",
       "      <td>1.000000</td>\n",
       "      <td>1.000000</td>\n",
       "      <td>1.000000</td>\n",
       "      <td>1.000000</td>\n",
       "    </tr>\n",
       "  </tbody>\n",
       "</table>\n",
       "</div>"
      ],
      "text/plain": [
       "            SibSp       Parch        Fare     AgeRand  passenger_class_Lower  \\\n",
       "count  712.000000  712.000000  712.000000  712.000000             712.000000   \n",
       "mean     0.320225    0.348315   32.586276   29.423455               0.558989   \n",
       "std      0.466891    0.666264   51.969529   12.872335               0.496857   \n",
       "min      0.000000    0.000000    0.000000    9.000000               0.000000   \n",
       "25%      0.000000    0.000000    7.925000   19.000000               0.000000   \n",
       "50%      0.000000    0.000000   14.454200   28.000000               1.000000   \n",
       "75%      1.000000    0.000000   30.500000   38.000000               1.000000   \n",
       "max      1.000000    2.000000  512.329200   60.000000               1.000000   \n",
       "\n",
       "       passenger_class_Middle  passenger_class_Upper  passenger_sex_F  \\\n",
       "count              712.000000             712.000000       712.000000   \n",
       "mean                 0.212079               0.228933         0.344101   \n",
       "std                  0.409068               0.420441         0.475408   \n",
       "min                  0.000000               0.000000         0.000000   \n",
       "25%                  0.000000               0.000000         0.000000   \n",
       "50%                  0.000000               0.000000         0.000000   \n",
       "75%                  0.000000               0.000000         1.000000   \n",
       "max                  1.000000               1.000000         1.000000   \n",
       "\n",
       "       passenger_sex_M  Embarked_C  Embarked_Q  Embarked_S  \n",
       "count       712.000000  712.000000  712.000000  712.000000  \n",
       "mean          0.655899    0.175562    0.084270    0.737360  \n",
       "std           0.475408    0.380714    0.277987    0.440378  \n",
       "min           0.000000    0.000000    0.000000    0.000000  \n",
       "25%           0.000000    0.000000    0.000000    0.000000  \n",
       "50%           1.000000    0.000000    0.000000    1.000000  \n",
       "75%           1.000000    0.000000    0.000000    1.000000  \n",
       "max           1.000000    1.000000    1.000000    1.000000  "
      ]
     },
     "execution_count": 620,
     "metadata": {},
     "output_type": "execute_result"
    }
   ],
   "source": [
    "X_train.describe()"
   ]
  },
  {
   "cell_type": "code",
   "execution_count": 621,
   "id": "outstanding-sellers",
   "metadata": {},
   "outputs": [
    {
     "data": {
      "text/plain": [
       "(array([ 13., 179., 107.,  90.,  26.,  29.,  72.,  31.,  10.,  14.,   5.,\n",
       "          7.,   5.,  15.,  11.,   2.,   4.,  12.,   4.,  14.,   8.,   3.,\n",
       "          6.,   1.,   0.,   0.,   2.,   5.,   1.,   0.,   3.,   0.,   0.,\n",
       "          6.,   0.,   0.,   1.,   4.,   3.,   0.,   0.,   2.,   0.,   0.,\n",
       "          0.,   0.,   0.,   0.,   0.,   0.,   0.,   0.,   4.,   0.,   0.,\n",
       "          0.,   4.,   0.,   0.,   0.,   0.,   1.,   0.,   0.,   0.,   5.,\n",
       "          0.,   0.,   0.,   0.,   0.,   0.,   0.,   0.,   0.,   0.,   0.,\n",
       "          0.,   0.,   0.,   0.,   0.,   0.,   0.,   0.,   0.,   0.,   0.,\n",
       "          0.,   0.,   0.,   0.,   0.,   0.,   0.,   0.,   0.,   0.,   0.,\n",
       "          0.,   0.,   0.,   0.,   0.,   0.,   0.,   0.,   0.,   0.,   0.,\n",
       "          0.,   0.,   0.,   0.,   0.,   0.,   0.,   0.,   0.,   0.,   0.,\n",
       "          0.,   0.,   0.,   0.,   0.,   0.,   0.]),\n",
       " array([  0.,   4.,   8.,  12.,  16.,  20.,  24.,  28.,  32.,  36.,  40.,\n",
       "         44.,  48.,  52.,  56.,  60.,  64.,  68.,  72.,  76.,  80.,  84.,\n",
       "         88.,  92.,  96., 100., 104., 108., 112., 116., 120., 124., 128.,\n",
       "        132., 136., 140., 144., 148., 152., 156., 160., 164., 168., 172.,\n",
       "        176., 180., 184., 188., 192., 196., 200., 204., 208., 212., 216.,\n",
       "        220., 224., 228., 232., 236., 240., 244., 248., 252., 256., 260.,\n",
       "        264., 268., 272., 276., 280., 284., 288., 292., 296., 300., 304.,\n",
       "        308., 312., 316., 320., 324., 328., 332., 336., 340., 344., 348.,\n",
       "        352., 356., 360., 364., 368., 372., 376., 380., 384., 388., 392.,\n",
       "        396., 400., 404., 408., 412., 416., 420., 424., 428., 432., 436.,\n",
       "        440., 444., 448., 452., 456., 460., 464., 468., 472., 476., 480.,\n",
       "        484., 488., 492., 496., 500., 504., 508., 512.]),\n",
       " <BarContainer object of 128 artists>)"
      ]
     },
     "execution_count": 621,
     "metadata": {},
     "output_type": "execute_result"
    },
    {
     "data": {
      "image/png": "[encoded data removed]",
      "text/plain": [
       "<Figure size 720x360 with 2 Axes>"
      ]
     },
     "metadata": {},
     "output_type": "display_data"
    }
   ],
   "source": [
    "plt.figure(figsize = [10, 5])\n",
    "plt.subplot(2, 2, 1) # 1 row, 2 cols, subplot 1\n",
    "bin_edges = np.arange(0, X_train['AgeRand'].max()+4, 4)\n",
    "plt.hist(data = X_train, x = 'AgeRand', bins = bin_edges)\n",
    "\n",
    "\n",
    "plt.subplot(2, 2, 2) # 1 row, 2 cols, subplot 1\n",
    "bin_edges = np.arange(0, X_train['Fare'].max(), 4)\n",
    "plt.hist(data = X_train, x = 'Fare', bins = bin_edges)"
   ]
  },
  {
   "cell_type": "code",
   "execution_count": 622,
   "id": "optical-substitute",
   "metadata": {},
   "outputs": [
    {
     "name": "stdout",
     "output_type": "stream",
     "text": [
      "<class 'pandas.core.frame.DataFrame'>\n",
      "Int64Index: 712 entries, 331 to 102\n",
      "Data columns (total 12 columns):\n",
      " #   Column                  Non-Null Count  Dtype  \n",
      "---  ------                  --------------  -----  \n",
      " 0   SibSp                   712 non-null    int64  \n",
      " 1   Parch                   712 non-null    int64  \n",
      " 2   Fare                    712 non-null    float64\n",
      " 3   AgeRand                 712 non-null    float64\n",
      " 4   passenger_class_Lower   712 non-null    uint8  \n",
      " 5   passenger_class_Middle  712 non-null    uint8  \n",
      " 6   passenger_class_Upper   712 non-null    uint8  \n",
      " 7   passenger_sex_F         712 non-null    uint8  \n",
      " 8   passenger_sex_M         712 non-null    uint8  \n",
      " 9   Embarked_C              712 non-null    uint8  \n",
      " 10  Embarked_Q              712 non-null    uint8  \n",
      " 11  Embarked_S              712 non-null    uint8  \n",
      "dtypes: float64(2), int64(2), uint8(8)\n",
      "memory usage: 33.4 KB\n"
     ]
    }
   ],
   "source": [
    "X_train.info()"
   ]
  },
  {
   "cell_type": "code",
   "execution_count": 623,
   "id": "macro-resource",
   "metadata": {},
   "outputs": [],
   "source": [
    "mod_fare = X_train['Fare']\n",
    "mod_age = X_train['AgeRand']\n",
    "#X_train.transform([np.sqrt])"
   ]
  },
  {
   "cell_type": "code",
   "execution_count": 624,
   "id": "norman-idaho",
   "metadata": {},
   "outputs": [],
   "source": [
    "X_train['Age_Log'] = X_train['AgeRand'].apply(np.log)\n",
    "X_train['Age_sqrt'] = X_train['AgeRand'].apply(np.sqrt)"
   ]
  },
  {
   "cell_type": "code",
   "execution_count": 625,
   "id": "chief-diamond",
   "metadata": {},
   "outputs": [
    {
     "data": {
      "text/plain": [
       "<AxesSubplot:ylabel='Frequency'>"
      ]
     },
     "execution_count": 625,
     "metadata": {},
     "output_type": "execute_result"
    },
    {
     "data": {
      "image/png": "[encoded data removed]",
      "text/plain": [
       "<Figure size 576x288 with 1 Axes>"
      ]
     },
     "metadata": {},
     "output_type": "display_data"
    }
   ],
   "source": [
    "X_train['Age_sqrt'].plot.hist() # Esta viariable se queda"
   ]
  },
  {
   "cell_type": "code",
   "execution_count": 626,
   "id": "ranging-irrigation",
   "metadata": {},
   "outputs": [],
   "source": [
    "X_train['Fare_Log'] = X_train['Fare'].apply(np.log)\n",
    "X_train['Fare_Sqrt'] = X_train['Fare'].apply(np.sqrt)"
   ]
  },
  {
   "cell_type": "code",
   "execution_count": 627,
   "id": "early-spencer",
   "metadata": {},
   "outputs": [
    {
     "data": {
      "text/plain": [
       "<AxesSubplot:ylabel='Frequency'>"
      ]
     },
     "execution_count": 627,
     "metadata": {},
     "output_type": "execute_result"
    },
    {
     "data": {
      "image/png": "[encoded data removed]",
      "text/plain": [
       "<Figure size 576x288 with 1 Axes>"
      ]
     },
     "metadata": {},
     "output_type": "display_data"
    }
   ],
   "source": [
    "X_train['Fare_Sqrt'].plot.hist() # Esta viariable se queda"
   ]
  },
  {
   "cell_type": "code",
   "execution_count": 628,
   "id": "joint-seating",
   "metadata": {},
   "outputs": [
    {
     "name": "stdout",
     "output_type": "stream",
     "text": [
      "<class 'pandas.core.frame.DataFrame'>\n",
      "Int64Index: 712 entries, 331 to 102\n",
      "Data columns (total 12 columns):\n",
      " #   Column                  Non-Null Count  Dtype  \n",
      "---  ------                  --------------  -----  \n",
      " 0   SibSp                   712 non-null    int64  \n",
      " 1   Parch                   712 non-null    int64  \n",
      " 2   passenger_class_Lower   712 non-null    uint8  \n",
      " 3   passenger_class_Middle  712 non-null    uint8  \n",
      " 4   passenger_class_Upper   712 non-null    uint8  \n",
      " 5   passenger_sex_F         712 non-null    uint8  \n",
      " 6   passenger_sex_M         712 non-null    uint8  \n",
      " 7   Embarked_C              712 non-null    uint8  \n",
      " 8   Embarked_Q              712 non-null    uint8  \n",
      " 9   Embarked_S              712 non-null    uint8  \n",
      " 10  Age_sqrt                712 non-null    float64\n",
      " 11  Fare_Sqrt               712 non-null    float64\n",
      "dtypes: float64(2), int64(2), uint8(8)\n",
      "memory usage: 33.4 KB\n"
     ]
    }
   ],
   "source": [
    "X_train = X_train.drop([\"Fare_Log\",\"Age_Log\",\"AgeRand\", \"Fare\"], axis=1)\n",
    "X_train.info()"
   ]
  },
  {
   "cell_type": "markdown",
   "id": "settled-persian",
   "metadata": {},
   "source": [
    "## Feature Scaling"
   ]
  },
  {
   "cell_type": "code",
   "execution_count": 629,
   "id": "wireless-distance",
   "metadata": {},
   "outputs": [
    {
     "data": {
      "text/plain": [
       "Text(0.5, 0, 'Densidad Variables')"
      ]
     },
     "execution_count": 629,
     "metadata": {},
     "output_type": "execute_result"
    },
    {
     "data": {
      "image/png": "[encoded data removed]",
      "text/plain": [
       "<Figure size 576x432 with 1 Axes>"
      ]
     },
     "metadata": {},
     "output_type": "display_data"
    }
   ],
   "source": [
    "X_train.plot.density(figsize=(8,6),\n",
    "                      fontsize=14,\n",
    "\n",
    "                      linewidth=4)\n",
    "plt.xlabel(\"Densidad Variables\",size=16)"
   ]
  },
  {
   "cell_type": "code",
   "execution_count": 630,
   "id": "funny-fishing",
   "metadata": {},
   "outputs": [
    {
     "name": "stdout",
     "output_type": "stream",
     "text": [
      "<class 'pandas.core.frame.DataFrame'>\n",
      "Int64Index: 712 entries, 331 to 102\n",
      "Data columns (total 12 columns):\n",
      " #   Column                  Non-Null Count  Dtype  \n",
      "---  ------                  --------------  -----  \n",
      " 0   SibSp                   712 non-null    int64  \n",
      " 1   Parch                   712 non-null    int64  \n",
      " 2   passenger_class_Lower   712 non-null    uint8  \n",
      " 3   passenger_class_Middle  712 non-null    uint8  \n",
      " 4   passenger_class_Upper   712 non-null    uint8  \n",
      " 5   passenger_sex_F         712 non-null    uint8  \n",
      " 6   passenger_sex_M         712 non-null    uint8  \n",
      " 7   Embarked_C              712 non-null    uint8  \n",
      " 8   Embarked_Q              712 non-null    uint8  \n",
      " 9   Embarked_S              712 non-null    uint8  \n",
      " 10  Age_sqrt                712 non-null    float64\n",
      " 11  Fare_Sqrt               712 non-null    float64\n",
      "dtypes: float64(2), int64(2), uint8(8)\n",
      "memory usage: 33.4 KB\n"
     ]
    }
   ],
   "source": [
    "X_train.info()"
   ]
  },
  {
   "cell_type": "code",
   "execution_count": 644,
   "id": "subsequent-pressing",
   "metadata": {},
   "outputs": [
    {
     "name": "stdout",
     "output_type": "stream",
     "text": [
      "scl_SibSp\n",
      "scl_Parch\n",
      "scl_passenger_class_Lower\n",
      "scl_passenger_class_Middle\n",
      "scl_passenger_class_Upper\n",
      "scl_passenger_sex_F\n",
      "scl_passenger_sex_M\n",
      "scl_Embarked_C\n",
      "scl_Embarked_Q\n",
      "scl_Embarked_S\n",
      "scl_Age_sqrt\n",
      "scl_Fare_Sqrt\n"
     ]
    }
   ],
   "source": [
    "scaler = MinMaxScaler()\n",
    "for column in X_train.columns:\n",
    "    nombre = \"scl_\" + column\n",
    "    print(nombre)\n",
    "    X_train[nombre]= (X_train[column] - X_train[column].mean()) / X_train[column].std() \n",
    "    \n",
    "    \n",
    "#scaler.fit_transform(X_train[column])"
   ]
  },
  {
   "cell_type": "code",
   "execution_count": 645,
   "id": "bottom-telling",
   "metadata": {},
   "outputs": [
    {
     "name": "stdout",
     "output_type": "stream",
     "text": [
      "<class 'pandas.core.frame.DataFrame'>\n",
      "Int64Index: 712 entries, 331 to 102\n",
      "Data columns (total 24 columns):\n",
      " #   Column                      Non-Null Count  Dtype  \n",
      "---  ------                      --------------  -----  \n",
      " 0   SibSp                       712 non-null    int64  \n",
      " 1   Parch                       712 non-null    int64  \n",
      " 2   passenger_class_Lower       712 non-null    uint8  \n",
      " 3   passenger_class_Middle      712 non-null    uint8  \n",
      " 4   passenger_class_Upper       712 non-null    uint8  \n",
      " 5   passenger_sex_F             712 non-null    uint8  \n",
      " 6   passenger_sex_M             712 non-null    uint8  \n",
      " 7   Embarked_C                  712 non-null    uint8  \n",
      " 8   Embarked_Q                  712 non-null    uint8  \n",
      " 9   Embarked_S                  712 non-null    uint8  \n",
      " 10  Age_sqrt                    712 non-null    float64\n",
      " 11  Fare_Sqrt                   712 non-null    float64\n",
      " 12  scl_SibSp                   712 non-null    float64\n",
      " 13  scl_Parch                   712 non-null    float64\n",
      " 14  scl_passenger_class_Lower   712 non-null    float64\n",
      " 15  scl_passenger_class_Middle  712 non-null    float64\n",
      " 16  scl_passenger_class_Upper   712 non-null    float64\n",
      " 17  scl_passenger_sex_F         712 non-null    float64\n",
      " 18  scl_passenger_sex_M         712 non-null    float64\n",
      " 19  scl_Embarked_C              712 non-null    float64\n",
      " 20  scl_Embarked_Q              712 non-null    float64\n",
      " 21  scl_Embarked_S              712 non-null    float64\n",
      " 22  scl_Age_sqrt                712 non-null    float64\n",
      " 23  scl_Fare_Sqrt               712 non-null    float64\n",
      "dtypes: float64(14), int64(2), uint8(8)\n",
      "memory usage: 100.1 KB\n"
     ]
    }
   ],
   "source": [
    "X_train.info()"
   ]
  },
  {
   "cell_type": "code",
   "execution_count": 649,
   "id": "accomplished-analyst",
   "metadata": {},
   "outputs": [],
   "source": [
    "#Quitando variables no escaladas\n",
    "X_train = X_train.drop([\"SibSp\",\"Parch\",\"passenger_class_Lower\", \"passenger_class_Middle\",\"passenger_class_Upper\",\n",
    "                       \"passenger_sex_F\",\"passenger_sex_M\",\"Embarked_C\",\"Embarked_Q\",\"Embarked_S\", \"Age_sqrt\",\n",
    "                       \"Fare_Sqrt\"], axis=1)"
   ]
  },
  {
   "cell_type": "code",
   "execution_count": 650,
   "id": "parliamentary-bishop",
   "metadata": {},
   "outputs": [
    {
     "data": {
      "text/plain": [
       "Text(0.5, 0, 'Densidad Variables')"
      ]
     },
     "execution_count": 650,
     "metadata": {},
     "output_type": "execute_result"
    },
    {
     "data": {
      "image/png": "[encoded data removed]",
      "text/plain": [
       "<Figure size 576x432 with 1 Axes>"
      ]
     },
     "metadata": {},
     "output_type": "display_data"
    }
   ],
   "source": [
    "X_train.plot.density(figsize=(8,6),\n",
    "                      fontsize=14,\n",
    "\n",
    "                      linewidth=4)\n",
    "plt.xlabel(\"Densidad Variables\",size=16)"
   ]
  },
  {
   "cell_type": "code",
   "execution_count": null,
   "id": "quarterly-closing",
   "metadata": {},
   "outputs": [],
   "source": []
  },
  {
   "cell_type": "code",
   "execution_count": 652,
   "id": "latin-consultancy",
   "metadata": {},
   "outputs": [],
   "source": [
    "clf = tree.DecisionTreeClassifier()\n",
    "clf = clf.fit(X_train, Y_train)"
   ]
  },
  {
   "cell_type": "code",
   "execution_count": 654,
   "id": "intended-responsibility",
   "metadata": {},
   "outputs": [
    {
     "data": {
      "text/plain": [
       "[Text(200.22667946257195, 212.26285714285714, 'X[6] <= -0.328\\ngini = 0.469\\nsamples = 712\\nvalue = [444, 268]'),\n",
       " Text(74.00729366602687, 201.90857142857143, 'X[2] <= -0.119\\ngini = 0.386\\nsamples = 245\\nvalue = [64, 181]'),\n",
       " Text(36.84299424184261, 191.5542857142857, 'X[10] <= -0.043\\ngini = 0.074\\nsamples = 130\\nvalue = [5, 125]'),\n",
       " Text(25.704414587332053, 181.2, 'X[10] <= -0.292\\ngini = 0.147\\nsamples = 50\\nvalue = [4, 46]'),\n",
       " Text(13.709021113243761, 170.84571428571428, 'X[11] <= -0.396\\ngini = 0.087\\nsamples = 44\\nvalue = [2, 42]'),\n",
       " Text(6.8545105566218805, 160.49142857142857, 'X[10] <= -0.468\\ngini = 0.375\\nsamples = 4\\nvalue = [1, 3]'),\n",
       " Text(3.4272552783109402, 150.13714285714286, 'gini = 0.0\\nsamples = 2\\nvalue = [0, 2]'),\n",
       " Text(10.28176583493282, 150.13714285714286, 'gini = 0.5\\nsamples = 2\\nvalue = [1, 1]'),\n",
       " Text(20.56353166986564, 160.49142857142857, 'X[11] <= 2.252\\ngini = 0.049\\nsamples = 40\\nvalue = [1, 39]'),\n",
       " Text(17.136276391554702, 150.13714285714286, 'gini = 0.0\\nsamples = 33\\nvalue = [0, 33]'),\n",
       " Text(23.99078694817658, 150.13714285714286, 'X[10] <= -1.258\\ngini = 0.245\\nsamples = 7\\nvalue = [1, 6]'),\n",
       " Text(20.56353166986564, 139.78285714285715, 'gini = 0.0\\nsamples = 1\\nvalue = [1, 0]'),\n",
       " Text(27.418042226487522, 139.78285714285715, 'gini = 0.0\\nsamples = 6\\nvalue = [0, 6]'),\n",
       " Text(37.69980806142034, 170.84571428571428, 'X[1] <= 1.729\\ngini = 0.444\\nsamples = 6\\nvalue = [2, 4]'),\n",
       " Text(34.272552783109404, 160.49142857142857, 'X[11] <= -0.232\\ngini = 0.32\\nsamples = 5\\nvalue = [1, 4]'),\n",
       " Text(30.845297504798463, 150.13714285714286, 'gini = 0.0\\nsamples = 2\\nvalue = [0, 2]'),\n",
       " Text(37.69980806142034, 150.13714285714286, 'X[11] <= -0.003\\ngini = 0.444\\nsamples = 3\\nvalue = [1, 2]'),\n",
       " Text(34.272552783109404, 139.78285714285715, 'gini = 0.0\\nsamples = 1\\nvalue = [1, 0]'),\n",
       " Text(41.12706333973128, 139.78285714285715, 'gini = 0.0\\nsamples = 2\\nvalue = [0, 2]'),\n",
       " Text(41.12706333973128, 160.49142857142857, 'gini = 0.0\\nsamples = 1\\nvalue = [1, 0]'),\n",
       " Text(47.98157389635316, 181.2, 'X[10] <= 1.474\\ngini = 0.025\\nsamples = 80\\nvalue = [1, 79]'),\n",
       " Text(44.554318618042224, 170.84571428571428, 'gini = 0.0\\nsamples = 62\\nvalue = [0, 62]'),\n",
       " Text(51.408829174664106, 170.84571428571428, 'X[10] <= 1.533\\ngini = 0.105\\nsamples = 18\\nvalue = [1, 17]'),\n",
       " Text(47.98157389635316, 160.49142857142857, 'X[11] <= 0.125\\ngini = 0.375\\nsamples = 4\\nvalue = [1, 3]'),\n",
       " Text(44.554318618042224, 150.13714285714286, 'gini = 0.0\\nsamples = 3\\nvalue = [0, 3]'),\n",
       " Text(51.408829174664106, 150.13714285714286, 'gini = 0.0\\nsamples = 1\\nvalue = [1, 0]'),\n",
       " Text(54.836084452975044, 160.49142857142857, 'gini = 0.0\\nsamples = 14\\nvalue = [0, 14]'),\n",
       " Text(111.17159309021112, 191.5542857142857, 'X[11] <= -0.006\\ngini = 0.5\\nsamples = 115\\nvalue = [59, 56]'),\n",
       " Text(91.25067178502879, 181.2, 'X[9] <= -0.539\\ngini = 0.486\\nsamples = 94\\nvalue = [39, 55]'),\n",
       " Text(68.54510556621881, 170.84571428571428, 'X[11] <= -0.309\\ngini = 0.405\\nsamples = 39\\nvalue = [11, 28]'),\n",
       " Text(65.11785028790787, 160.49142857142857, 'X[11] <= -0.372\\ngini = 0.471\\nsamples = 29\\nvalue = [11, 18]'),\n",
       " Text(58.26333973128598, 150.13714285714286, 'X[1] <= 1.729\\ngini = 0.386\\nsamples = 23\\nvalue = [6, 17]'),\n",
       " Text(54.836084452975044, 139.78285714285715, 'X[11] <= -0.733\\ngini = 0.351\\nsamples = 22\\nvalue = [5, 17]'),\n",
       " Text(51.408829174664106, 129.42857142857144, 'gini = 0.0\\nsamples = 1\\nvalue = [1, 0]'),\n",
       " Text(58.26333973128598, 129.42857142857144, 'X[7] <= 0.852\\ngini = 0.308\\nsamples = 21\\nvalue = [4, 17]'),\n",
       " Text(54.836084452975044, 119.07428571428571, 'X[11] <= -0.691\\ngini = 0.375\\nsamples = 16\\nvalue = [4, 12]'),\n",
       " Text(51.408829174664106, 108.72, 'gini = 0.0\\nsamples = 1\\nvalue = [1, 0]'),\n",
       " Text(58.26333973128598, 108.72, 'X[11] <= -0.667\\ngini = 0.32\\nsamples = 15\\nvalue = [3, 12]'),\n",
       " Text(54.836084452975044, 98.36571428571429, 'X[10] <= -0.797\\ngini = 0.245\\nsamples = 14\\nvalue = [2, 12]'),\n",
       " Text(51.408829174664106, 88.01142857142858, 'gini = 0.0\\nsamples = 5\\nvalue = [0, 5]'),\n",
       " Text(58.26333973128598, 88.01142857142858, 'X[10] <= 0.837\\ngini = 0.346\\nsamples = 9\\nvalue = [2, 7]'),\n",
       " Text(54.836084452975044, 77.65714285714284, 'X[10] <= 0.667\\ngini = 0.444\\nsamples = 6\\nvalue = [2, 4]'),\n",
       " Text(51.408829174664106, 67.30285714285714, 'X[10] <= -0.557\\ngini = 0.32\\nsamples = 5\\nvalue = [1, 4]'),\n",
       " Text(47.98157389635316, 56.94857142857143, 'gini = 0.5\\nsamples = 2\\nvalue = [1, 1]'),\n",
       " Text(54.836084452975044, 56.94857142857143, 'gini = 0.0\\nsamples = 3\\nvalue = [0, 3]'),\n",
       " Text(58.26333973128598, 67.30285714285714, 'gini = 0.0\\nsamples = 1\\nvalue = [1, 0]'),\n",
       " Text(61.690595009596926, 77.65714285714284, 'gini = 0.0\\nsamples = 3\\nvalue = [0, 3]'),\n",
       " Text(61.690595009596926, 98.36571428571429, 'gini = 0.0\\nsamples = 1\\nvalue = [1, 0]'),\n",
       " Text(61.690595009596926, 119.07428571428571, 'gini = 0.0\\nsamples = 5\\nvalue = [0, 5]'),\n",
       " Text(61.690595009596926, 139.78285714285715, 'gini = 0.0\\nsamples = 1\\nvalue = [1, 0]'),\n",
       " Text(71.97236084452975, 150.13714285714286, 'X[1] <= 1.729\\ngini = 0.278\\nsamples = 6\\nvalue = [5, 1]'),\n",
       " Text(68.54510556621881, 139.78285714285715, 'gini = 0.0\\nsamples = 4\\nvalue = [4, 0]'),\n",
       " Text(75.39961612284068, 139.78285714285715, 'X[10] <= 0.474\\ngini = 0.5\\nsamples = 2\\nvalue = [1, 1]'),\n",
       " Text(71.97236084452975, 129.42857142857144, 'gini = 0.0\\nsamples = 1\\nvalue = [0, 1]'),\n",
       " Text(78.82687140115162, 129.42857142857144, 'gini = 0.0\\nsamples = 1\\nvalue = [1, 0]'),\n",
       " Text(71.97236084452975, 160.49142857142857, 'gini = 0.0\\nsamples = 10\\nvalue = [0, 10]'),\n",
       " Text(113.95623800383876, 170.84571428571428, 'X[10] <= 0.632\\ngini = 0.5\\nsamples = 55\\nvalue = [28, 27]'),\n",
       " Text(110.52898272552783, 160.49142857142857, 'X[11] <= -0.689\\ngini = 0.497\\nsamples = 50\\nvalue = [23, 27]'),\n",
       " Text(107.10172744721689, 150.13714285714286, 'gini = 0.0\\nsamples = 4\\nvalue = [0, 4]'),\n",
       " Text(113.95623800383876, 150.13714285714286, 'X[11] <= -0.518\\ngini = 0.5\\nsamples = 46\\nvalue = [23, 23]'),\n",
       " Text(97.6767754318618, 139.78285714285715, 'X[11] <= -0.576\\ngini = 0.461\\nsamples = 25\\nvalue = [16, 9]'),\n",
       " Text(89.10863723608445, 129.42857142857144, 'X[11] <= -0.609\\ngini = 0.494\\nsamples = 18\\nvalue = [10, 8]'),\n",
       " Text(85.68138195777351, 119.07428571428571, 'X[10] <= -0.207\\ngini = 0.469\\nsamples = 16\\nvalue = [10, 6]'),\n",
       " Text(78.82687140115162, 108.72, 'X[1] <= 0.978\\ngini = 0.346\\nsamples = 9\\nvalue = [7, 2]'),\n",
       " Text(75.39961612284068, 98.36571428571429, 'X[11] <= -0.683\\ngini = 0.219\\nsamples = 8\\nvalue = [7, 1]'),\n",
       " Text(71.97236084452975, 88.01142857142858, 'X[10] <= -0.701\\ngini = 0.444\\nsamples = 3\\nvalue = [2, 1]'),\n",
       " Text(68.54510556621881, 77.65714285714284, 'gini = 0.0\\nsamples = 1\\nvalue = [1, 0]'),\n",
       " Text(75.39961612284068, 77.65714285714284, 'X[10] <= -0.38\\ngini = 0.5\\nsamples = 2\\nvalue = [1, 1]'),\n",
       " Text(71.97236084452975, 67.30285714285714, 'gini = 0.0\\nsamples = 1\\nvalue = [0, 1]'),\n",
       " Text(78.82687140115162, 67.30285714285714, 'gini = 0.0\\nsamples = 1\\nvalue = [1, 0]'),\n",
       " Text(78.82687140115162, 88.01142857142858, 'gini = 0.0\\nsamples = 5\\nvalue = [5, 0]'),\n",
       " Text(82.25412667946256, 98.36571428571429, 'gini = 0.0\\nsamples = 1\\nvalue = [0, 1]'),\n",
       " Text(92.53589251439539, 108.72, 'X[10] <= -0.043\\ngini = 0.49\\nsamples = 7\\nvalue = [3, 4]'),\n",
       " Text(89.10863723608445, 98.36571428571429, 'gini = 0.0\\nsamples = 3\\nvalue = [0, 3]'),\n",
       " Text(95.96314779270632, 98.36571428571429, 'X[10] <= 0.193\\ngini = 0.375\\nsamples = 4\\nvalue = [3, 1]'),\n",
       " Text(92.53589251439539, 88.01142857142858, 'gini = 0.0\\nsamples = 3\\nvalue = [3, 0]'),\n",
       " Text(99.39040307101726, 88.01142857142858, 'gini = 0.0\\nsamples = 1\\nvalue = [0, 1]'),\n",
       " Text(92.53589251439539, 119.07428571428571, 'gini = 0.0\\nsamples = 2\\nvalue = [0, 2]'),\n",
       " Text(106.24491362763915, 129.42857142857144, 'X[10] <= -0.793\\ngini = 0.245\\nsamples = 7\\nvalue = [6, 1]'),\n",
       " Text(102.81765834932821, 119.07428571428571, 'X[1] <= 0.228\\ngini = 0.5\\nsamples = 2\\nvalue = [1, 1]'),\n",
       " Text(99.39040307101726, 108.72, 'gini = 0.0\\nsamples = 1\\nvalue = [0, 1]'),\n",
       " Text(106.24491362763915, 108.72, 'gini = 0.0\\nsamples = 1\\nvalue = [1, 0]'),\n",
       " Text(109.67216890595009, 119.07428571428571, 'gini = 0.0\\nsamples = 5\\nvalue = [5, 0]'),\n",
       " Text(130.23570057581574, 139.78285714285715, 'X[11] <= -0.214\\ngini = 0.444\\nsamples = 21\\nvalue = [7, 14]'),\n",
       " Text(119.95393474088291, 129.42857142857144, 'X[10] <= -0.25\\ngini = 0.26\\nsamples = 13\\nvalue = [2, 11]'),\n",
       " Text(116.52667946257196, 119.07428571428571, 'gini = 0.0\\nsamples = 6\\nvalue = [0, 6]'),\n",
       " Text(123.38119001919385, 119.07428571428571, 'X[10] <= -0.124\\ngini = 0.408\\nsamples = 7\\nvalue = [2, 5]'),\n",
       " Text(119.95393474088291, 108.72, 'gini = 0.0\\nsamples = 1\\nvalue = [1, 0]'),\n",
       " Text(126.80844529750479, 108.72, 'X[1] <= 0.228\\ngini = 0.278\\nsamples = 6\\nvalue = [1, 5]'),\n",
       " Text(123.38119001919385, 98.36571428571429, 'gini = 0.0\\nsamples = 3\\nvalue = [0, 3]'),\n",
       " Text(130.23570057581574, 98.36571428571429, 'X[10] <= -0.043\\ngini = 0.444\\nsamples = 3\\nvalue = [1, 2]'),\n",
       " Text(126.80844529750479, 88.01142857142858, 'gini = 0.0\\nsamples = 2\\nvalue = [0, 2]'),\n",
       " Text(133.66295585412666, 88.01142857142858, 'gini = 0.0\\nsamples = 1\\nvalue = [1, 0]'),\n",
       " Text(140.51746641074854, 129.42857142857144, 'X[11] <= -0.069\\ngini = 0.469\\nsamples = 8\\nvalue = [5, 3]'),\n",
       " Text(137.09021113243762, 119.07428571428571, 'X[10] <= 0.154\\ngini = 0.408\\nsamples = 7\\nvalue = [5, 2]'),\n",
       " Text(133.66295585412666, 108.72, 'gini = 0.0\\nsamples = 4\\nvalue = [4, 0]'),\n",
       " Text(140.51746641074854, 108.72, 'X[11] <= -0.159\\ngini = 0.444\\nsamples = 3\\nvalue = [1, 2]'),\n",
       " Text(137.09021113243762, 98.36571428571429, 'gini = 0.0\\nsamples = 1\\nvalue = [1, 0]'),\n",
       " Text(143.9447216890595, 98.36571428571429, 'gini = 0.0\\nsamples = 2\\nvalue = [0, 2]'),\n",
       " Text(143.9447216890595, 119.07428571428571, 'gini = 0.0\\nsamples = 1\\nvalue = [0, 1]'),\n",
       " Text(117.3834932821497, 160.49142857142857, 'gini = 0.0\\nsamples = 5\\nvalue = [5, 0]'),\n",
       " Text(131.09251439539347, 181.2, 'X[10] <= -1.205\\ngini = 0.091\\nsamples = 21\\nvalue = [20, 1]'),\n",
       " Text(127.66525911708253, 170.84571428571428, 'X[11] <= 0.248\\ngini = 0.219\\nsamples = 8\\nvalue = [7, 1]'),\n",
       " Text(124.23800383877159, 160.49142857142857, 'gini = 0.0\\nsamples = 6\\nvalue = [6, 0]'),\n",
       " Text(131.09251439539347, 160.49142857142857, 'X[10] <= -1.628\\ngini = 0.5\\nsamples = 2\\nvalue = [1, 1]'),\n",
       " Text(127.66525911708253, 150.13714285714286, 'gini = 0.0\\nsamples = 1\\nvalue = [1, 0]'),\n",
       " Text(134.51976967370442, 150.13714285714286, 'gini = 0.0\\nsamples = 1\\nvalue = [0, 1]'),\n",
       " Text(134.51976967370442, 170.84571428571428, 'gini = 0.0\\nsamples = 13\\nvalue = [13, 0]'),\n",
       " Text(326.44606525911706, 201.90857142857143, 'X[4] <= 0.645\\ngini = 0.303\\nsamples = 467\\nvalue = [380, 87]'),\n",
       " Text(245.90556621880995, 191.5542857142857, 'X[10] <= -1.258\\ngini = 0.251\\nsamples = 374\\nvalue = [319, 55]'),\n",
       " Text(167.93550863723607, 181.2, 'X[3] <= 0.704\\ngini = 0.422\\nsamples = 66\\nvalue = [46, 20]'),\n",
       " Text(156.79692898272552, 170.84571428571428, 'X[11] <= -0.667\\ngini = 0.302\\nsamples = 54\\nvalue = [44, 10]'),\n",
       " Text(144.80153550863722, 160.49142857142857, 'X[8] <= 1.496\\ngini = 0.08\\nsamples = 24\\nvalue = [23, 1]'),\n",
       " Text(141.3742802303263, 150.13714285714286, 'gini = 0.0\\nsamples = 15\\nvalue = [15, 0]'),\n",
       " Text(148.22879078694817, 150.13714285714286, 'X[11] <= -0.687\\ngini = 0.198\\nsamples = 9\\nvalue = [8, 1]'),\n",
       " Text(144.80153550863722, 139.78285714285715, 'gini = 0.0\\nsamples = 2\\nvalue = [2, 0]'),\n",
       " Text(151.65604606525912, 139.78285714285715, 'X[10] <= -1.628\\ngini = 0.245\\nsamples = 7\\nvalue = [6, 1]'),\n",
       " Text(148.22879078694817, 129.42857142857144, 'gini = 0.0\\nsamples = 1\\nvalue = [1, 0]'),\n",
       " Text(155.08330134357004, 129.42857142857144, 'gini = 0.278\\nsamples = 6\\nvalue = [5, 1]'),\n",
       " Text(168.7923224568138, 160.49142857142857, 'X[11] <= -0.393\\ngini = 0.42\\nsamples = 30\\nvalue = [21, 9]'),\n",
       " Text(165.36506717850287, 150.13714285714286, 'gini = 0.0\\nsamples = 5\\nvalue = [0, 5]'),\n",
       " Text(172.21957773512474, 150.13714285714286, 'X[11] <= -0.283\\ngini = 0.269\\nsamples = 25\\nvalue = [21, 4]'),\n",
       " Text(165.36506717850287, 139.78285714285715, 'X[0] <= 0.385\\ngini = 0.5\\nsamples = 4\\nvalue = [2, 2]'),\n",
       " Text(161.93781190019192, 129.42857142857144, 'gini = 0.0\\nsamples = 2\\nvalue = [2, 0]'),\n",
       " Text(168.7923224568138, 129.42857142857144, 'gini = 0.0\\nsamples = 2\\nvalue = [0, 2]'),\n",
       " Text(179.07408829174662, 139.78285714285715, 'X[1] <= 1.729\\ngini = 0.172\\nsamples = 21\\nvalue = [19, 2]'),\n",
       " Text(175.6468330134357, 129.42857142857144, 'gini = 0.0\\nsamples = 12\\nvalue = [12, 0]'),\n",
       " Text(182.50134357005757, 129.42857142857144, 'X[11] <= 0.071\\ngini = 0.346\\nsamples = 9\\nvalue = [7, 2]'),\n",
       " Text(179.07408829174662, 119.07428571428571, 'gini = 0.0\\nsamples = 1\\nvalue = [0, 1]'),\n",
       " Text(185.9285988483685, 119.07428571428571, 'X[11] <= 0.456\\ngini = 0.219\\nsamples = 8\\nvalue = [7, 1]'),\n",
       " Text(182.50134357005757, 108.72, 'X[11] <= 0.248\\ngini = 0.444\\nsamples = 3\\nvalue = [2, 1]'),\n",
       " Text(179.07408829174662, 98.36571428571429, 'gini = 0.0\\nsamples = 1\\nvalue = [1, 0]'),\n",
       " Text(185.9285988483685, 98.36571428571429, 'X[10] <= -1.628\\ngini = 0.5\\nsamples = 2\\nvalue = [1, 1]'),\n",
       " Text(182.50134357005757, 88.01142857142858, 'gini = 0.0\\nsamples = 1\\nvalue = [1, 0]'),\n",
       " Text(189.35585412667945, 88.01142857142858, 'gini = 0.0\\nsamples = 1\\nvalue = [0, 1]'),\n",
       " Text(189.35585412667945, 108.72, 'gini = 0.0\\nsamples = 5\\nvalue = [5, 0]'),\n",
       " Text(179.07408829174662, 170.84571428571428, 'X[10] <= -1.372\\ngini = 0.278\\nsamples = 12\\nvalue = [2, 10]'),\n",
       " Text(175.6468330134357, 160.49142857142857, 'gini = 0.0\\nsamples = 1\\nvalue = [1, 0]'),\n",
       " Text(182.50134357005757, 160.49142857142857, 'X[11] <= -0.474\\ngini = 0.165\\nsamples = 11\\nvalue = [1, 10]'),\n",
       " Text(179.07408829174662, 150.13714285714286, 'gini = 0.5\\nsamples = 2\\nvalue = [1, 1]'),\n",
       " Text(185.9285988483685, 150.13714285714286, 'gini = 0.0\\nsamples = 9\\nvalue = [0, 9]'),\n",
       " Text(323.87562380038383, 181.2, 'X[10] <= 0.325\\ngini = 0.201\\nsamples = 308\\nvalue = [273, 35]'),\n",
       " Text(292.17351247600766, 170.84571428571428, 'X[10] <= 0.269\\ngini = 0.262\\nsamples = 187\\nvalue = [158, 29]'),\n",
       " Text(266.4690978886756, 160.49142857142857, 'X[7] <= 0.852\\ngini = 0.232\\nsamples = 172\\nvalue = [149, 23]'),\n",
       " Text(235.62380038387715, 150.13714285714286, 'X[11] <= -0.684\\ngini = 0.199\\nsamples = 152\\nvalue = [135, 17]'),\n",
       " Text(206.49213051823415, 139.78285714285715, 'X[10] <= -0.423\\ngini = 0.32\\nsamples = 40\\nvalue = [32, 8]'),\n",
       " Text(196.21036468330132, 129.42857142857144, 'X[11] <= -0.684\\ngini = 0.091\\nsamples = 21\\nvalue = [20, 1]'),\n",
       " Text(192.7831094049904, 119.07428571428571, 'gini = 0.0\\nsamples = 19\\nvalue = [19, 0]'),\n",
       " Text(199.63761996161227, 119.07428571428571, 'X[10] <= -0.557\\ngini = 0.5\\nsamples = 2\\nvalue = [1, 1]'),\n",
       " Text(196.21036468330132, 108.72, 'gini = 0.0\\nsamples = 1\\nvalue = [0, 1]'),\n",
       " Text(203.0648752399232, 108.72, 'gini = 0.0\\nsamples = 1\\nvalue = [1, 0]'),\n",
       " Text(216.77389635316698, 129.42857142857144, 'X[10] <= 0.116\\ngini = 0.465\\nsamples = 19\\nvalue = [12, 7]'),\n",
       " Text(213.34664107485602, 119.07428571428571, 'X[11] <= -0.732\\ngini = 0.498\\nsamples = 15\\nvalue = [8, 7]'),\n",
       " Text(209.9193857965451, 108.72, 'gini = 0.0\\nsamples = 2\\nvalue = [0, 2]'),\n",
       " Text(216.77389635316698, 108.72, 'X[10] <= 0.037\\ngini = 0.473\\nsamples = 13\\nvalue = [8, 5]'),\n",
       " Text(213.34664107485602, 98.36571428571429, 'X[0] <= 0.385\\ngini = 0.444\\nsamples = 12\\nvalue = [8, 4]'),\n",
       " Text(209.9193857965451, 88.01142857142858, 'X[10] <= -0.292\\ngini = 0.397\\nsamples = 11\\nvalue = [8, 3]'),\n",
       " Text(203.0648752399232, 77.65714285714284, 'X[11] <= -0.684\\ngini = 0.444\\nsamples = 3\\nvalue = [1, 2]'),\n",
       " Text(199.63761996161227, 67.30285714285714, 'gini = 0.0\\nsamples = 2\\nvalue = [0, 2]'),\n",
       " Text(206.49213051823415, 67.30285714285714, 'gini = 0.0\\nsamples = 1\\nvalue = [1, 0]'),\n",
       " Text(216.77389635316698, 77.65714285714284, 'X[11] <= -0.684\\ngini = 0.219\\nsamples = 8\\nvalue = [7, 1]'),\n",
       " Text(213.34664107485602, 67.30285714285714, 'gini = 0.0\\nsamples = 6\\nvalue = [6, 0]'),\n",
       " Text(220.2011516314779, 67.30285714285714, 'X[10] <= -0.043\\ngini = 0.5\\nsamples = 2\\nvalue = [1, 1]'),\n",
       " Text(216.77389635316698, 56.94857142857143, 'gini = 0.0\\nsamples = 1\\nvalue = [0, 1]'),\n",
       " Text(223.62840690978885, 56.94857142857143, 'gini = 0.0\\nsamples = 1\\nvalue = [1, 0]'),\n",
       " Text(216.77389635316698, 88.01142857142858, 'gini = 0.0\\nsamples = 1\\nvalue = [0, 1]'),\n",
       " Text(220.2011516314779, 98.36571428571429, 'gini = 0.0\\nsamples = 1\\nvalue = [0, 1]'),\n",
       " Text(220.2011516314779, 119.07428571428571, 'gini = 0.0\\nsamples = 4\\nvalue = [4, 0]'),\n",
       " Text(264.75547024952016, 139.78285714285715, 'X[11] <= 0.644\\ngini = 0.148\\nsamples = 112\\nvalue = [103, 9]'),\n",
       " Text(252.76007677543186, 129.42857142857144, 'X[10] <= 0.193\\ngini = 0.123\\nsamples = 106\\nvalue = [99, 7]'),\n",
       " Text(245.90556621880995, 119.07428571428571, 'X[11] <= -0.51\\ngini = 0.109\\nsamples = 104\\nvalue = [98, 6]'),\n",
       " Text(242.47831094049903, 108.72, 'X[11] <= -0.677\\ngini = 0.163\\nsamples = 67\\nvalue = [61, 6]'),\n",
       " Text(239.05105566218808, 98.36571428571429, 'gini = 0.0\\nsamples = 20\\nvalue = [20, 0]'),\n",
       " Text(245.90556621880995, 98.36571428571429, 'X[10] <= -0.649\\ngini = 0.223\\nsamples = 47\\nvalue = [41, 6]'),\n",
       " Text(237.3374280230326, 88.01142857142858, 'X[11] <= -0.672\\ngini = 0.332\\nsamples = 19\\nvalue = [15, 4]'),\n",
       " Text(233.91017274472168, 77.65714285714284, 'gini = 0.0\\nsamples = 1\\nvalue = [0, 1]'),\n",
       " Text(240.76468330134355, 77.65714285714284, 'X[11] <= -0.662\\ngini = 0.278\\nsamples = 18\\nvalue = [15, 3]'),\n",
       " Text(233.91017274472168, 67.30285714285714, 'X[10] <= -0.744\\ngini = 0.444\\nsamples = 6\\nvalue = [4, 2]'),\n",
       " Text(230.48291746641073, 56.94857142857143, 'X[10] <= -0.943\\ngini = 0.48\\nsamples = 5\\nvalue = [3, 2]'),\n",
       " Text(227.0556621880998, 46.59428571428572, 'gini = 0.444\\nsamples = 3\\nvalue = [2, 1]'),\n",
       " Text(233.91017274472168, 46.59428571428572, 'gini = 0.5\\nsamples = 2\\nvalue = [1, 1]'),\n",
       " Text(237.3374280230326, 56.94857142857143, 'gini = 0.0\\nsamples = 1\\nvalue = [1, 0]'),\n",
       " Text(247.61919385796543, 67.30285714285714, 'X[11] <= -0.543\\ngini = 0.153\\nsamples = 12\\nvalue = [11, 1]'),\n",
       " Text(244.1919385796545, 56.94857142857143, 'gini = 0.0\\nsamples = 9\\nvalue = [9, 0]'),\n",
       " Text(251.04644913627638, 56.94857142857143, 'X[10] <= -0.943\\ngini = 0.444\\nsamples = 3\\nvalue = [2, 1]'),\n",
       " Text(247.61919385796543, 46.59428571428572, 'gini = 0.0\\nsamples = 1\\nvalue = [1, 0]'),\n",
       " Text(254.4737044145873, 46.59428571428572, 'gini = 0.5\\nsamples = 2\\nvalue = [1, 1]'),\n",
       " Text(254.4737044145873, 88.01142857142858, 'X[10] <= -0.124\\ngini = 0.133\\nsamples = 28\\nvalue = [26, 2]'),\n",
       " Text(251.04644913627638, 77.65714285714284, 'gini = 0.0\\nsamples = 16\\nvalue = [16, 0]'),\n",
       " Text(257.90095969289825, 77.65714285714284, 'X[10] <= -0.043\\ngini = 0.278\\nsamples = 12\\nvalue = [10, 2]'),\n",
       " Text(254.4737044145873, 67.30285714285714, 'gini = 0.0\\nsamples = 1\\nvalue = [0, 1]'),\n",
       " Text(261.3282149712092, 67.30285714285714, 'X[11] <= -0.588\\ngini = 0.165\\nsamples = 11\\nvalue = [10, 1]'),\n",
       " Text(257.90095969289825, 56.94857142857143, 'gini = 0.0\\nsamples = 5\\nvalue = [5, 0]'),\n",
       " Text(264.75547024952016, 56.94857142857143, 'X[10] <= 0.037\\ngini = 0.278\\nsamples = 6\\nvalue = [5, 1]'),\n",
       " Text(261.3282149712092, 46.59428571428572, 'gini = 0.0\\nsamples = 3\\nvalue = [3, 0]'),\n",
       " Text(268.18272552783105, 46.59428571428572, 'X[2] <= -0.119\\ngini = 0.444\\nsamples = 3\\nvalue = [2, 1]'),\n",
       " Text(264.75547024952016, 36.24000000000001, 'gini = 0.0\\nsamples = 2\\nvalue = [2, 0]'),\n",
       " Text(271.609980806142, 36.24000000000001, 'gini = 0.0\\nsamples = 1\\nvalue = [0, 1]'),\n",
       " Text(249.3328214971209, 108.72, 'gini = 0.0\\nsamples = 37\\nvalue = [37, 0]'),\n",
       " Text(259.6145873320537, 119.07428571428571, 'X[11] <= -0.293\\ngini = 0.5\\nsamples = 2\\nvalue = [1, 1]'),\n",
       " Text(256.1873320537428, 108.72, 'gini = 0.0\\nsamples = 1\\nvalue = [0, 1]'),\n",
       " Text(263.04184261036465, 108.72, 'gini = 0.0\\nsamples = 1\\nvalue = [1, 0]'),\n",
       " Text(276.7508637236084, 129.42857142857144, 'X[11] <= 1.022\\ngini = 0.444\\nsamples = 6\\nvalue = [4, 2]'),\n",
       " Text(273.3236084452975, 119.07428571428571, 'X[10] <= -0.084\\ngini = 0.444\\nsamples = 3\\nvalue = [1, 2]'),\n",
       " Text(269.89635316698656, 108.72, 'gini = 0.0\\nsamples = 2\\nvalue = [0, 2]'),\n",
       " Text(276.7508637236084, 108.72, 'gini = 0.0\\nsamples = 1\\nvalue = [1, 0]'),\n",
       " Text(280.17811900191936, 119.07428571428571, 'gini = 0.0\\nsamples = 3\\nvalue = [3, 0]'),\n",
       " Text(297.31439539347406, 150.13714285714286, 'X[11] <= -0.078\\ngini = 0.42\\nsamples = 20\\nvalue = [14, 6]'),\n",
       " Text(293.8871401151631, 139.78285714285715, 'X[11] <= -0.308\\ngini = 0.469\\nsamples = 16\\nvalue = [10, 6]'),\n",
       " Text(290.4598848368522, 129.42857142857144, 'X[10] <= -0.896\\ngini = 0.408\\nsamples = 14\\nvalue = [10, 4]'),\n",
       " Text(287.03262955854126, 119.07428571428571, 'gini = 0.0\\nsamples = 2\\nvalue = [2, 0]'),\n",
       " Text(293.8871401151631, 119.07428571428571, 'X[11] <= -0.361\\ngini = 0.444\\nsamples = 12\\nvalue = [8, 4]'),\n",
       " Text(290.4598848368522, 108.72, 'X[11] <= -0.698\\ngini = 0.48\\nsamples = 10\\nvalue = [6, 4]'),\n",
       " Text(287.03262955854126, 98.36571428571429, 'X[10] <= -0.38\\ngini = 0.375\\nsamples = 8\\nvalue = [6, 2]'),\n",
       " Text(283.6053742802303, 88.01142857142858, 'X[11] <= -0.832\\ngini = 0.48\\nsamples = 5\\nvalue = [3, 2]'),\n",
       " Text(280.17811900191936, 77.65714285714284, 'gini = 0.0\\nsamples = 1\\nvalue = [1, 0]'),\n",
       " Text(287.03262955854126, 77.65714285714284, 'X[10] <= -0.603\\ngini = 0.5\\nsamples = 4\\nvalue = [2, 2]'),\n",
       " Text(283.6053742802303, 67.30285714285714, 'gini = 0.0\\nsamples = 1\\nvalue = [0, 1]'),\n",
       " Text(290.4598848368522, 67.30285714285714, 'X[11] <= -0.718\\ngini = 0.444\\nsamples = 3\\nvalue = [2, 1]'),\n",
       " Text(287.03262955854126, 56.94857142857143, 'gini = 0.0\\nsamples = 1\\nvalue = [0, 1]'),\n",
       " Text(293.8871401151631, 56.94857142857143, 'gini = 0.0\\nsamples = 2\\nvalue = [2, 0]'),\n",
       " Text(290.4598848368522, 88.01142857142858, 'gini = 0.0\\nsamples = 3\\nvalue = [3, 0]'),\n",
       " Text(293.8871401151631, 98.36571428571429, 'gini = 0.0\\nsamples = 2\\nvalue = [0, 2]'),\n",
       " Text(297.31439539347406, 108.72, 'gini = 0.0\\nsamples = 2\\nvalue = [2, 0]'),\n",
       " Text(297.31439539347406, 129.42857142857144, 'gini = 0.0\\nsamples = 2\\nvalue = [0, 2]'),\n",
       " Text(300.741650671785, 139.78285714285715, 'gini = 0.0\\nsamples = 4\\nvalue = [4, 0]'),\n",
       " Text(317.8779270633397, 160.49142857142857, 'X[11] <= -0.103\\ngini = 0.48\\nsamples = 15\\nvalue = [9, 6]'),\n",
       " Text(311.0234165067178, 150.13714285714286, 'X[8] <= 1.496\\ngini = 0.397\\nsamples = 11\\nvalue = [8, 3]'),\n",
       " Text(307.5961612284069, 139.78285714285715, 'X[11] <= -0.679\\ngini = 0.469\\nsamples = 8\\nvalue = [5, 3]'),\n",
       " Text(304.16890595009596, 129.42857142857144, 'gini = 0.0\\nsamples = 1\\nvalue = [0, 1]'),\n",
       " Text(311.0234165067178, 129.42857142857144, 'X[11] <= -0.66\\ngini = 0.408\\nsamples = 7\\nvalue = [5, 2]'),\n",
       " Text(307.5961612284069, 119.07428571428571, 'X[11] <= -0.672\\ngini = 0.48\\nsamples = 5\\nvalue = [3, 2]'),\n",
       " Text(304.16890595009596, 108.72, 'X[11] <= -0.677\\ngini = 0.375\\nsamples = 4\\nvalue = [3, 1]'),\n",
       " Text(300.741650671785, 98.36571428571429, 'gini = 0.0\\nsamples = 1\\nvalue = [1, 0]'),\n",
       " Text(307.5961612284069, 98.36571428571429, 'gini = 0.444\\nsamples = 3\\nvalue = [2, 1]'),\n",
       " Text(311.0234165067178, 108.72, 'gini = 0.0\\nsamples = 1\\nvalue = [0, 1]'),\n",
       " Text(314.45067178502876, 119.07428571428571, 'gini = 0.0\\nsamples = 2\\nvalue = [2, 0]'),\n",
       " Text(314.45067178502876, 139.78285714285715, 'gini = 0.0\\nsamples = 3\\nvalue = [3, 0]'),\n",
       " Text(324.7324376199616, 150.13714285714286, 'X[11] <= 1.061\\ngini = 0.375\\nsamples = 4\\nvalue = [1, 3]'),\n",
       " Text(321.30518234165066, 139.78285714285715, 'gini = 0.0\\nsamples = 3\\nvalue = [0, 3]'),\n",
       " Text(328.1596928982725, 139.78285714285715, 'gini = 0.0\\nsamples = 1\\nvalue = [1, 0]'),\n",
       " Text(355.57773512476007, 170.84571428571428, 'X[10] <= 1.165\\ngini = 0.094\\nsamples = 121\\nvalue = [115, 6]'),\n",
       " Text(352.1504798464491, 160.49142857142857, 'X[10] <= 0.771\\ngini = 0.147\\nsamples = 75\\nvalue = [69, 6]'),\n",
       " Text(338.44145873320537, 150.13714285714286, 'X[11] <= -0.431\\ngini = 0.046\\nsamples = 42\\nvalue = [41, 1]'),\n",
       " Text(335.0142034548944, 139.78285714285715, 'gini = 0.0\\nsamples = 28\\nvalue = [28, 0]'),\n",
       " Text(341.86871401151626, 139.78285714285715, 'X[11] <= -0.382\\ngini = 0.133\\nsamples = 14\\nvalue = [13, 1]'),\n",
       " Text(338.44145873320537, 129.42857142857144, 'gini = 0.444\\nsamples = 3\\nvalue = [2, 1]'),\n",
       " Text(345.2959692898272, 129.42857142857144, 'gini = 0.0\\nsamples = 11\\nvalue = [11, 0]'),\n",
       " Text(365.85950095969287, 150.13714285714286, 'X[9] <= -0.539\\ngini = 0.257\\nsamples = 33\\nvalue = [28, 5]'),\n",
       " Text(355.57773512476007, 139.78285714285715, 'X[10] <= 0.838\\ngini = 0.444\\nsamples = 6\\nvalue = [4, 2]'),\n",
       " Text(352.1504798464491, 129.42857142857144, 'gini = 0.0\\nsamples = 1\\nvalue = [0, 1]'),\n",
       " Text(359.00499040307096, 129.42857142857144, 'X[11] <= -0.037\\ngini = 0.32\\nsamples = 5\\nvalue = [4, 1]'),\n",
       " Text(355.57773512476007, 119.07428571428571, 'gini = 0.0\\nsamples = 4\\nvalue = [4, 0]'),\n",
       " Text(362.4322456813819, 119.07428571428571, 'gini = 0.0\\nsamples = 1\\nvalue = [0, 1]'),\n",
       " Text(376.14126679462566, 139.78285714285715, 'X[11] <= -0.389\\ngini = 0.198\\nsamples = 27\\nvalue = [24, 3]'),\n",
       " Text(372.71401151631477, 129.42857142857144, 'X[11] <= -0.677\\ngini = 0.291\\nsamples = 17\\nvalue = [14, 3]'),\n",
       " Text(369.2867562380038, 119.07428571428571, 'gini = 0.0\\nsamples = 6\\nvalue = [6, 0]'),\n",
       " Text(376.14126679462566, 119.07428571428571, 'X[11] <= -0.672\\ngini = 0.397\\nsamples = 11\\nvalue = [8, 3]'),\n",
       " Text(369.2867562380038, 108.72, 'X[10] <= 0.969\\ngini = 0.444\\nsamples = 3\\nvalue = [1, 2]'),\n",
       " Text(365.85950095969287, 98.36571428571429, 'gini = 0.5\\nsamples = 2\\nvalue = [1, 1]'),\n",
       " Text(372.71401151631477, 98.36571428571429, 'gini = 0.0\\nsamples = 1\\nvalue = [0, 1]'),\n",
       " Text(382.99577735124757, 108.72, 'X[3] <= 0.704\\ngini = 0.219\\nsamples = 8\\nvalue = [7, 1]'),\n",
       " Text(379.5685220729366, 98.36571428571429, 'gini = 0.0\\nsamples = 5\\nvalue = [5, 0]'),\n",
       " Text(386.4230326295585, 98.36571428571429, 'X[10] <= 0.904\\ngini = 0.444\\nsamples = 3\\nvalue = [2, 1]'),\n",
       " Text(382.99577735124757, 88.01142857142858, 'gini = 0.0\\nsamples = 1\\nvalue = [1, 0]'),\n",
       " Text(389.8502879078695, 88.01142857142858, 'gini = 0.5\\nsamples = 2\\nvalue = [1, 1]'),\n",
       " Text(379.5685220729366, 129.42857142857144, 'gini = 0.0\\nsamples = 10\\nvalue = [10, 0]'),\n",
       " Text(359.00499040307096, 160.49142857142857, 'gini = 0.0\\nsamples = 46\\nvalue = [46, 0]'),\n",
       " Text(406.9865642994242, 191.5542857142857, 'X[11] <= 0.087\\ngini = 0.451\\nsamples = 93\\nvalue = [61, 32]'),\n",
       " Text(403.5593090211132, 181.2, 'gini = 0.0\\nsamples = 7\\nvalue = [7, 0]'),\n",
       " Text(410.41381957773507, 181.2, 'X[11] <= 0.096\\ngini = 0.467\\nsamples = 86\\nvalue = [54, 32]'),\n",
       " Text(406.9865642994242, 170.84571428571428, 'gini = 0.0\\nsamples = 2\\nvalue = [0, 2]'),\n",
       " Text(413.841074856046, 170.84571428571428, 'X[11] <= 4.84\\ngini = 0.459\\nsamples = 84\\nvalue = [54, 30]'),\n",
       " Text(410.41381957773507, 160.49142857142857, 'X[11] <= 2.49\\ngini = 0.45\\nsamples = 82\\nvalue = [54, 28]'),\n",
       " Text(406.9865642994242, 150.13714285714286, 'X[1] <= 1.729\\ngini = 0.465\\nsamples = 76\\nvalue = [48, 28]'),\n",
       " Text(403.5593090211132, 139.78285714285715, 'X[10] <= -0.38\\ngini = 0.444\\nsamples = 72\\nvalue = [48, 24]'),\n",
       " Text(396.7047984644913, 129.42857142857144, 'X[11] <= 0.267\\ngini = 0.266\\nsamples = 19\\nvalue = [16, 3]'),\n",
       " Text(393.27754318618037, 119.07428571428571, 'X[11] <= 0.173\\ngini = 0.444\\nsamples = 9\\nvalue = [6, 3]'),\n",
       " Text(389.8502879078695, 108.72, 'gini = 0.0\\nsamples = 6\\nvalue = [6, 0]'),\n",
       " Text(396.7047984644913, 108.72, 'gini = 0.0\\nsamples = 3\\nvalue = [0, 3]'),\n",
       " Text(400.13205374280227, 119.07428571428571, 'gini = 0.0\\nsamples = 10\\nvalue = [10, 0]'),\n",
       " Text(410.41381957773507, 129.42857142857144, 'X[10] <= -0.043\\ngini = 0.478\\nsamples = 53\\nvalue = [32, 21]'),\n",
       " Text(406.9865642994242, 119.07428571428571, 'gini = 0.0\\nsamples = 5\\nvalue = [0, 5]'),\n",
       " Text(413.841074856046, 119.07428571428571, 'X[11] <= 0.119\\ngini = 0.444\\nsamples = 48\\nvalue = [32, 16]'),\n",
       " Text(406.9865642994242, 108.72, 'X[10] <= 1.708\\ngini = 0.49\\nsamples = 7\\nvalue = [3, 4]'),\n",
       " Text(403.5593090211132, 98.36571428571429, 'X[10] <= 1.29\\ngini = 0.32\\nsamples = 5\\nvalue = [1, 4]'),\n",
       " Text(400.13205374280227, 88.01142857142858, 'X[10] <= 0.597\\ngini = 0.444\\nsamples = 3\\nvalue = [1, 2]'),\n",
       " Text(396.7047984644913, 77.65714285714284, 'gini = 0.0\\nsamples = 1\\nvalue = [0, 1]'),\n",
       " Text(403.5593090211132, 77.65714285714284, 'gini = 0.5\\nsamples = 2\\nvalue = [1, 1]'),\n",
       " Text(406.9865642994242, 88.01142857142858, 'gini = 0.0\\nsamples = 2\\nvalue = [0, 2]'),\n",
       " Text(410.41381957773507, 98.36571428571429, 'gini = 0.0\\nsamples = 2\\nvalue = [2, 0]'),\n",
       " Text(420.6955854126679, 108.72, 'X[11] <= 2.057\\ngini = 0.414\\nsamples = 41\\nvalue = [29, 12]'),\n",
       " Text(417.268330134357, 98.36571428571429, 'X[10] <= 2.02\\ngini = 0.399\\nsamples = 40\\nvalue = [29, 11]'),\n",
       " Text(413.841074856046, 88.01142857142858, 'X[10] <= 0.193\\ngini = 0.381\\nsamples = 39\\nvalue = [29, 10]'),\n",
       " Text(410.41381957773507, 77.65714285714284, 'gini = 0.0\\nsamples = 5\\nvalue = [5, 0]'),\n",
       " Text(417.268330134357, 77.65714285714284, 'X[10] <= 0.87\\ngini = 0.415\\nsamples = 34\\nvalue = [24, 10]'),\n",
       " Text(408.7001919385796, 67.30285714285714, 'X[11] <= 0.79\\ngini = 0.5\\nsamples = 10\\nvalue = [5, 5]'),\n",
       " Text(401.8456813819577, 56.94857142857143, 'X[11] <= 0.358\\ngini = 0.444\\nsamples = 6\\nvalue = [4, 2]'),\n",
       " Text(398.4184261036468, 46.59428571428572, 'X[10] <= 0.632\\ngini = 0.444\\nsamples = 3\\nvalue = [1, 2]'),\n",
       " Text(394.99117082533587, 36.24000000000001, 'gini = 0.0\\nsamples = 2\\nvalue = [0, 2]'),\n",
       " Text(401.8456813819577, 36.24000000000001, 'gini = 0.0\\nsamples = 1\\nvalue = [1, 0]'),\n",
       " Text(405.27293666026867, 46.59428571428572, 'gini = 0.0\\nsamples = 3\\nvalue = [3, 0]'),\n",
       " Text(415.5547024952015, 56.94857142857143, 'X[10] <= 0.632\\ngini = 0.375\\nsamples = 4\\nvalue = [1, 3]'),\n",
       " Text(412.1274472168906, 46.59428571428572, 'X[11] <= 1.117\\ngini = 0.5\\nsamples = 2\\nvalue = [1, 1]'),\n",
       " Text(408.7001919385796, 36.24000000000001, 'gini = 0.0\\nsamples = 1\\nvalue = [0, 1]'),\n",
       " Text(415.5547024952015, 36.24000000000001, 'gini = 0.0\\nsamples = 1\\nvalue = [1, 0]'),\n",
       " Text(418.9819577735124, 46.59428571428572, 'gini = 0.0\\nsamples = 2\\nvalue = [0, 2]'),\n",
       " Text(425.8364683301343, 67.30285714285714, 'X[10] <= 1.352\\ngini = 0.33\\nsamples = 24\\nvalue = [19, 5]'),\n",
       " Text(422.4092130518234, 56.94857142857143, 'gini = 0.0\\nsamples = 9\\nvalue = [9, 0]'),\n",
       " Text(429.2637236084453, 56.94857142857143, 'X[10] <= 1.413\\ngini = 0.444\\nsamples = 15\\nvalue = [10, 5]'),\n",
       " Text(425.8364683301343, 46.59428571428572, 'gini = 0.0\\nsamples = 2\\nvalue = [0, 2]'),\n",
       " Text(432.6909788867562, 46.59428571428572, 'X[1] <= 0.228\\ngini = 0.355\\nsamples = 13\\nvalue = [10, 3]'),\n",
       " Text(429.2637236084453, 36.24000000000001, 'X[9] <= -0.539\\ngini = 0.444\\nsamples = 9\\nvalue = [6, 3]'),\n",
       " Text(418.9819577735124, 25.8857142857143, 'X[11] <= 0.283\\ngini = 0.5\\nsamples = 4\\nvalue = [2, 2]'),\n",
       " Text(415.5547024952015, 15.531428571428563, 'gini = 0.0\\nsamples = 1\\nvalue = [1, 0]'),\n",
       " Text(422.4092130518234, 15.531428571428563, 'X[11] <= 1.669\\ngini = 0.444\\nsamples = 3\\nvalue = [1, 2]'),\n",
       " Text(418.9819577735124, 5.177142857142854, 'gini = 0.0\\nsamples = 2\\nvalue = [0, 2]'),\n",
       " Text(425.8364683301343, 5.177142857142854, 'gini = 0.0\\nsamples = 1\\nvalue = [1, 0]'),\n",
       " Text(439.5454894433781, 25.8857142857143, 'X[11] <= 0.231\\ngini = 0.32\\nsamples = 5\\nvalue = [4, 1]'),\n",
       " Text(436.1182341650671, 15.531428571428563, 'X[10] <= 1.709\\ngini = 0.5\\nsamples = 2\\nvalue = [1, 1]'),\n",
       " Text(432.6909788867562, 5.177142857142854, 'gini = 0.0\\nsamples = 1\\nvalue = [0, 1]'),\n",
       " Text(439.5454894433781, 5.177142857142854, 'gini = 0.0\\nsamples = 1\\nvalue = [1, 0]'),\n",
       " Text(442.972744721689, 15.531428571428563, 'gini = 0.0\\nsamples = 3\\nvalue = [3, 0]'),\n",
       " Text(436.1182341650671, 36.24000000000001, 'gini = 0.0\\nsamples = 4\\nvalue = [4, 0]'),\n",
       " Text(420.6955854126679, 88.01142857142858, 'gini = 0.0\\nsamples = 1\\nvalue = [0, 1]'),\n",
       " Text(424.1228406909789, 98.36571428571429, 'gini = 0.0\\nsamples = 1\\nvalue = [0, 1]'),\n",
       " Text(410.41381957773507, 139.78285714285715, 'gini = 0.0\\nsamples = 4\\nvalue = [0, 4]'),\n",
       " Text(413.841074856046, 150.13714285714286, 'gini = 0.0\\nsamples = 6\\nvalue = [6, 0]'),\n",
       " Text(417.268330134357, 160.49142857142857, 'gini = 0.0\\nsamples = 2\\nvalue = [0, 2]')]"
      ]
     },
     "execution_count": 654,
     "metadata": {},
     "output_type": "execute_result"
    },
    {
     "data": {
      "image/png": "[encoded data removed]",
      "text/plain": [
       "<Figure size 576x288 with 1 Axes>"
      ]
     },
     "metadata": {},
     "output_type": "display_data"
    }
   ],
   "source": [
    "tree.plot_tree(clf) "
   ]
  },
  {
   "cell_type": "code",
   "execution_count": null,
   "id": "endangered-editor",
   "metadata": {},
   "outputs": [],
   "source": []
  }
 ],
 "metadata": {
  "kernelspec": {
   "display_name": "Python 3",
   "language": "python",
   "name": "python3"
  },
  "language_info": {
   "codemirror_mode": {
    "name": "ipython",
    "version": 3
   },
   "file_extension": ".py",
   "mimetype": "text/x-python",
   "name": "python",
   "nbconvert_exporter": "python",
   "pygments_lexer": "ipython3",
   "version": "3.8.5"
  }
 },
 "nbformat": 4,
 "nbformat_minor": 5
}
